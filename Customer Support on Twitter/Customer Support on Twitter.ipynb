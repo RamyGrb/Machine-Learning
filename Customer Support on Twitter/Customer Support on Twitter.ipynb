{
 "cells": [
  {
   "cell_type": "markdown",
   "metadata": {},
   "source": [
    "# Customer Support on Twitter\n",
    "\n",
    "Author: Ramy Ghorayeb\n",
    "    \n",
    "Access the competition and download the dataset [here](https://www.kaggle.com/thoughtvector/customer-support-on-twitter#sample.csv)"
   ]
  },
  {
   "cell_type": "markdown",
   "metadata": {},
   "source": [
    "## Data Exploration"
   ]
  },
  {
   "cell_type": "markdown",
   "metadata": {},
   "source": [
    "### Sample discovery"
   ]
  },
  {
   "cell_type": "code",
   "execution_count": 1,
   "metadata": {},
   "outputs": [],
   "source": [
    "import numpy as np\n",
    "import pandas as pd\n",
    "import matplotlib.pyplot as plt\n",
    "%matplotlib inline\n",
    "import seaborn as sns"
   ]
  },
  {
   "cell_type": "code",
   "execution_count": 2,
   "metadata": {},
   "outputs": [],
   "source": [
    "sample = pd.read_csv('data/sample.csv')"
   ]
  },
  {
   "cell_type": "code",
   "execution_count": 3,
   "metadata": {},
   "outputs": [
    {
     "name": "stdout",
     "output_type": "stream",
     "text": [
      "<class 'pandas.core.frame.DataFrame'>\n",
      "RangeIndex: 93 entries, 0 to 92\n",
      "Data columns (total 7 columns):\n",
      "tweet_id                   93 non-null int64\n",
      "author_id                  93 non-null object\n",
      "inbound                    93 non-null bool\n",
      "created_at                 93 non-null object\n",
      "text                       93 non-null object\n",
      "response_tweet_id          65 non-null object\n",
      "in_response_to_tweet_id    68 non-null float64\n",
      "dtypes: bool(1), float64(1), int64(1), object(4)\n",
      "memory usage: 4.5+ KB\n"
     ]
    }
   ],
   "source": [
    "sample.info()"
   ]
  },
  {
   "cell_type": "code",
   "execution_count": 18,
   "metadata": {},
   "outputs": [
    {
     "data": {
      "text/html": [
       "<div>\n",
       "<style scoped>\n",
       "    .dataframe tbody tr th:only-of-type {\n",
       "        vertical-align: middle;\n",
       "    }\n",
       "\n",
       "    .dataframe tbody tr th {\n",
       "        vertical-align: top;\n",
       "    }\n",
       "\n",
       "    .dataframe thead th {\n",
       "        text-align: right;\n",
       "    }\n",
       "</style>\n",
       "<table border=\"1\" class=\"dataframe\">\n",
       "  <thead>\n",
       "    <tr style=\"text-align: right;\">\n",
       "      <th></th>\n",
       "      <th>tweet_id</th>\n",
       "      <th>author_id</th>\n",
       "      <th>inbound</th>\n",
       "      <th>created_at</th>\n",
       "      <th>text</th>\n",
       "      <th>response_tweet_id</th>\n",
       "      <th>in_response_to_tweet_id</th>\n",
       "    </tr>\n",
       "  </thead>\n",
       "  <tbody>\n",
       "    <tr>\n",
       "      <th>0</th>\n",
       "      <td>119237</td>\n",
       "      <td>105834</td>\n",
       "      <td>True</td>\n",
       "      <td>Wed Oct 11 06:55:44 +0000 2017</td>\n",
       "      <td>@AppleSupport causing the reply to be disregar...</td>\n",
       "      <td>119236</td>\n",
       "      <td>NaN</td>\n",
       "    </tr>\n",
       "    <tr>\n",
       "      <th>1</th>\n",
       "      <td>119238</td>\n",
       "      <td>ChaseSupport</td>\n",
       "      <td>False</td>\n",
       "      <td>Wed Oct 11 13:25:49 +0000 2017</td>\n",
       "      <td>@105835 Your business means a lot to us. Pleas...</td>\n",
       "      <td>NaN</td>\n",
       "      <td>119239.0</td>\n",
       "    </tr>\n",
       "    <tr>\n",
       "      <th>2</th>\n",
       "      <td>119239</td>\n",
       "      <td>105835</td>\n",
       "      <td>True</td>\n",
       "      <td>Wed Oct 11 13:00:09 +0000 2017</td>\n",
       "      <td>@76328 I really hope you all change but I'm su...</td>\n",
       "      <td>119238</td>\n",
       "      <td>NaN</td>\n",
       "    </tr>\n",
       "    <tr>\n",
       "      <th>3</th>\n",
       "      <td>119240</td>\n",
       "      <td>VirginTrains</td>\n",
       "      <td>False</td>\n",
       "      <td>Tue Oct 10 15:16:08 +0000 2017</td>\n",
       "      <td>@105836 LiveChat is online at the moment - htt...</td>\n",
       "      <td>119241</td>\n",
       "      <td>119242.0</td>\n",
       "    </tr>\n",
       "    <tr>\n",
       "      <th>4</th>\n",
       "      <td>119241</td>\n",
       "      <td>105836</td>\n",
       "      <td>True</td>\n",
       "      <td>Tue Oct 10 15:17:21 +0000 2017</td>\n",
       "      <td>@VirginTrains see attached error message. I've...</td>\n",
       "      <td>119243</td>\n",
       "      <td>119240.0</td>\n",
       "    </tr>\n",
       "    <tr>\n",
       "      <th>5</th>\n",
       "      <td>119243</td>\n",
       "      <td>VirginTrains</td>\n",
       "      <td>False</td>\n",
       "      <td>Tue Oct 10 15:25:14 +0000 2017</td>\n",
       "      <td>@105836 Have you tried from another device, Mi...</td>\n",
       "      <td>119244</td>\n",
       "      <td>119241.0</td>\n",
       "    </tr>\n",
       "  </tbody>\n",
       "</table>\n",
       "</div>"
      ],
      "text/plain": [
       "   tweet_id     author_id  inbound                      created_at  \\\n",
       "0    119237        105834     True  Wed Oct 11 06:55:44 +0000 2017   \n",
       "1    119238  ChaseSupport    False  Wed Oct 11 13:25:49 +0000 2017   \n",
       "2    119239        105835     True  Wed Oct 11 13:00:09 +0000 2017   \n",
       "3    119240  VirginTrains    False  Tue Oct 10 15:16:08 +0000 2017   \n",
       "4    119241        105836     True  Tue Oct 10 15:17:21 +0000 2017   \n",
       "5    119243  VirginTrains    False  Tue Oct 10 15:25:14 +0000 2017   \n",
       "\n",
       "                                                text response_tweet_id  \\\n",
       "0  @AppleSupport causing the reply to be disregar...            119236   \n",
       "1  @105835 Your business means a lot to us. Pleas...               NaN   \n",
       "2  @76328 I really hope you all change but I'm su...            119238   \n",
       "3  @105836 LiveChat is online at the moment - htt...            119241   \n",
       "4  @VirginTrains see attached error message. I've...            119243   \n",
       "5  @105836 Have you tried from another device, Mi...            119244   \n",
       "\n",
       "   in_response_to_tweet_id  \n",
       "0                      NaN  \n",
       "1                 119239.0  \n",
       "2                      NaN  \n",
       "3                 119242.0  \n",
       "4                 119240.0  \n",
       "5                 119241.0  "
      ]
     },
     "execution_count": 18,
     "metadata": {},
     "output_type": "execute_result"
    }
   ],
   "source": [
    "sample.loc[:5]"
   ]
  },
  {
   "cell_type": "code",
   "execution_count": 19,
   "metadata": {},
   "outputs": [
    {
     "name": "stdout",
     "output_type": "stream",
     "text": [
      "# Author : 105834 -- @AppleSupport causing the reply to be disregarded and the tapped notification under the keyboard is opened😡😡😡\n",
      "# Author : ChaseSupport -- @105835 Your business means a lot to us. Please DM your name, zip code and additional details about your concern. ^RR https://t.co/znUu1VJn9r\n",
      "# Author : 105835 -- @76328 I really hope you all change but I'm sure you won't! Because you don't have to!\n",
      "# Author : VirginTrains -- @105836 LiveChat is online at the moment - https://t.co/SY94VtU8Kq or contact 03331 031 031 option 1, 4, 3 (Leave a message) to request a call back\n",
      "# Author : 105836 -- @VirginTrains see attached error message. I've tried leaving a voicemail several times in the past week https://t.co/NxVZjlYx1k\n",
      "# Author : VirginTrains -- @105836 Have you tried from another device, Miriam ^MM\n"
     ]
    }
   ],
   "source": [
    "for i in sample.loc[:5][['author_id','text']].iterrows():\n",
    "    print('# Author :',i[1][0],'--',i[1][1])"
   ]
  },
  {
   "cell_type": "markdown",
   "metadata": {},
   "source": [
    "### Dataset Exploration"
   ]
  },
  {
   "cell_type": "code",
   "execution_count": 4,
   "metadata": {},
   "outputs": [],
   "source": [
    "data = pd.read_csv('data/twcs.zip', compression='zip')"
   ]
  },
  {
   "cell_type": "code",
   "execution_count": 5,
   "metadata": {
    "scrolled": true
   },
   "outputs": [],
   "source": [
    "companies = data[data['author_id'].apply(lambda x:not x.isdigit())]"
   ]
  },
  {
   "cell_type": "code",
   "execution_count": 6,
   "metadata": {
    "scrolled": true
   },
   "outputs": [
    {
     "data": {
      "text/plain": [
       "<matplotlib.axes._subplots.AxesSubplot at 0x1a5ed35e80>"
      ]
     },
     "execution_count": 6,
     "metadata": {},
     "output_type": "execute_result"
    },
    {
     "data": {
      "image/png": "[encoded data removed]",
      "text/plain": [
       "<Figure size 432x288 with 1 Axes>"
      ]
     },
     "metadata": {
      "needs_background": "light"
     },
     "output_type": "display_data"
    }
   ],
   "source": [
    "companies_count = companies.groupby(['author_id']).count()\n",
    "\n",
    "companies_count[companies_count['tweet_id']>20000]['tweet_id'].sort_values().plot(kind='barh')"
   ]
  },
  {
   "cell_type": "markdown",
   "metadata": {},
   "source": [
    "Let's focus on AmazonHelp customer support for this exercise"
   ]
  },
  {
   "cell_type": "code",
   "execution_count": 343,
   "metadata": {},
   "outputs": [
    {
     "name": "stderr",
     "output_type": "stream",
     "text": [
      "/anaconda3/lib/python3.6/site-packages/ipykernel_launcher.py:4: UserWarning: Boolean Series key will be reindexed to match DataFrame index.\n",
      "  after removing the cwd from sys.path.\n"
     ]
    }
   ],
   "source": [
    "# Get only AmazonHelp related tweets\n",
    "\n",
    "data_am_supp = data[data['author_id']=='AmazonHelp']\n",
    "data_am_cust = data[data['text'].str.contains('@AmazonHelp')][data['author_id']!='AmazonHelp']\n",
    "\n",
    "data_am = data_am_supp.merge(data_am_cust,how='outer')\n",
    "\n",
    "data_am.to_csv('data/data_AmazonHelp.csv',index=False)"
   ]
  },
  {
   "cell_type": "markdown",
   "metadata": {},
   "source": [
    "### AmazonHelp customer"
   ]
  },
  {
   "cell_type": "markdown",
   "metadata": {},
   "source": [
    "**Emoji analysis**"
   ]
  },
  {
   "cell_type": "code",
   "execution_count": 227,
   "metadata": {},
   "outputs": [],
   "source": [
    "data_am = pd.read_csv('data/data_AmazonHelp.csv')\n",
    "data_am_cust = data[data['text'].str.contains('@AmazonHelp')][data['author_id']!='AmazonHelp']"
   ]
  },
  {
   "cell_type": "code",
   "execution_count": 284,
   "metadata": {
    "scrolled": false
   },
   "outputs": [
    {
     "name": "stderr",
     "output_type": "stream",
     "text": [
      "| | #                                            | 134732 Elapsed Time: 0:00:36\n"
     ]
    }
   ],
   "source": [
    "bool_am_emo = [len(list( set(i[1][4]) & set(emoji.UNICODE_EMOJI.keys()) ))>0\n",
    "               for i in progressbar.progressbar(data_am_cust.iterrows())]\n",
    "\n",
    "data_am_cust[bool_am_emo].to_csv('data/data_AmazonHelp_withEmojis.csv')\n"
   ]
  },
  {
   "cell_type": "code",
   "execution_count": 221,
   "metadata": {},
   "outputs": [],
   "source": [
    "data_am_cust = pd.read_csv('data/data_AmazonHelp_withEmojis.csv')"
   ]
  },
  {
   "cell_type": "code",
   "execution_count": 287,
   "metadata": {},
   "outputs": [],
   "source": [
    "def emoji_count(data,filter_company):\n",
    "    count = {}\n",
    "    for s in data[data['author_id']!=filter_company]['text']:\n",
    "        for c in list(s):\n",
    "            if c in emoji.UNICODE_EMOJI.keys():\n",
    "                if c not in count.keys():\n",
    "                    count[c] = 1\n",
    "                else:\n",
    "                    count[c] += 1\n",
    "    return count"
   ]
  },
  {
   "cell_type": "code",
   "execution_count": 288,
   "metadata": {},
   "outputs": [],
   "source": [
    "count_emoji = emoji_count(data_am_cust[bool_am_emo],filter_company='AmazonHelp')\n",
    "list_emoji = [list(i) for i in count_emoji.items()]\n",
    "list_emoji.sort(key=lambda x:x[1], reverse=True)\n",
    "list_emoji = np.array(list_emoji)"
   ]
  },
  {
   "cell_type": "code",
   "execution_count": 308,
   "metadata": {
    "scrolled": true
   },
   "outputs": [
    {
     "name": "stdout",
     "output_type": "stream",
     "text": [
      "[['😡' '1051']\n",
      " ['😂' '1020']\n",
      " ['😊' '622']\n",
      " ['👍' '609']\n",
      " ['🤔' '472']\n",
      " ['❤' '414']\n",
      " ['😍' '411']\n",
      " ['😭' '392']\n",
      " ['🙄' '346']\n",
      " ['😉' '315']]\n"
     ]
    },
    {
     "data": {
      "text/plain": [
       "<BarContainer object of 10 artists>"
      ]
     },
     "execution_count": 308,
     "metadata": {},
     "output_type": "execute_result"
    },
    {
     "data": {
      "image/png": "[encoded data removed]",
      "text/plain": [
       "<Figure size 1080x432 with 1 Axes>"
      ]
     },
     "metadata": {
      "needs_background": "light"
     },
     "output_type": "display_data"
    }
   ],
   "source": [
    "print(list_emoji[:10])\n",
    "\n",
    "fig = plt.figure(figsize=(15,6))\n",
    "ax1 = fig.add_subplot(111)\n",
    "ax1.barh(list_emoji[:10].T[0],list_emoji[:10].T[1])"
   ]
  },
  {
   "cell_type": "markdown",
   "metadata": {},
   "source": [
    "Aside from the complains (ordinary for a customer support), if not sarcasm, amazon seems like a funny company!\n",
    "\n",
    "To start digging into the data, let's do a sentiment analysis on the tweets."
   ]
  },
  {
   "cell_type": "markdown",
   "metadata": {},
   "source": [
    "**Sentiment analysis preprocessing: filter language**"
   ]
  },
  {
   "cell_type": "code",
   "execution_count": 344,
   "metadata": {},
   "outputs": [
    {
     "name": "stderr",
     "output_type": "stream",
     "text": [
      "/anaconda3/lib/python3.6/site-packages/IPython/core/interactiveshell.py:3049: DtypeWarning: Columns (0,1,2,3,4,5) have mixed types. Specify dtype option on import or set low_memory=False.\n",
      "  interactivity=interactivity, compiler=compiler, result=result)\n"
     ]
    }
   ],
   "source": [
    "import numpy as np\n",
    "import pandas as pd\n",
    "import matplotlib.pyplot as plt\n",
    "%matplotlib inline\n",
    "import seaborn as sns\n",
    "\n",
    "data_am = pd.read_csv('data/data_AmazonHelp.csv')"
   ]
  },
  {
   "cell_type": "code",
   "execution_count": 8,
   "metadata": {},
   "outputs": [],
   "source": [
    "# We turn tweets with no language to english\n",
    "\n",
    "from langdetect import detect\n",
    "import time\n",
    "import progressbar\n",
    "\n",
    "def lang_detection(data_am):\n",
    "    print('dataset size: ',len(data_am))\n",
    "    lang = pd.DataFrame(columns=['tweet_id','language'])\n",
    "    \n",
    "    for elmt in progressbar.progressbar(data_am.iterrows()):\n",
    "        try:\n",
    "            lang = lang.append({'tweet_id':elmt[1][1],'language':detect(elmt[1][5])},ignore_index=True)\n",
    "        except:\n",
    "            lang = lang.append({'tweet_id':elmt[1][1],'language':'universal'},ignore_index=True)\n",
    "    return lang"
   ]
  },
  {
   "cell_type": "code",
   "execution_count": null,
   "metadata": {
    "scrolled": false
   },
   "outputs": [
    {
     "name": "stdout",
     "output_type": "stream",
     "text": [
      "dataset size:  615585\n"
     ]
    },
    {
     "name": "stderr",
     "output_type": "stream",
     "text": [
      "| |  #                                           | 615584 Elapsed Time: 7:44:44\n"
     ]
    }
   ],
   "source": [
    "lang = lang_detection(data_am)\n",
    "data_am = data_am.merge(lang, how='inner',on='tweet_id')\n",
    "data_am.to_csv('data/data_AmazonHelp_lang.csv',index=False)"
   ]
  },
  {
   "cell_type": "code",
   "execution_count": 9,
   "metadata": {},
   "outputs": [],
   "source": [
    "# Filter to English only\n",
    "data_am = pd.read_csv('data/data_AmazonHelp_lang.csv')\n",
    "data_am = data_am[data_am['language'].isin(['en','universal'])]\n",
    "data_am.to_csv('data/data_AmazonHelp_en.csv',index=False)"
   ]
  },
  {
   "cell_type": "markdown",
   "metadata": {},
   "source": [
    "The data is not labelled so we cannot do any supervised model on it right now. Let's roughly use the emojis to classify the data between positive and negative comment and use it as training labelled data."
   ]
  },
  {
   "cell_type": "markdown",
   "metadata": {},
   "source": [
    "**Sentiment analysis preprocessing: create training dataset for supervised classification**"
   ]
  },
  {
   "cell_type": "code",
   "execution_count": 359,
   "metadata": {},
   "outputs": [],
   "source": [
    "import numpy as np\n",
    "import pandas as pd\n",
    "import matplotlib.pyplot as plt\n",
    "%matplotlib inline\n",
    "import seaborn as sns\n",
    "\n",
    "data_am = pd.read_csv('data/data_AmazonHelp_en.csv')\n",
    "data_am = data_am.drop(['language','Unnamed: 0','Unnamed: 0.1','Unnamed: 0.1.1'],axis=1)\n"
   ]
  },
  {
   "cell_type": "code",
   "execution_count": 11,
   "metadata": {},
   "outputs": [],
   "source": [
    "import emoji\n",
    "\n",
    "def has_emoji(text):\n",
    "    for character in text:\n",
    "        if character in emoji.UNICODE_EMOJI:\n",
    "            return True\n",
    "    return False"
   ]
  },
  {
   "cell_type": "code",
   "execution_count": 12,
   "metadata": {},
   "outputs": [],
   "source": [
    "#filter comments with emojis\n",
    "data_am['emoji'] = data_am['text'].apply(lambda x:has_emoji(x))\n",
    "data_emo = data_am[data_am['emoji'] == True]\n",
    "data_emo = data_emo.drop('emoji',axis=1)"
   ]
  },
  {
   "cell_type": "code",
   "execution_count": 13,
   "metadata": {},
   "outputs": [],
   "source": [
    "# positive or negative\n",
    "\n",
    "def sent_emoj(text):\n",
    "    pos = '😀,😁,😃,😄,😊,😋,😎,😍,😘,🥰,😗,😙,😚,☺️,🙂,🤗,🤩,😌,🤤,🥳,💫,⭐️,☀️,🌞,🌝,🏆,🥇,❤️,🧡,💛,💚,💙,💜,🖤,❣️,💕,💞,💓,💗,💖,💘,💝,💟,💯,🎵,🎶,👍,🎀,🎊,🎉'.split(',')\n",
    "    neg = '🤔,🤨,😐,😑,😶,🙄,😣,😥,🤐,😪,😫,😴,😒,😓,😔,😕,☹️,🙁,😖,😞,😟,😤,😢,😭,😦,😧,😨,😩,🤯,😰,😱,🥵,🥶,😳,😵,😡,😠,🤬,😷,🤒,🤕,🤢,🤮,🤧,🤥,👿,💀,💩,🖕,👎,🌪,🌧,⛈,🌩,💣,🔪,⚰️,❌,⛔️,📛,🚫,⁉️'.split(',')    \n",
    "    sentiment = 0\n",
    "    for character in text:\n",
    "        if character in pos:\n",
    "            sentiment+=1\n",
    "        if character in neg:\n",
    "            sentiment-=1\n",
    "    if sentiment>0:\n",
    "        return 1\n",
    "    if sentiment<0:\n",
    "        return -1\n",
    "    if sentiment==0:\n",
    "        return 0"
   ]
  },
  {
   "cell_type": "code",
   "execution_count": 14,
   "metadata": {},
   "outputs": [],
   "source": [
    "data_emo['sentiment'] = data_am['text'].apply(lambda x:sent_emoj(x))\n",
    "data_emo.to_csv('data/data_AmazonHelp_en_emoj.csv',index=False)"
   ]
  },
  {
   "cell_type": "code",
   "execution_count": 363,
   "metadata": {},
   "outputs": [
    {
     "name": "stdout",
     "output_type": "stream",
     "text": [
      "size of the labelled dataset:  87\n"
     ]
    }
   ],
   "source": [
    "print('size of the labelled dataset: ',len(data_emo))"
   ]
  },
  {
   "cell_type": "markdown",
   "metadata": {},
   "source": [
    "That's not enough data. We will need to use an out-of-the-box solution or do transfer learning if we want to build a model."
   ]
  },
  {
   "cell_type": "markdown",
   "metadata": {},
   "source": [
    "**Sentiment analysis using VADER**"
   ]
  },
  {
   "cell_type": "code",
   "execution_count": 449,
   "metadata": {},
   "outputs": [],
   "source": [
    "import math\n",
    "from vaderSentiment.vaderSentiment import SentimentIntensityAnalyzer\n",
    "\n",
    "sentiment = SentimentIntensityAnalyzer()\n",
    "data_emo['vader_sentiment'] = data_emo.text.apply(lambda x:round(sentiment.polarity_scores(x)['compound']))"
   ]
  },
  {
   "cell_type": "code",
   "execution_count": 455,
   "metadata": {},
   "outputs": [
    {
     "name": "stdout",
     "output_type": "stream",
     "text": [
      "# sentiment by emoji:  0 , by vader:  1 \n",
      " @117091 We know not having service is ruff, but dogs make everything better! 🐶  ^HM\n",
      "# sentiment by emoji:  0 , by vader:  1 \n",
      " @120467 Thank you for showing the interest towards our device. Good things come to those who wait. 😇 (1/2)^HR\n",
      "# sentiment by emoji:  1 , by vader:  0 \n",
      " @122516 You're welcome!😁 ^AX\n",
      "# sentiment by emoji:  1 , by vader:  0 \n",
      " @125704 😆👍💕\n",
      "# sentiment by emoji:  1 , by vader:  0 \n",
      " @130298 Que lindooooooo o box do Sherlock Holmes! 😍📚 ^JJ\n",
      "# sentiment by emoji:  1 , by vader:  0 \n",
      " @133294 😄😄\n",
      "# sentiment by emoji:  1 , by vader:  -1 \n",
      " @133889 No worries at all, Fenestro. If you ever have any further questions, you know where to find us 😊^SM\n",
      "# sentiment by emoji:  1 , by vader:  0 \n",
      " @133898 Hi, payment isn't taken until the order has been dispatched. So there is no need to worry 🙂 ^KI\n",
      "# sentiment by emoji:  1 , by vader:  -1 \n",
      " @133914 No problem at all! We have your back! 👍 ^KI\n",
      "# sentiment by emoji:  1 , by vader:  0 \n",
      " @134499 Hi Alex, you can find some helpful information via the links here: https://t.co/flWcQ9W7FM 😊^TS\n",
      "# sentiment by emoji:  1 , by vader:  0 \n",
      " @134830 This deserves a round of appaws! 😁🐶❤️ ^TH\n",
      "# sentiment by emoji:  1 , by vader:  0 \n",
      " @137138 Glad to hear, Aslin. Just give us another shout if you ever need anything else 🙂^SM\n",
      "# sentiment by emoji:  0 , by vader:  1 \n",
      " @139819 I can't promise it will help with your class, but there is a statistics skill you can add! 📈 We have a variety of skills to expand the things Alexa can help with. Additional details can be found here: https://t.co/8kx4Fcgl2G ^MB\n",
      "# sentiment by emoji:  0 , by vader:  1 \n",
      " @142684 I agree. It's always great to think outside the box! (See what I did there?) 😉 ^HC\n",
      "# sentiment by emoji:  0 , by vader:  1 \n",
      " @144758 That's sweet! Say hello to Prince and Alexa from us. 🐱 ^SY\n",
      "# sentiment by emoji:  1 , by vader:  0 \n",
      " @131799 😄😄\n",
      "# sentiment by emoji:  0 , by vader:  1 \n",
      " @145864 Hey Leo! Don't worry about it, at least you're gonna have some. Awesome stuff! 👊 ^JC\n",
      "# sentiment by emoji:  0 , by vader:  1 \n",
      " @146152 We like to charm our customers 'Mistress Baron' 👸☺️^KM\n",
      "# sentiment by emoji:  1 , by vader:  0 \n",
      " @146922 Hi Amy! There sure is😀I've included the link here: https://t.co/plHrg7RdLg.^CN\n",
      "# sentiment by emoji:  1 , by vader:  0 \n",
      " @147337 😃!\n",
      "# sentiment by emoji:  1 , by vader:  -1 \n",
      " @146420 No worries at all, if you ever have any further questions you know where to find us 😊^SM\n",
      "# sentiment by emoji:  0 , by vader:  1 \n",
      " @149479 Black Friday deals can be soooo distracting! We feel you! 😝. Happy to hear you have some lovely goodies for Christmas! ^JC\n",
      "# sentiment by emoji:  1 , by vader:  0 \n",
      " @150330 Ah the luxuries of being a Prime member!!😆😀^CN\n",
      "# sentiment by emoji:  0 , by vader:  1 \n",
      " @150338 Hey Gelin! We're glad we could light up your life, thanks for brightening up our day with your lovely tweet! 💡❤️^JC.\n",
      "# sentiment by emoji:  1 , by vader:  0 \n",
      " @154207 We're just as excited as you are! 😁📚 ^ZW\n",
      "# sentiment by emoji:  0 , by vader:  1 \n",
      " @154231 I'm so happy to hear you received your delivery on time, Charmaine! We're always here for you! ❤️ ^SD\n",
      "# sentiment by emoji:  0 , by vader:  1 \n",
      " @154649 What do you call it when a dinosaur has a car accident? A tyrannosaurus wreck! I hope he enjoys his gift! 🎁\n"
     ]
    }
   ],
   "source": [
    "for i in data_emo[data_emo['vader_sentiment'] != data_emo['sentiment']].iterrows():\n",
    "    print('# sentiment by emoji: ',i[1][7],', by vader: ',i[1][8],'\\n',i[1][4])"
   ]
  },
  {
   "cell_type": "code",
   "execution_count": 456,
   "metadata": {},
   "outputs": [
    {
     "data": {
      "text/plain": [
       "0.6896551724137931"
      ]
     },
     "execution_count": 456,
     "metadata": {},
     "output_type": "execute_result"
    }
   ],
   "source": [
    "from sklearn.metrics import accuracy_score\n",
    "y_true = data_emo['sentiment']\n",
    "y_pred = data_emo['vader_sentiment']\n",
    "accuracy_score(y_true,y_pred)"
   ]
  },
  {
   "cell_type": "markdown",
   "metadata": {},
   "source": [
    "Looking at the results, most of differences between vader and the emoji classifier are on our classifier's fault, so the accuracy's results are not that worrying."
   ]
  },
  {
   "cell_type": "code",
   "execution_count": 466,
   "metadata": {},
   "outputs": [],
   "source": [
    "data_am['vader_sentiment'] = data_am.text.apply(lambda x:sentiment.polarity_scores(x)['compound'])\n",
    "\n",
    "data_am.to_csv('data/data_AmazonHelp_en_vadersent.csv',index=False)\n"
   ]
  },
  {
   "cell_type": "markdown",
   "metadata": {},
   "source": [
    "**Topic Vizualisation**"
   ]
  },
  {
   "cell_type": "code",
   "execution_count": null,
   "metadata": {},
   "outputs": [],
   "source": []
  }
 ],
 "metadata": {
  "kernelspec": {
   "display_name": "Python 3",
   "language": "python",
   "name": "python3"
  },
  "language_info": {
   "codemirror_mode": {
    "name": "ipython",
    "version": 3
   },
   "file_extension": ".py",
   "mimetype": "text/x-python",
   "name": "python",
   "nbconvert_exporter": "python",
   "pygments_lexer": "ipython3",
   "version": "3.6.8"
  }
 },
 "nbformat": 4,
 "nbformat_minor": 2
}
