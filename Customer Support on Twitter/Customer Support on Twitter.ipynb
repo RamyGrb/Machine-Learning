{
 "cells": [
  {
   "cell_type": "markdown",
   "metadata": {},
   "source": [
    "# Customer Support on Twitter\n",
    "\n",
    "Author: Ramy Ghorayeb\n",
    "    \n",
    "Access the competition [here](https://www.kaggle.com/thoughtvector/customer-support-on-twitter#sample.csv)"
   ]
  },
  {
   "cell_type": "code",
   "execution_count": 2,
   "metadata": {},
   "outputs": [],
   "source": [
    "import numpy as np\n",
    "import pandas as pd\n",
    "import matplotlib.pyplot as plt\n",
    "%matplotlib inline\n",
    "import seaborn as sns"
   ]
  },
  {
   "cell_type": "markdown",
   "metadata": {},
   "source": [
    "## Sample discovery"
   ]
  },
  {
   "cell_type": "code",
   "execution_count": 120,
   "metadata": {},
   "outputs": [],
   "source": [
    "sample = pd.read_csv('data/sample.csv')"
   ]
  },
  {
   "cell_type": "code",
   "execution_count": 6,
   "metadata": {},
   "outputs": [
    {
     "name": "stdout",
     "output_type": "stream",
     "text": [
      "<class 'pandas.core.frame.DataFrame'>\n",
      "RangeIndex: 93 entries, 0 to 92\n",
      "Data columns (total 7 columns):\n",
      "tweet_id                   93 non-null int64\n",
      "author_id                  93 non-null object\n",
      "inbound                    93 non-null bool\n",
      "created_at                 93 non-null object\n",
      "text                       93 non-null object\n",
      "response_tweet_id          65 non-null object\n",
      "in_response_to_tweet_id    68 non-null float64\n",
      "dtypes: bool(1), float64(1), int64(1), object(4)\n",
      "memory usage: 4.5+ KB\n"
     ]
    }
   ],
   "source": [
    "sample.info()"
   ]
  },
  {
   "cell_type": "code",
   "execution_count": 55,
   "metadata": {},
   "outputs": [
    {
     "data": {
      "text/html": [
       "<div>\n",
       "<style scoped>\n",
       "    .dataframe tbody tr th:only-of-type {\n",
       "        vertical-align: middle;\n",
       "    }\n",
       "\n",
       "    .dataframe tbody tr th {\n",
       "        vertical-align: top;\n",
       "    }\n",
       "\n",
       "    .dataframe thead th {\n",
       "        text-align: right;\n",
       "    }\n",
       "</style>\n",
       "<table border=\"1\" class=\"dataframe\">\n",
       "  <thead>\n",
       "    <tr style=\"text-align: right;\">\n",
       "      <th></th>\n",
       "      <th>tweet_id</th>\n",
       "      <th>author_id</th>\n",
       "      <th>inbound</th>\n",
       "      <th>created_at</th>\n",
       "      <th>text</th>\n",
       "      <th>response_tweet_id</th>\n",
       "      <th>in_response_to_tweet_id</th>\n",
       "    </tr>\n",
       "  </thead>\n",
       "  <tbody>\n",
       "    <tr>\n",
       "      <th>0</th>\n",
       "      <td>119237</td>\n",
       "      <td>105834</td>\n",
       "      <td>True</td>\n",
       "      <td>Wed Oct 11 06:55:44 +0000 2017</td>\n",
       "      <td>@AppleSupport causing the reply to be disregar...</td>\n",
       "      <td>119236</td>\n",
       "      <td>NaN</td>\n",
       "    </tr>\n",
       "    <tr>\n",
       "      <th>1</th>\n",
       "      <td>119238</td>\n",
       "      <td>ChaseSupport</td>\n",
       "      <td>False</td>\n",
       "      <td>Wed Oct 11 13:25:49 +0000 2017</td>\n",
       "      <td>@105835 Your business means a lot to us. Pleas...</td>\n",
       "      <td>NaN</td>\n",
       "      <td>119239.0</td>\n",
       "    </tr>\n",
       "    <tr>\n",
       "      <th>2</th>\n",
       "      <td>119239</td>\n",
       "      <td>105835</td>\n",
       "      <td>True</td>\n",
       "      <td>Wed Oct 11 13:00:09 +0000 2017</td>\n",
       "      <td>@76328 I really hope you all change but I'm su...</td>\n",
       "      <td>119238</td>\n",
       "      <td>NaN</td>\n",
       "    </tr>\n",
       "    <tr>\n",
       "      <th>3</th>\n",
       "      <td>119240</td>\n",
       "      <td>VirginTrains</td>\n",
       "      <td>False</td>\n",
       "      <td>Tue Oct 10 15:16:08 +0000 2017</td>\n",
       "      <td>@105836 LiveChat is online at the moment - htt...</td>\n",
       "      <td>119241</td>\n",
       "      <td>119242.0</td>\n",
       "    </tr>\n",
       "    <tr>\n",
       "      <th>4</th>\n",
       "      <td>119241</td>\n",
       "      <td>105836</td>\n",
       "      <td>True</td>\n",
       "      <td>Tue Oct 10 15:17:21 +0000 2017</td>\n",
       "      <td>@VirginTrains see attached error message. I've...</td>\n",
       "      <td>119243</td>\n",
       "      <td>119240.0</td>\n",
       "    </tr>\n",
       "    <tr>\n",
       "      <th>5</th>\n",
       "      <td>119243</td>\n",
       "      <td>VirginTrains</td>\n",
       "      <td>False</td>\n",
       "      <td>Tue Oct 10 15:25:14 +0000 2017</td>\n",
       "      <td>@105836 Have you tried from another device, Mi...</td>\n",
       "      <td>119244</td>\n",
       "      <td>119241.0</td>\n",
       "    </tr>\n",
       "  </tbody>\n",
       "</table>\n",
       "</div>"
      ],
      "text/plain": [
       "   tweet_id     author_id  inbound                      created_at  \\\n",
       "0    119237        105834     True  Wed Oct 11 06:55:44 +0000 2017   \n",
       "1    119238  ChaseSupport    False  Wed Oct 11 13:25:49 +0000 2017   \n",
       "2    119239        105835     True  Wed Oct 11 13:00:09 +0000 2017   \n",
       "3    119240  VirginTrains    False  Tue Oct 10 15:16:08 +0000 2017   \n",
       "4    119241        105836     True  Tue Oct 10 15:17:21 +0000 2017   \n",
       "5    119243  VirginTrains    False  Tue Oct 10 15:25:14 +0000 2017   \n",
       "\n",
       "                                                text response_tweet_id  \\\n",
       "0  @AppleSupport causing the reply to be disregar...            119236   \n",
       "1  @105835 Your business means a lot to us. Pleas...               NaN   \n",
       "2  @76328 I really hope you all change but I'm su...            119238   \n",
       "3  @105836 LiveChat is online at the moment - htt...            119241   \n",
       "4  @VirginTrains see attached error message. I've...            119243   \n",
       "5  @105836 Have you tried from another device, Mi...            119244   \n",
       "\n",
       "   in_response_to_tweet_id  \n",
       "0                      NaN  \n",
       "1                 119239.0  \n",
       "2                      NaN  \n",
       "3                 119242.0  \n",
       "4                 119240.0  \n",
       "5                 119241.0  "
      ]
     },
     "execution_count": 55,
     "metadata": {},
     "output_type": "execute_result"
    }
   ],
   "source": [
    "sample.loc[:5]"
   ]
  },
  {
   "cell_type": "code",
   "execution_count": 108,
   "metadata": {},
   "outputs": [
    {
     "name": "stdout",
     "output_type": "stream",
     "text": [
      "# Author : 105834 -- @AppleSupport causing the reply to be disregarded and the tapped notification under the keyboard is opened😡😡😡\n",
      "# Author : ChaseSupport -- @105835 Your business means a lot to us. Please DM your name, zip code and additional details about your concern. ^RR https://t.co/znUu1VJn9r\n",
      "# Author : 105835 -- @76328 I really hope you all change but I'm sure you won't! Because you don't have to!\n",
      "# Author : VirginTrains -- @105836 LiveChat is online at the moment - https://t.co/SY94VtU8Kq or contact 03331 031 031 option 1, 4, 3 (Leave a message) to request a call back\n",
      "# Author : 105836 -- @VirginTrains see attached error message. I've tried leaving a voicemail several times in the past week https://t.co/NxVZjlYx1k\n",
      "# Author : VirginTrains -- @105836 Have you tried from another device, Miriam ^MM\n"
     ]
    }
   ],
   "source": [
    "for i in sample.loc[:5][['author_id','text']].iterrows():\n",
    "    print('# Author :',i[1][0],'--',i[1][1])"
   ]
  },
  {
   "cell_type": "markdown",
   "metadata": {},
   "source": [
    "## Data Exploration"
   ]
  },
  {
   "cell_type": "code",
   "execution_count": 128,
   "metadata": {},
   "outputs": [],
   "source": [
    "data = pd.read_csv('data/twcs.zip', compression='zip')"
   ]
  },
  {
   "cell_type": "markdown",
   "metadata": {},
   "source": [
    "Explore companies"
   ]
  },
  {
   "cell_type": "code",
   "execution_count": 152,
   "metadata": {
    "scrolled": true
   },
   "outputs": [],
   "source": [
    "companies = data[data['author_id'].apply(lambda x:not x.isdigit())]"
   ]
  },
  {
   "cell_type": "code",
   "execution_count": 165,
   "metadata": {},
   "outputs": [],
   "source": [
    "companies_count = companies.groupby(['author_id']).count()"
   ]
  },
  {
   "cell_type": "code",
   "execution_count": 186,
   "metadata": {},
   "outputs": [
    {
     "data": {
      "text/plain": [
       "<matplotlib.axes._subplots.AxesSubplot at 0x1a730259e8>"
      ]
     },
     "execution_count": 186,
     "metadata": {},
     "output_type": "execute_result"
    },
    {
     "data": {
      "image/png": "[encoded data removed]",
      "text/plain": [
       "<Figure size 432x288 with 1 Axes>"
      ]
     },
     "metadata": {
      "needs_background": "light"
     },
     "output_type": "display_data"
    }
   ],
   "source": [
    "companies_count[companies_count['tweet_id']>20000]['tweet_id'].sort_values().plot(kind='barh')"
   ]
  },
  {
   "cell_type": "markdown",
   "metadata": {},
   "source": [
    "Let's focus on AmazonHelp customer support for this exercise"
   ]
  },
  {
   "cell_type": "code",
   "execution_count": 242,
   "metadata": {},
   "outputs": [
    {
     "data": {
      "text/plain": [
       "'105834'"
      ]
     },
     "execution_count": 242,
     "metadata": {},
     "output_type": "execute_result"
    }
   ],
   "source": [
    "sample['author_id'][0]"
   ]
  },
  {
   "cell_type": "code",
   "execution_count": 249,
   "metadata": {},
   "outputs": [
    {
     "name": "stdout",
     "output_type": "stream",
     "text": [
      "0              105834\n",
      "1        ChaseSupport\n",
      "2              105835\n",
      "3        VirginTrains\n",
      "4              105836\n",
      "5        VirginTrains\n",
      "6              105836\n",
      "7        VirginTrains\n",
      "8              105836\n",
      "9        VirginTrains\n",
      "10       AppleSupport\n",
      "11             105837\n",
      "12             105838\n",
      "13       AppleSupport\n",
      "14             105839\n",
      "15       SpotifyCares\n",
      "16             105840\n",
      "17       SpotifyCares\n",
      "18             105840\n",
      "19       SpotifyCares\n",
      "20             105840\n",
      "21       SpotifyCares\n",
      "22             105840\n",
      "23       AppleSupport\n",
      "24             105841\n",
      "25    British_Airways\n",
      "26             105842\n",
      "27       AppleSupport\n",
      "28             105843\n",
      "29       AppleSupport\n",
      "           ...       \n",
      "63             105842\n",
      "64    British_Airways\n",
      "65       Ask_Spectrum\n",
      "66             105854\n",
      "67             105854\n",
      "68              Tesco\n",
      "69             105855\n",
      "70             105855\n",
      "71              Tesco\n",
      "72             105855\n",
      "73              Tesco\n",
      "74             105855\n",
      "75              Tesco\n",
      "76             105856\n",
      "77              Tesco\n",
      "78             105856\n",
      "79              Tesco\n",
      "80             105856\n",
      "81       AppleSupport\n",
      "82             105857\n",
      "83       AppleSupport\n",
      "84             105857\n",
      "85          HPSupport\n",
      "86             105858\n",
      "87            UPSHelp\n",
      "88             105859\n",
      "89             105860\n",
      "90              Tesco\n",
      "91             105861\n",
      "92              Tesco\n",
      "Name: author_id, Length: 93, dtype: object\n",
      "0     @AppleSupport causing the reply to be disregar...\n",
      "1     @105835 Your business means a lot to us. Pleas...\n",
      "2     @76328 I really hope you all change but I'm su...\n",
      "3     @105836 LiveChat is online at the moment - htt...\n",
      "4     @VirginTrains see attached error message. I've...\n",
      "5     @105836 Have you tried from another device, Mi...\n",
      "6     @VirginTrains yep, I've tried laptop too sever...\n",
      "7     @105836 It's working OK from here, Miriam. Doe...\n",
      "8     @VirginTrains I still haven't heard &amp; the ...\n",
      "9     @105836 That's what we're here for Miriam 😊  T...\n",
      "10    @105837 We can help. Which version of iOS are ...\n",
      "11    @105838 @AppleSupport Me too am suffering , ho...\n",
      "12    @AppleSupport hi #apple, I’ve a concern about ...\n",
      "13    @105839 Thanks for reaching out to us. We are ...\n",
      "14    I just updated my phone and suddenly everythin...\n",
      "15    @105840 Hi there! What device is this happenin...\n",
      "16    @SpotifyCares Thanks! Version 8.4.22.857 armv7...\n",
      "17    @105840 Thanks. The distance could possibly af...\n",
      "18    @SpotifyCares No, but I've moved speaker to ab...\n",
      "19    @105840 That's great to hear. If anything come...\n",
      "20                     @SpotifyCares Brilliant thanks 😊\n",
      "21    @105840 You're welcome! If there's anything el...\n",
      "22    @76495 @91226 Please help! Spotify Premium ski...\n",
      "23    @105841 We'd love to help! Please DM us and le...\n",
      "24    @AppleSupport after the 11.0.2 my phone just s...\n",
      "25    @105842 We're sorry your flight has been delay...\n",
      "26    First flight for long time with @British_Airwa...\n",
      "27    @105843 Battery life is important, and we're h...\n",
      "28    Okay @76099 I used my fucking phone for 2 minu...\n",
      "29    @105844 Thanks for reaching out to us. We are ...\n",
      "                            ...                        \n",
      "63    @British_Airways Thanks for your answer. Respo...\n",
      "64    @105842 Very sorry to hear this.  We hope you ...\n",
      "65    @105854 I am sorry for the poor experience. Ca...\n",
      "66    @Ask_Spectrum It's just in my yard. I've calle...\n",
      "67    @76501 I guess this means free cable for the n...\n",
      "68    @105855 Hi Thomas, if a colleague believes the...\n",
      "69            @Tesco Maybe hire colleagues who can see?\n",
      "70    @Tesco The point is if it's enforced they do i...\n",
      "71    @105855 Hi Thomas, this is correct but this he...\n",
      "72               @Tesco Uk offlicense law is 18. Not 25\n",
      "73    @105855 Hi Thomas, we operate a Think 25 polic...\n",
      "74    Got id's @Tesco for buying one Adnams Broadsid...\n",
      "75    @105856 Hi there, could you try deleting your ...\n",
      "76    @Tesco Will I lose all the shopping I've done ...\n",
      "77    @105856 Hi there, as long as you sign out of y...\n",
      "78    @Tesco Done all that. Still telling me there a...\n",
      "79    @105856 Can you DM me your full name, address ...\n",
      "80    Hey @Tesco, your website's broken. It's tellin...\n",
      "81    @105857 Is there a particular app that seems t...\n",
      "82    @AppleSupport I have the latest version iOS. I...\n",
      "83    @105857 We'd like to help if we can. When did ...\n",
      "84    My apps stop working without warning and my ph...\n",
      "85    @105858 Hi Agoura, thanks for tweeting. Please...\n",
      "86    @HPSupport Problem with printhead  Serial# TH5...\n",
      "87    @105859 UPS has a service called My Choice tha...\n",
      "88    @105860 I wish Amazon had an option of where I...\n",
      "89    They reschedule my shit for tomorrow https://t...\n",
      "90    @105861 Hey Sara, sorry to hear of the issues ...\n",
      "91    @Tesco bit of both - finding the layout cumber...\n",
      "92    @105861 If that doesn't help please DM your fu...\n",
      "Name: text, Length: 93, dtype: object\n",
      "0            119236\n",
      "1               NaN\n",
      "2            119238\n",
      "3            119241\n",
      "4            119243\n",
      "5            119244\n",
      "6            119245\n",
      "7               NaN\n",
      "8            119240\n",
      "9            119242\n",
      "10              NaN\n",
      "11           119248\n",
      "12    119249,119251\n",
      "13              NaN\n",
      "14           119252\n",
      "15           119255\n",
      "16           119257\n",
      "17           119258\n",
      "18           119259\n",
      "19           119260\n",
      "20           119261\n",
      "21              NaN\n",
      "22           119254\n",
      "23              NaN\n",
      "24           119262\n",
      "25              NaN\n",
      "26    119264,119266\n",
      "27              NaN\n",
      "28           119267\n",
      "29              NaN\n",
      "          ...      \n",
      "63           119303\n",
      "64              NaN\n",
      "65           119305\n",
      "66              NaN\n",
      "67    119304,119307\n",
      "68           119309\n",
      "69              NaN\n",
      "70           119308\n",
      "71    119310,119312\n",
      "72           119311\n",
      "73           119313\n",
      "74    119316,119314\n",
      "75           119318\n",
      "76           119320\n",
      "77           119321\n",
      "78           119322\n",
      "79              NaN\n",
      "80           119317\n",
      "81              NaN\n",
      "82           119323\n",
      "83           119324\n",
      "84           119325\n",
      "85              NaN\n",
      "86           119327\n",
      "87              NaN\n",
      "88           119329\n",
      "89           119330\n",
      "90           119333\n",
      "91    119335,119336\n",
      "92              NaN\n",
      "Name: response_tweet_id, Length: 93, dtype: object\n",
      "0          NaN\n",
      "1     119239.0\n",
      "2          NaN\n",
      "3     119242.0\n",
      "4     119240.0\n",
      "5     119241.0\n",
      "6     119243.0\n",
      "7     119244.0\n",
      "8     119246.0\n",
      "9     119247.0\n",
      "10    119249.0\n",
      "11    119250.0\n",
      "12         NaN\n",
      "13    119253.0\n",
      "14         NaN\n",
      "15    119256.0\n",
      "16    119254.0\n",
      "17    119255.0\n",
      "18    119257.0\n",
      "19    119258.0\n",
      "20    119259.0\n",
      "21    119260.0\n",
      "22         NaN\n",
      "23    119263.0\n",
      "24         NaN\n",
      "25    119265.0\n",
      "26         NaN\n",
      "27    119268.0\n",
      "28         NaN\n",
      "29    119270.0\n",
      "        ...   \n",
      "63    119266.0\n",
      "64    119302.0\n",
      "65    119306.0\n",
      "66    119304.0\n",
      "67         NaN\n",
      "68    119310.0\n",
      "69    119308.0\n",
      "70    119311.0\n",
      "71    119313.0\n",
      "72    119314.0\n",
      "73    119315.0\n",
      "74         NaN\n",
      "75    119319.0\n",
      "76    119317.0\n",
      "77    119318.0\n",
      "78    119320.0\n",
      "79    119321.0\n",
      "80         NaN\n",
      "81    119324.0\n",
      "82    119325.0\n",
      "83    119326.0\n",
      "84         NaN\n",
      "85    119328.0\n",
      "86         NaN\n",
      "87    119330.0\n",
      "88    119331.0\n",
      "89         NaN\n",
      "90    119334.0\n",
      "91    119332.0\n",
      "92    119333.0\n",
      "Name: in_response_to_tweet_id, Length: 93, dtype: float64\n"
     ]
    }
   ],
   "source": [
    "for i in sample.iteritems():\n",
    "    print(i[1])"
   ]
  },
  {
   "cell_type": "code",
   "execution_count": null,
   "metadata": {},
   "outputs": [],
   "source": []
  }
 ],
 "metadata": {
  "kernelspec": {
   "display_name": "Python 3",
   "language": "python",
   "name": "python3"
  },
  "language_info": {
   "codemirror_mode": {
    "name": "ipython",
    "version": 3
   },
   "file_extension": ".py",
   "mimetype": "text/x-python",
   "name": "python",
   "nbconvert_exporter": "python",
   "pygments_lexer": "ipython3",
   "version": "3.6.8"
  }
 },
 "nbformat": 4,
 "nbformat_minor": 2
}
