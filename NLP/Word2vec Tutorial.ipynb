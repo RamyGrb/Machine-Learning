{
 "cells": [
  {
   "cell_type": "markdown",
   "metadata": {},
   "source": [
    "# Word2vec Implementation\n",
    "\n",
    "**Author**: Ramy Ghorayeb\n",
    "\n",
    "In this tutorial, we will build our own word2vec implementation and brush our NLP skills."
   ]
  },
  {
   "cell_type": "code",
   "execution_count": 21,
   "metadata": {},
   "outputs": [],
   "source": [
    "import io\n",
    "import os\n",
    "import numpy as np\n",
    "import scipy\n",
    "import keras"
   ]
  },
  {
   "cell_type": "markdown",
   "metadata": {},
   "source": [
    "## Corpus Cleaning"
   ]
  },
  {
   "cell_type": "markdown",
   "metadata": {},
   "source": [
    "Let's take a look at one of the books:"
   ]
  },
  {
   "cell_type": "code",
   "execution_count": 483,
   "metadata": {},
   "outputs": [
    {
     "name": "stdout",
     "output_type": "stream",
     "text": [
      "\n",
      "\n",
      "LINCOLN LETTERS\n",
      "\n",
      "\n",
      "\n",
      "By Abraham Lincoln\n",
      "\n",
      "\n",
      "\n",
      "\n",
      "\n",
      "Published by The Bibilophile Society\n",
      "\n",
      "\n",
      "\n",
      "\n",
      "\n",
      "\n",
      "\n",
      "\n",
      "\n",
      "NOTE\n",
      "\n",
      "\n",
      "\n",
      "The letters herein by Lincoln are so thoroughly characteristic of\n",
      "\n",
      "the man, and are in themselves so completely self-explanatory, that\n",
      "\n",
      "it requires no comment to enable the reader fully to understand and\n",
      "\n",
      "appreciate them. It will be observed that the philosophical\n",
      "\n",
      "admonitions in the letter to his brother, Johnston, were written on\n",
      "\n",
      "the same sheet with the letter to his father.\n",
      "\n",
      "\n",
      "\n",
      "The promptness and decision with which Lincoln despatched the\n",
      "\n",
      "multitudinous affairs of his office during the most turbulent\n",
      "\n",
      "scenes of the Civil War are exemplified in his unequivocal order to\n",
      "\n",
      "the Attorney-General, indorsed on the back of the letter of Hon.\n",
      "\n",
      "Austin A. King, requesting a pardon for John B. Corner. The\n",
      "\n",
      "indorsement bears even date with the letter itself, and Corner was\n",
      "\n",
      "pardoned on the following day.\n",
      "\n",
      "\n",
      "\n",
      "\n",
      "\n",
      "\n",
      "\n",
      "\n",
      "\n"
     ]
    }
   ],
   "source": [
    "f = open(\"txt/AAA.txt\")\n",
    "for line in f:\n",
    "    print(line)"
   ]
  },
  {
   "cell_type": "markdown",
   "metadata": {},
   "source": [
    "We see there is a lot of cleaning to do:\n",
    "* (1) uppercases titles to remove > we will use the lower() method\n",
    "* (2) line breaks to remove due to the margins > we will build a remove_breaks function\n",
    "* (3) break the line when a sentence ends > we will build a end_sentence_break function"
   ]
  },
  {
   "cell_type": "code",
   "execution_count": 480,
   "metadata": {},
   "outputs": [],
   "source": [
    "def remove_breaks(corpus):\n",
    "    corpus = list(corpus)\n",
    "    corpus_new = []\n",
    "    word = '' \n",
    "    line_prev = ''\n",
    "    line_to_add = ''\n",
    "\n",
    "    for i, line in enumerate(corpus):\n",
    "        \n",
    "        word = ''\n",
    "        line_prev = corpus[i-1]\n",
    "        \n",
    "        # dealing with the last line\n",
    "        if i == len(corpus)-1 and line != '\\n':\n",
    "            corpus_new.append(line.lower())\n",
    "        \n",
    "        # word of the next line\n",
    "        for char in line:\n",
    "            if char == ' ' or char == '\\n':\n",
    "                break\n",
    "            word = word + char\n",
    "            \n",
    "        # skip empty line  \n",
    "        if line_prev == '\\n':\n",
    "            next\n",
    "            \n",
    "        # save this line\n",
    "        if len(line_prev) >= 67 or len(line_prev) + len(word) >= 67:\n",
    "            line_to_add += line_prev[:-1] + ' '\n",
    "            \n",
    "        # add all the lines before the break\n",
    "        else:\n",
    "            line_to_add += line_prev[:-1]\n",
    "            if line_to_add != '':\n",
    "                corpus_new.append(line_to_add.lower())\n",
    "                line_to_add = '' \n",
    "                \n",
    "    return corpus_new\n",
    "\n",
    "def end_sentence_break(corpus):\n",
    "    \n",
    "    corpus = list(corpus)\n",
    "    corpus_new = corpus\n",
    "    count=1\n",
    "    \n",
    "    for i,line in enumerate(corpus):\n",
    "        \n",
    "        line_to_add = ''\n",
    "        \n",
    "        for j, char in enumerate(line):\n",
    "            \n",
    "            line_to_add += char\n",
    "            \n",
    "            # if there is a dot and it is not for a surname\n",
    "            if char == '.' and line[j-2] != ' ' and j != len(line)-1:\n",
    "                corpus_new.insert(i+count,line_to_add)\n",
    "                count += 1\n",
    "                line_to_add = ''\n",
    "            else:\n",
    "                next\n",
    "\n",
    "    return corpus_new    \n",
    "\n",
    "def cleaning(corpus):\n",
    "    corpus = remove_breaks(corpus)\n",
    "    corpus = end_sentence_break(corpus)\n",
    "    return corpus"
   ]
  },
  {
   "cell_type": "code",
   "execution_count": 481,
   "metadata": {
    "scrolled": true
   },
   "outputs": [
    {
     "name": "stdout",
     "output_type": "stream",
     "text": [
      "['lincoln letters', 'by abraham lincoln', 'published by the bibilophile society', 'note', 'the letters herein by lincoln are so thoroughly characteristic of the man, and are in themselves so completely self-explanatory, that it requires no comment to enable the reader fully to understand and appreciate them. it will be observed that the philosophical admonitions in the letter to his brother, johnston, were written on the same sheet with the letter to his father.', 'the letters herein by lincoln are so thoroughly characteristic of the man, and are in themselves so completely self-explanatory, that it requires no comment to enable the reader fully to understand and appreciate them.', 'the promptness and decision with which lincoln despatched the multitudinous affairs of his office during the most turbulent scenes of the civil war are exemplified in his unequivocal order to the attorney-general, indorsed on the back of the letter of hon. austin a. king, requesting a pardon for john b. corner. the indorsement bears even date with the letter itself, and corner was pardoned on the following day.', 'the promptness and decision with which lincoln despatched the multitudinous affairs of his office during the most turbulent scenes of the civil war are exemplified in his unequivocal order to the attorney-general, indorsed on the back of the letter of hon.', ' austin a. king, requesting a pardon for john b. corner.']\n"
     ]
    }
   ],
   "source": [
    "f = open(\"txt/AAA.txt\")\n",
    "f = cleaning(f)\n",
    "print(f)"
   ]
  },
  {
   "cell_type": "markdown",
   "metadata": {},
   "source": [
    "The book looks good now. Let's save an array concatenating of all the cleaned version of the books. I twill be the corpus we will work with."
   ]
  },
  {
   "cell_type": "code",
   "execution_count": null,
   "metadata": {},
   "outputs": [],
   "source": []
  }
 ],
 "metadata": {
  "kernelspec": {
   "display_name": "Python 3",
   "language": "python",
   "name": "python3"
  },
  "language_info": {
   "codemirror_mode": {
    "name": "ipython",
    "version": 3
   },
   "file_extension": ".py",
   "mimetype": "text/x-python",
   "name": "python",
   "nbconvert_exporter": "python",
   "pygments_lexer": "ipython3",
   "version": "3.6.8"
  }
 },
 "nbformat": 4,
 "nbformat_minor": 2
}
