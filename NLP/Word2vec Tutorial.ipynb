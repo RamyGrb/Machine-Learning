{
 "cells": [
  {
   "cell_type": "markdown",
   "metadata": {},
   "source": [
    "# Word2vec Implementation\n",
    "\n",
    "**Author**: Ramy Ghorayeb\n",
    "\n",
    "In this tutorial, we will build our own word2vec implementation and brush our NLP skills.\n",
    "\n",
    "Download the dataset we will work on at: [PUT THE LINK HERE]"
   ]
  },
  {
   "cell_type": "code",
   "execution_count": 1,
   "metadata": {},
   "outputs": [
    {
     "name": "stderr",
     "output_type": "stream",
     "text": [
      "/anaconda3/lib/python3.6/site-packages/h5py/__init__.py:36: FutureWarning: Conversion of the second argument of issubdtype from `float` to `np.floating` is deprecated. In future, it will be treated as `np.float64 == np.dtype(float).type`.\n",
      "  from ._conv import register_converters as _register_converters\n",
      "Using TensorFlow backend.\n"
     ]
    }
   ],
   "source": [
    "import io\n",
    "import os\n",
    "import csv\n",
    "import numpy as np\n",
    "import scipy\n",
    "import keras\n",
    "from progressbar import ProgressBar, Percentage, Bar, AnimatedMarker, Counter, Timer, ETA, FileTransferSpeed"
   ]
  },
  {
   "cell_type": "markdown",
   "metadata": {},
   "source": [
    "## Corpus Cleaning"
   ]
  },
  {
   "cell_type": "markdown",
   "metadata": {},
   "source": [
    "### Book cleaning"
   ]
  },
  {
   "cell_type": "markdown",
   "metadata": {},
   "source": [
    "Let's take a look at one of the books:"
   ]
  },
  {
   "cell_type": "code",
   "execution_count": 2,
   "metadata": {},
   "outputs": [
    {
     "name": "stdout",
     "output_type": "stream",
     "text": [
      "\n",
      "\n",
      "LINCOLN LETTERS\n",
      "\n",
      "\n",
      "\n",
      "By Abraham Lincoln\n",
      "\n",
      "\n",
      "\n",
      "\n",
      "\n",
      "Published by The Bibilophile Society\n",
      "\n",
      "\n",
      "\n",
      "\n",
      "\n",
      "\n",
      "\n",
      "\n",
      "\n",
      "NOTE\n",
      "\n",
      "\n",
      "\n",
      "The letters herein by Lincoln are so thoroughly characteristic of\n",
      "\n",
      "the man, and are in themselves so completely self-explanatory, that\n",
      "\n",
      "it requires no comment to enable the reader fully to understand and\n",
      "\n",
      "appreciate them. It will be observed that the philosophical\n",
      "\n",
      "admonitions in the letter to his brother, Johnston, were written on\n",
      "\n",
      "the same sheet with the letter to his father.\n",
      "\n",
      "\n",
      "\n",
      "The promptness and decision with which Lincoln despatched the\n",
      "\n",
      "multitudinous affairs of his office during the most turbulent\n",
      "\n",
      "scenes of the Civil War are exemplified in his unequivocal order to\n",
      "\n",
      "the Attorney-General, indorsed on the back of the letter of Hon.\n",
      "\n",
      "Austin A. King, requesting a pardon for John B. Corner. The\n",
      "\n",
      "indorsement bears even date with the letter itself, and Corner was\n",
      "\n",
      "pardoned on the following day.\n",
      "\n",
      "\n",
      "\n",
      "\n",
      "\n",
      "\n",
      "\n",
      "\n",
      "\n"
     ]
    }
   ],
   "source": [
    "book = open(\"corpus/test.txt\")\n",
    "for line in book:\n",
    "    print(line)"
   ]
  },
  {
   "cell_type": "markdown",
   "metadata": {},
   "source": [
    "We see there is a lot of cleaning to do:\n",
    "* (1) uppercases titles to remove > we will use the lower() method\n",
    "* (2) line breaks to remove due to the margins > we will build a remove_breaks function\n",
    "* (3) break the line when a sentence ends > we will build a end_sentence_break function"
   ]
  },
  {
   "cell_type": "code",
   "execution_count": 177,
   "metadata": {},
   "outputs": [],
   "source": [
    "def remove_breaks(corpus):\n",
    "    corpus = list(corpus)\n",
    "    corpus_new = []\n",
    "    line_prev = ''\n",
    "    line_to_add = ''\n",
    "\n",
    "    for i, line in enumerate(corpus):\n",
    "                \n",
    "        if i>0:\n",
    "            line_prev = corpus[i-1]\n",
    "        word = line.split(' ')[0]\n",
    "                \n",
    "        # dealing with the last line\n",
    "        if i == len(corpus)-1 and len(line) > 1:\n",
    "            corpus_new.append(line_to_add.lower())\n",
    "            corpus_new.append(line.lower())\n",
    "                    \n",
    "        # skip empty line  \n",
    "        if len(line_prev) < 2:\n",
    "            next\n",
    "            \n",
    "        # save this line\n",
    "        if len(line_prev) >= 67 or len(line_prev) + len(word) >= 67:\n",
    "            line_to_add += line_prev.strip() + ' '\n",
    "            \n",
    "        # add all the lines before the break\n",
    "        else:\n",
    "            line_to_add += line_prev.strip()\n",
    "            if len(line_to_add) > 1:\n",
    "                corpus_new.append(line_to_add.lower())\n",
    "                line_to_add = ''\n",
    "\n",
    "    return corpus_new\n",
    "\n",
    "def add_breaks(corpus):\n",
    "    \n",
    "    corpus = list(corpus)\n",
    "    corpus_new = corpus\n",
    "    count=1\n",
    "    \n",
    "    for i,line in enumerate(corpus):\n",
    "        \n",
    "        line_to_add = ''\n",
    "        \n",
    "        for j, char in enumerate(line):\n",
    "            \n",
    "            line_to_add += char\n",
    "            \n",
    "            # if there is a dot\n",
    "            if char == '.' and j != len(line)-1 and len(line)>1:\n",
    "                # exclude dots for surname\n",
    "                if line[j-2] != ' ' :\n",
    "                    corpus_new.insert(i+count,line_to_add)\n",
    "                    count += 1\n",
    "                    line_to_add = ''\n",
    "            else:\n",
    "                next\n",
    "\n",
    "    return corpus_new    \n",
    "\n",
    "def book_cleaning(corpus):\n",
    "    corpus = remove_breaks(corpus)\n",
    "    corpus = add_breaks(corpus)\n",
    "    return corpus"
   ]
  },
  {
   "cell_type": "code",
   "execution_count": 75,
   "metadata": {
    "scrolled": true
   },
   "outputs": [
    {
     "name": "stdout",
     "output_type": "stream",
     "text": [
      "lincoln letters\n",
      "by abraham lincoln\n",
      "published by the bibilophile society\n",
      "note\n",
      "the letters herein by lincoln are so thoroughly characteristic of the man, and are in themselves so completely self-explanatory, that it requires no comment to enable the reader fully to understand and appreciate them. it will be observed that the philosophical admonitions in the letter to his brother, johnston, were written on the same sheet with the letter to his father.\n",
      "the letters herein by lincoln are so thoroughly characteristic of the man, and are in themselves so completely self-explanatory, that it requires no comment to enable the reader fully to understand and appreciate them.\n",
      "the promptness and decision with which lincoln despatched the multitudinous affairs of his office during the most turbulent scenes of the civil war are exemplified in his unequivocal order to the attorney-general, indorsed on the back of the letter of hon. austin a. king, requesting a pardon for john b. corner. the indorsement bears even date with the letter itself, and corner was pardoned on the following day.\n",
      "the promptness and decision with which lincoln despatched the multitudinous affairs of his office during the most turbulent scenes of the civil war are exemplified in his unequivocal order to the attorney-general, indorsed on the back of the letter of hon.\n",
      " austin a. king, requesting a pardon for john b. corner.\n"
     ]
    }
   ],
   "source": [
    "book = open(\"corpus/test.txt\")\n",
    "book = book_cleaning(book)\n",
    "for line in book:\n",
    "    print(line)"
   ]
  },
  {
   "cell_type": "markdown",
   "metadata": {},
   "source": [
    "The book looks good now. Let's save an array concatenating of all the cleaned version of the books. It will be the corpus we will work with."
   ]
  },
  {
   "cell_type": "markdown",
   "metadata": {},
   "source": [
    "### Corpus cleaning"
   ]
  },
  {
   "cell_type": "code",
   "execution_count": 53,
   "metadata": {},
   "outputs": [],
   "source": [
    "def corpus_cleaning(direct,direct_new):\n",
    "    i = 1\n",
    "    nb_books = len(os.listdir(direct))\n",
    "    os.mkdir(direct_new)\n",
    "    pbar = ProgressBar(widgets=[Counter(),'/',str(nb_books),' ',\n",
    "                                Percentage(), ' ', \n",
    "                                Bar(marker=AnimatedMarker()),' ',\n",
    "                                ETA()])\n",
    "        \n",
    "    for file in pbar(os.listdir(direct)):\n",
    "        book = open(direct + '/' + file)\n",
    "        book = book_cleaning(book)\n",
    "        np.savetxt(direct_new + '/' + file, np.array(book),fmt='%s')\n",
    "    \n",
    "    return corpus"
   ]
  },
  {
   "cell_type": "code",
   "execution_count": 54,
   "metadata": {},
   "outputs": [
    {
     "name": "stderr",
     "output_type": "stream",
     "text": [
      "48/3038   1% |                                                  | ETA:  0:09:28\r"
     ]
    },
    {
     "ename": "KeyboardInterrupt",
     "evalue": "",
     "output_type": "error",
     "traceback": [
      "\u001b[0;31m---------------------------------------------------------------------------\u001b[0m",
      "\u001b[0;31mKeyboardInterrupt\u001b[0m                         Traceback (most recent call last)",
      "\u001b[0;32m<ipython-input-54-a7ea6516fe3a>\u001b[0m in \u001b[0;36m<module>\u001b[0;34m()\u001b[0m\n\u001b[1;32m      1\u001b[0m \u001b[0mdirect\u001b[0m \u001b[0;34m=\u001b[0m \u001b[0;34m'corpus'\u001b[0m\u001b[0;34m\u001b[0m\u001b[0;34m\u001b[0m\u001b[0m\n\u001b[1;32m      2\u001b[0m \u001b[0mdirect_new\u001b[0m \u001b[0;34m=\u001b[0m \u001b[0;34m'corpus_new'\u001b[0m\u001b[0;34m\u001b[0m\u001b[0;34m\u001b[0m\u001b[0m\n\u001b[0;32m----> 3\u001b[0;31m \u001b[0mcorpus\u001b[0m \u001b[0;34m=\u001b[0m \u001b[0mcorpus_cleaning\u001b[0m\u001b[0;34m(\u001b[0m\u001b[0mdirect\u001b[0m\u001b[0;34m,\u001b[0m\u001b[0mdirect_new\u001b[0m\u001b[0;34m)\u001b[0m\u001b[0;34m\u001b[0m\u001b[0;34m\u001b[0m\u001b[0m\n\u001b[0m",
      "\u001b[0;32m<ipython-input-53-db738fec28c9>\u001b[0m in \u001b[0;36mcorpus_cleaning\u001b[0;34m(direct, direct_new)\u001b[0m\n\u001b[1;32m     10\u001b[0m     \u001b[0;32mfor\u001b[0m \u001b[0mfile\u001b[0m \u001b[0;32min\u001b[0m \u001b[0mpbar\u001b[0m\u001b[0;34m(\u001b[0m\u001b[0mos\u001b[0m\u001b[0;34m.\u001b[0m\u001b[0mlistdir\u001b[0m\u001b[0;34m(\u001b[0m\u001b[0mdirect\u001b[0m\u001b[0;34m)\u001b[0m\u001b[0;34m)\u001b[0m\u001b[0;34m:\u001b[0m\u001b[0;34m\u001b[0m\u001b[0;34m\u001b[0m\u001b[0m\n\u001b[1;32m     11\u001b[0m         \u001b[0mbook\u001b[0m \u001b[0;34m=\u001b[0m \u001b[0mopen\u001b[0m\u001b[0;34m(\u001b[0m\u001b[0mdirect\u001b[0m \u001b[0;34m+\u001b[0m \u001b[0;34m'/'\u001b[0m \u001b[0;34m+\u001b[0m \u001b[0mfile\u001b[0m\u001b[0;34m)\u001b[0m\u001b[0;34m\u001b[0m\u001b[0;34m\u001b[0m\u001b[0m\n\u001b[0;32m---> 12\u001b[0;31m         \u001b[0mbook\u001b[0m \u001b[0;34m=\u001b[0m \u001b[0mbook_cleaning\u001b[0m\u001b[0;34m(\u001b[0m\u001b[0mbook\u001b[0m\u001b[0;34m)\u001b[0m\u001b[0;34m\u001b[0m\u001b[0;34m\u001b[0m\u001b[0m\n\u001b[0m\u001b[1;32m     13\u001b[0m         \u001b[0mnp\u001b[0m\u001b[0;34m.\u001b[0m\u001b[0msavetxt\u001b[0m\u001b[0;34m(\u001b[0m\u001b[0mdirect_new\u001b[0m \u001b[0;34m+\u001b[0m \u001b[0;34m'/'\u001b[0m \u001b[0;34m+\u001b[0m \u001b[0mfile\u001b[0m\u001b[0;34m,\u001b[0m \u001b[0mnp\u001b[0m\u001b[0;34m.\u001b[0m\u001b[0marray\u001b[0m\u001b[0;34m(\u001b[0m\u001b[0mbook\u001b[0m\u001b[0;34m)\u001b[0m\u001b[0;34m,\u001b[0m\u001b[0mfmt\u001b[0m\u001b[0;34m=\u001b[0m\u001b[0;34m'%s'\u001b[0m\u001b[0;34m)\u001b[0m\u001b[0;34m\u001b[0m\u001b[0;34m\u001b[0m\u001b[0m\n\u001b[1;32m     14\u001b[0m \u001b[0;34m\u001b[0m\u001b[0m\n",
      "\u001b[0;32m<ipython-input-3-211e589405ad>\u001b[0m in \u001b[0;36mbook_cleaning\u001b[0;34m(corpus)\u001b[0m\n\u001b[1;32m     66\u001b[0m \u001b[0;32mdef\u001b[0m \u001b[0mbook_cleaning\u001b[0m\u001b[0;34m(\u001b[0m\u001b[0mcorpus\u001b[0m\u001b[0;34m)\u001b[0m\u001b[0;34m:\u001b[0m\u001b[0;34m\u001b[0m\u001b[0;34m\u001b[0m\u001b[0m\n\u001b[1;32m     67\u001b[0m     \u001b[0mcorpus\u001b[0m \u001b[0;34m=\u001b[0m \u001b[0mremove_breaks\u001b[0m\u001b[0;34m(\u001b[0m\u001b[0mcorpus\u001b[0m\u001b[0;34m)\u001b[0m\u001b[0;34m\u001b[0m\u001b[0;34m\u001b[0m\u001b[0m\n\u001b[0;32m---> 68\u001b[0;31m     \u001b[0mcorpus\u001b[0m \u001b[0;34m=\u001b[0m \u001b[0mend_sentence_break\u001b[0m\u001b[0;34m(\u001b[0m\u001b[0mcorpus\u001b[0m\u001b[0;34m)\u001b[0m\u001b[0;34m\u001b[0m\u001b[0;34m\u001b[0m\u001b[0m\n\u001b[0m\u001b[1;32m     69\u001b[0m     \u001b[0;32mreturn\u001b[0m \u001b[0mcorpus\u001b[0m\u001b[0;34m\u001b[0m\u001b[0;34m\u001b[0m\u001b[0m\n",
      "\u001b[0;32m<ipython-input-3-211e589405ad>\u001b[0m in \u001b[0;36mend_sentence_break\u001b[0;34m(corpus)\u001b[0m\n\u001b[1;32m     48\u001b[0m         \u001b[0mline_to_add\u001b[0m \u001b[0;34m=\u001b[0m \u001b[0;34m''\u001b[0m\u001b[0;34m\u001b[0m\u001b[0;34m\u001b[0m\u001b[0m\n\u001b[1;32m     49\u001b[0m \u001b[0;34m\u001b[0m\u001b[0m\n\u001b[0;32m---> 50\u001b[0;31m         \u001b[0;32mfor\u001b[0m \u001b[0mj\u001b[0m\u001b[0;34m,\u001b[0m \u001b[0mchar\u001b[0m \u001b[0;32min\u001b[0m \u001b[0menumerate\u001b[0m\u001b[0;34m(\u001b[0m\u001b[0mline\u001b[0m\u001b[0;34m)\u001b[0m\u001b[0;34m:\u001b[0m\u001b[0;34m\u001b[0m\u001b[0;34m\u001b[0m\u001b[0m\n\u001b[0m\u001b[1;32m     51\u001b[0m \u001b[0;34m\u001b[0m\u001b[0m\n\u001b[1;32m     52\u001b[0m             \u001b[0mline_to_add\u001b[0m \u001b[0;34m+=\u001b[0m \u001b[0mchar\u001b[0m\u001b[0;34m\u001b[0m\u001b[0;34m\u001b[0m\u001b[0m\n",
      "\u001b[0;31mKeyboardInterrupt\u001b[0m: "
     ]
    }
   ],
   "source": [
    "direct = 'corpus'\n",
    "direct_new = 'corpus_new'\n",
    "corpus = corpus_cleaning(direct,direct_new)"
   ]
  },
  {
   "cell_type": "code",
   "execution_count": 184,
   "metadata": {},
   "outputs": [
    {
     "name": "stdout",
     "output_type": "stream",
     "text": [
      "lincoln letters\n",
      "by abraham lincoln\n",
      "published by the bibilophile society\n",
      "note\n",
      "the letters herein by lincoln are so thoroughly characteristic of the man, and are in themselves so completely self-explanatory, that it requires no comment to enable the reader fully to understand and appreciate them. it will be observed that the philosophical admonitions in the letter to his brother, johnston, were written on the same sheet with the letter to his father.\n",
      "the promptness and decision with which lincoln despatched the multitudinous affairs of his office during the most turbulent scenes of the civil war are exemplified in his unequivocal order to the attorney-general, indorsed on the back of the letter of hon. austin a. king, requesting a pardon for john b. corner. the indorsement bears even date with the letter itself, and corner was pardoned on the following day.\n",
      "lincoln letters\n",
      "by abraham lincoln\n",
      "published by the bibilophile society\n",
      "note\n",
      "the letters herein by lincoln are so thoroughly characteristic of the man, and are in themselves so completely self-explanatory, that it requires no comment to enable the reader fully to understand and appreciate them. it will be observed that the philosophical admonitions in the letter to his brother, johnston, were written on the same sheet with the letter to his father.\n",
      "the letters herein by lincoln are so thoroughly characteristic of the man, and are in themselves so completely self-explanatory, that it requires no comment to enable the reader fully to understand and appreciate them.\n",
      "the promptness and decision with which lincoln despatched the multitudinous affairs of his office during the most turbulent scenes of the civil war are exemplified in his unequivocal order to the attorney-general, indorsed on the back of the letter of hon. austin a. king, requesting a pardon for john b. corner. the indorsement bears even date with the letter itself, and corner was pardoned on the following day.\n",
      "the promptness and decision with which lincoln despatched the multitudinous affairs of his office during the most turbulent scenes of the civil war are exemplified in his unequivocal order to the attorney-general, indorsed on the back of the letter of hon.\n",
      " austin a. king, requesting a pardon for john b. corner.\n"
     ]
    }
   ],
   "source": [
    "# PROBLEM: WHEN DOING 2x book_cleaning, THE BOOK IS DISAPPEARING\n",
    "\n",
    "book = open(\"corpus/test.txt\")\n",
    "book = remove_breaks(book)\n",
    "for b in book:\n",
    "    print(b)\n",
    "book = add_breaks(book)\n",
    "for b in book:\n",
    "    print(b)"
   ]
  },
  {
   "cell_type": "code",
   "execution_count": null,
   "metadata": {},
   "outputs": [],
   "source": []
  },
  {
   "cell_type": "code",
   "execution_count": null,
   "metadata": {},
   "outputs": [],
   "source": []
  }
 ],
 "metadata": {
  "kernelspec": {
   "display_name": "Python 3",
   "language": "python",
   "name": "python3"
  },
  "language_info": {
   "codemirror_mode": {
    "name": "ipython",
    "version": 3
   },
   "file_extension": ".py",
   "mimetype": "text/x-python",
   "name": "python",
   "nbconvert_exporter": "python",
   "pygments_lexer": "ipython3",
   "version": "3.6.8"
  }
 },
 "nbformat": 4,
 "nbformat_minor": 2
}
