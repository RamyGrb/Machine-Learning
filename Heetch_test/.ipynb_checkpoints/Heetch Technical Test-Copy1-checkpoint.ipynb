{
 "cells": [
  {
   "cell_type": "markdown",
   "metadata": {
    "heading_collapsed": true
   },
   "source": [
    "# Heetch Data Scientist, Algorithms - Technical Test"
   ]
  },
  {
   "cell_type": "markdown",
   "metadata": {
    "hidden": true
   },
   "source": [
    "**Author**: Ramy Ghorayeb\n",
    "<br> **Date**: June 2019"
   ]
  },
  {
   "cell_type": "markdown",
   "metadata": {
    "heading_collapsed": true,
    "hidden": true
   },
   "source": [
    "## Context"
   ]
  },
  {
   "cell_type": "markdown",
   "metadata": {
    "hidden": true
   },
   "source": [
    "Users request rides in the Heetch mobile app. Assuming nearby drivers are available, the Heetch backend sends a booking requests to a driver, who can accept or decline the ride.\n",
    "<br> Note: If the driver declines, Heetch can query one or more extra drivers (under certain conditions), therefore issuing more booking requests for the same ride request."
   ]
  },
  {
   "cell_type": "markdown",
   "metadata": {
    "hidden": true
   },
   "source": [
    "**Build a model that predicts whether or not a driver will accept a given booking request.**"
   ]
  },
  {
   "cell_type": "markdown",
   "metadata": {},
   "source": [
    "# Loading"
   ]
  },
  {
   "cell_type": "code",
   "execution_count": 2,
   "metadata": {},
   "outputs": [],
   "source": [
    "# General\n",
    "import io, os, sys, types, time, datetime, math, random, subprocess, tempfile\n",
    "import random\n",
    "from progressbar import ProgressBar\n",
    "pb = ProgressBar()\n",
    "import warnings\n",
    "warnings.filterwarnings('ignore')\n",
    "\n",
    "# Data manipulation\n",
    "import datetime\n",
    "import numpy as np\n",
    "import pandas as pd\n",
    "from geopy import distance\n",
    "from geopy.geocoders import Nominatim\n",
    "geolocator = Nominatim()\n",
    "\n",
    "# Vizualization\n",
    "import matplotlib.pyplot as plt\n",
    "%matplotlib inline\n",
    "import seaborn as sns\n",
    "\n",
    "# Feature Selection and Encoding\n",
    "from sklearn.feature_selection import RFE, RFECV\n",
    "from sklearn.svm import SVR\n",
    "from sklearn.decomposition import PCA\n",
    "from sklearn.preprocessing import OneHotEncoder, LabelEncoder, label_binarize\n",
    "\n",
    "# Resampling, Split, Grid and Random Search\n",
    "from imblearn.over_sampling import SMOTE\n",
    "import scipy.stats as st\n",
    "from scipy.stats import randint as sp_randint\n",
    "from sklearn.model_selection import GridSearchCV, RandomizedSearchCV, train_test_split\n",
    "\n",
    "# Machine learning \n",
    "import sklearn.ensemble as ske\n",
    "from sklearn import datasets, model_selection, tree, preprocessing, metrics, linear_model\n",
    "from sklearn.svm import LinearSVC\n",
    "from sklearn.ensemble import RandomForestClassifier, GradientBoostingClassifier\n",
    "from sklearn.neighbors import KNeighborsClassifier\n",
    "from sklearn.naive_bayes import GaussianNB\n",
    "from sklearn.linear_model import LinearRegression, LogisticRegression, Ridge, Lasso, SGDClassifier\n",
    "from sklearn.tree import DecisionTreeClassifier\n",
    "\n",
    "# Metrics\n",
    "from sklearn.metrics import precision_recall_fscore_support, roc_curve, auc"
   ]
  },
  {
   "cell_type": "code",
   "execution_count": 70,
   "metadata": {},
   "outputs": [],
   "source": [
    "rides = pd.read_csv('data/rideRequests.log')\n",
    "bookings = pd.read_csv('data/bookingRequests.log')\n",
    "drivers = pd.read_csv('data/drivers.log')"
   ]
  },
  {
   "cell_type": "markdown",
   "metadata": {
    "heading_collapsed": true
   },
   "source": [
    "# Data Exploration"
   ]
  },
  {
   "cell_type": "markdown",
   "metadata": {
    "heading_collapsed": true,
    "hidden": true
   },
   "source": [
    "### Timeframe of the dataset"
   ]
  },
  {
   "cell_type": "markdown",
   "metadata": {
    "hidden": true
   },
   "source": [
    "Our dataset represents all the rides of the 24h-period from 29/10/18 1PM to 30/10/18 1PM:"
   ]
  },
  {
   "cell_type": "code",
   "execution_count": 7,
   "metadata": {
    "hidden": true
   },
   "outputs": [
    {
     "name": "stdout",
     "output_type": "stream",
     "text": [
      "first ride:  2018-10-29 13:04:49.561193 \n",
      "last ride:  2018-10-30 12:53:58.996917\n"
     ]
    }
   ],
   "source": [
    "import datetime\n",
    "\n",
    "def date_time(timestamp):\n",
    "    return datetime.datetime.fromtimestamp(timestamp)\n",
    "\n",
    "first_date = date_time(rides['created_at'][0])\n",
    "last_date = date_time(rides['created_at'][len(rides)-1])\n",
    "print('first ride: ',first_date,'\\nlast ride: ',last_date)"
   ]
  },
  {
   "cell_type": "markdown",
   "metadata": {
    "heading_collapsed": true,
    "hidden": true
   },
   "source": [
    "### Rides per driver and acceptance rate"
   ]
  },
  {
   "cell_type": "markdown",
   "metadata": {
    "hidden": true
   },
   "source": [
    "Let's see if we need to remove outliers for modeling:<br>\n",
    "The max and min nb of rides per driver and acceptance rate seem very high compared to the average and median, but when looking at the related distributions (or log of the distribution in case of the rides to remove the skewness of the data), we can see there's no isolated outlying driver to remove."
   ]
  },
  {
   "cell_type": "code",
   "execution_count": 126,
   "metadata": {
    "hidden": true,
    "scrolled": true
   },
   "outputs": [
    {
     "name": "stdout",
     "output_type": "stream",
     "text": [
      "nb of rides:  27635 \n",
      "nb of drivers:  51211 \n",
      "-\n",
      "avg nb of rides per driver 15.495590088198236 \n",
      "min nb of rides per driver 1.0 \n",
      "median nb of rides per driver 9.0 \n",
      "max nb of rides per driver 178.0 \n",
      "-\n",
      "avg acceptance rate 0.4403658333015167 \n",
      "min acceptance rate 0.0 \n",
      "median acceptance rate 0.46153846153846156 \n",
      "max acceptance rate 1.0\n"
     ]
    }
   ],
   "source": [
    "group = bookings.groupby('driver_id')\n",
    "count_group = bookings.groupby('driver_id').count().describe()\n",
    "sum_group = bookings.groupby('driver_id').sum().describe()\n",
    "\n",
    "\n",
    "print('nb of rides: ',len(rides),\n",
    "      '\\nnb of drivers: ',len(drivers),\n",
    "     '\\n-\\navg nb of rides per driver',count_group['driver_accepted']['mean'],\n",
    "     '\\nmin nb of rides per driver',count_group['driver_accepted']['min'],\n",
    "      '\\nmedian nb of rides per driver',count_group['driver_accepted']['50%'],\n",
    "     '\\nmax nb of rides per driver',count_group['driver_accepted']['max'],\n",
    "    '\\n-\\navg acceptance rate',(group['driver_accepted'].sum()/group['driver_accepted'].count()).mean(),\n",
    "    '\\nmin acceptance rate',(group['driver_accepted'].sum()/group['driver_accepted'].count()).min(),      \n",
    "     '\\nmedian acceptance rate',(group['driver_accepted'].sum()/group['driver_accepted'].count()).median(),\n",
    "     '\\nmax acceptance rate',(group['driver_accepted'].sum()/group['driver_accepted'].count()).max())"
   ]
  },
  {
   "cell_type": "code",
   "execution_count": 407,
   "metadata": {
    "hidden": true,
    "scrolled": true
   },
   "outputs": [
    {
     "data": {
      "image/png": "[encoded data removed]",
      "text/plain": [
       "<Figure size 720x216 with 2 Axes>"
      ]
     },
     "metadata": {
      "needs_background": "light"
     },
     "output_type": "display_data"
    }
   ],
   "source": [
    "plt.figure(figsize=(10,3))\n",
    "\n",
    "plt.subplot(1,2,1)\n",
    "sns.distplot(group.count()['driver_accepted'].apply(lambda x:np.log(x)))\n",
    "\n",
    "plt.title('number of rides per driver' + ' distribution')\n",
    "\n",
    "plt.subplot(1,2,2)\n",
    "sns.distplot((group['driver_accepted'].sum()/group['driver_accepted'].count()))\n",
    "plt.title('drivers acceptance rate' + ' distribution')\n",
    "    \n",
    "plt.show()"
   ]
  },
  {
   "cell_type": "markdown",
   "metadata": {
    "heading_collapsed": true,
    "hidden": true
   },
   "source": [
    "### Session time and shifts"
   ]
  },
  {
   "cell_type": "markdown",
   "metadata": {
    "hidden": true
   },
   "source": [
    "Drivers update their state 10 times in average in a day"
   ]
  },
  {
   "cell_type": "code",
   "execution_count": 196,
   "metadata": {
    "hidden": true
   },
   "outputs": [
    {
     "data": {
      "text/html": [
       "<div>\n",
       "<style scoped>\n",
       "    .dataframe tbody tr th:only-of-type {\n",
       "        vertical-align: middle;\n",
       "    }\n",
       "\n",
       "    .dataframe tbody tr th {\n",
       "        vertical-align: top;\n",
       "    }\n",
       "\n",
       "    .dataframe thead th {\n",
       "        text-align: right;\n",
       "    }\n",
       "</style>\n",
       "<table border=\"1\" class=\"dataframe\">\n",
       "  <thead>\n",
       "    <tr style=\"text-align: right;\">\n",
       "      <th></th>\n",
       "      <th>logged_at</th>\n",
       "      <th>new_state</th>\n",
       "    </tr>\n",
       "  </thead>\n",
       "  <tbody>\n",
       "    <tr>\n",
       "      <th>count</th>\n",
       "      <td>4947.000000</td>\n",
       "      <td>4947.000000</td>\n",
       "    </tr>\n",
       "    <tr>\n",
       "      <th>mean</th>\n",
       "      <td>10.351930</td>\n",
       "      <td>10.351930</td>\n",
       "    </tr>\n",
       "    <tr>\n",
       "      <th>std</th>\n",
       "      <td>5.878509</td>\n",
       "      <td>5.878509</td>\n",
       "    </tr>\n",
       "    <tr>\n",
       "      <th>min</th>\n",
       "      <td>2.000000</td>\n",
       "      <td>2.000000</td>\n",
       "    </tr>\n",
       "    <tr>\n",
       "      <th>25%</th>\n",
       "      <td>6.000000</td>\n",
       "      <td>6.000000</td>\n",
       "    </tr>\n",
       "    <tr>\n",
       "      <th>50%</th>\n",
       "      <td>10.000000</td>\n",
       "      <td>10.000000</td>\n",
       "    </tr>\n",
       "    <tr>\n",
       "      <th>75%</th>\n",
       "      <td>14.000000</td>\n",
       "      <td>14.000000</td>\n",
       "    </tr>\n",
       "    <tr>\n",
       "      <th>max</th>\n",
       "      <td>40.000000</td>\n",
       "      <td>40.000000</td>\n",
       "    </tr>\n",
       "  </tbody>\n",
       "</table>\n",
       "</div>"
      ],
      "text/plain": [
       "         logged_at    new_state\n",
       "count  4947.000000  4947.000000\n",
       "mean     10.351930    10.351930\n",
       "std       5.878509     5.878509\n",
       "min       2.000000     2.000000\n",
       "25%       6.000000     6.000000\n",
       "50%      10.000000    10.000000\n",
       "75%      14.000000    14.000000\n",
       "max      40.000000    40.000000"
      ]
     },
     "execution_count": 196,
     "metadata": {},
     "output_type": "execute_result"
    }
   ],
   "source": [
    "drivers.groupby('driver_id').count().sort_values(by='logged_at',ascending=False).describe()"
   ]
  },
  {
   "cell_type": "markdown",
   "metadata": {
    "hidden": true
   },
   "source": [
    "Looking at the median driver, he did a 3h night shift with no inter disconnection."
   ]
  },
  {
   "cell_type": "code",
   "execution_count": 281,
   "metadata": {
    "hidden": true,
    "scrolled": true
   },
   "outputs": [
    {
     "data": {
      "text/html": [
       "<div>\n",
       "<style scoped>\n",
       "    .dataframe tbody tr th:only-of-type {\n",
       "        vertical-align: middle;\n",
       "    }\n",
       "\n",
       "    .dataframe tbody tr th {\n",
       "        vertical-align: top;\n",
       "    }\n",
       "\n",
       "    .dataframe thead th {\n",
       "        text-align: right;\n",
       "    }\n",
       "</style>\n",
       "<table border=\"1\" class=\"dataframe\">\n",
       "  <thead>\n",
       "    <tr style=\"text-align: right;\">\n",
       "      <th></th>\n",
       "      <th>logged_at</th>\n",
       "      <th>new_state</th>\n",
       "    </tr>\n",
       "  </thead>\n",
       "  <tbody>\n",
       "    <tr>\n",
       "      <th>7294</th>\n",
       "      <td>2018-10-29 19:02:06.686710</td>\n",
       "      <td>connected</td>\n",
       "    </tr>\n",
       "    <tr>\n",
       "      <th>17321</th>\n",
       "      <td>2018-10-29 22:23:58.997077</td>\n",
       "      <td>began_ride</td>\n",
       "    </tr>\n",
       "    <tr>\n",
       "      <th>17995</th>\n",
       "      <td>2018-10-29 22:34:04.935845</td>\n",
       "      <td>ended_ride</td>\n",
       "    </tr>\n",
       "    <tr>\n",
       "      <th>22780</th>\n",
       "      <td>2018-10-29 23:35:58.997749</td>\n",
       "      <td>began_ride</td>\n",
       "    </tr>\n",
       "    <tr>\n",
       "      <th>23761</th>\n",
       "      <td>2018-10-29 23:47:03.735306</td>\n",
       "      <td>ended_ride</td>\n",
       "    </tr>\n",
       "    <tr>\n",
       "      <th>27222</th>\n",
       "      <td>2018-10-30 00:23:58.999913</td>\n",
       "      <td>began_ride</td>\n",
       "    </tr>\n",
       "    <tr>\n",
       "      <th>28997</th>\n",
       "      <td>2018-10-30 00:44:03.791286</td>\n",
       "      <td>ended_ride</td>\n",
       "    </tr>\n",
       "    <tr>\n",
       "      <th>33548</th>\n",
       "      <td>2018-10-30 01:41:58.999751</td>\n",
       "      <td>began_ride</td>\n",
       "    </tr>\n",
       "    <tr>\n",
       "      <th>35482</th>\n",
       "      <td>2018-10-30 02:06:50.048924</td>\n",
       "      <td>ended_ride</td>\n",
       "    </tr>\n",
       "    <tr>\n",
       "      <th>38269</th>\n",
       "      <td>2018-10-30 02:41:58.999844</td>\n",
       "      <td>disconnected</td>\n",
       "    </tr>\n",
       "  </tbody>\n",
       "</table>\n",
       "</div>"
      ],
      "text/plain": [
       "                       logged_at     new_state\n",
       "7294  2018-10-29 19:02:06.686710     connected\n",
       "17321 2018-10-29 22:23:58.997077    began_ride\n",
       "17995 2018-10-29 22:34:04.935845    ended_ride\n",
       "22780 2018-10-29 23:35:58.997749    began_ride\n",
       "23761 2018-10-29 23:47:03.735306    ended_ride\n",
       "27222 2018-10-30 00:23:58.999913    began_ride\n",
       "28997 2018-10-30 00:44:03.791286    ended_ride\n",
       "33548 2018-10-30 01:41:58.999751    began_ride\n",
       "35482 2018-10-30 02:06:50.048924    ended_ride\n",
       "38269 2018-10-30 02:41:58.999844  disconnected"
      ]
     },
     "execution_count": 281,
     "metadata": {},
     "output_type": "execute_result"
    }
   ],
   "source": [
    "median_id = len(drivers.groupby('driver_id').count())//2\n",
    "median_driver = drivers.groupby('driver_id').count().sort_values(by='logged_at',ascending=False).iloc[median_id].name\n",
    "pd.concat([drivers[drivers['driver_id']==median_driver]['logged_at'].apply(lambda x:date_time(x)),\n",
    "          drivers[drivers['driver_id']==median_driver]['new_state']],\n",
    "          axis=1)"
   ]
  },
  {
   "cell_type": "markdown",
   "metadata": {
    "hidden": true
   },
   "source": [
    "The driver with the maximum number of trips did an 12h shift. We can see he took a break of two hours at midnight but never disconnected when not riding, so there is no noise of app closing to take into account."
   ]
  },
  {
   "cell_type": "code",
   "execution_count": 401,
   "metadata": {
    "hidden": true,
    "scrolled": true
   },
   "outputs": [
    {
     "data": {
      "text/plain": [
       "Text(0.5, 1.0, 'Driver with the most rides history')"
      ]
     },
     "execution_count": 401,
     "metadata": {},
     "output_type": "execute_result"
    },
    {
     "data": {
      "image/png": "[encoded data removed]",
      "text/plain": [
       "<Figure size 4320x432 with 1 Axes>"
      ]
     },
     "metadata": {
      "needs_background": "light"
     },
     "output_type": "display_data"
    }
   ],
   "source": [
    "max_id = 0\n",
    "max_driver = drivers.groupby('driver_id').count().sort_values(by='logged_at',ascending=False).iloc[max_id].name\n",
    "\n",
    "state = {'disconnected':0,'connected':1,'began_ride':2,'ended_ride':1}\n",
    "y_labels = ['disconnected','disconnected','not in a ride','started a ride']\n",
    "\n",
    "fig = plt.figure(figsize=(60,6))\n",
    "ax1 = plt.subplot2grid((3,3),(0,0))\n",
    "pd.concat([drivers[drivers['driver_id']==max_driver]['logged_at'].apply(lambda x:date_time(x).day+date_time(x).hour/24+date_time(x).minute/1440),\n",
    "          drivers[drivers['driver_id']==max_driver]['new_state'].apply(lambda x:state[x])],\n",
    "          axis=1).plot(x='logged_at',y='new_state',style='o',ax=ax1)\n",
    "ax1.set_yticklabels(y_labels)\n",
    "ax1.set_title('Driver with the most rides history')"
   ]
  },
  {
   "cell_type": "markdown",
   "metadata": {
    "hidden": true
   },
   "source": [
    "In fact, no driver has loggen in the app multiple times so we can infer there's no competition to take into account here, as they don't close the app while on a ride in another app."
   ]
  },
  {
   "cell_type": "code",
   "execution_count": 511,
   "metadata": {
    "hidden": true,
    "scrolled": true
   },
   "outputs": [
    {
     "data": {
      "text/html": [
       "<div>\n",
       "<style scoped>\n",
       "    .dataframe tbody tr th:only-of-type {\n",
       "        vertical-align: middle;\n",
       "    }\n",
       "\n",
       "    .dataframe tbody tr th {\n",
       "        vertical-align: top;\n",
       "    }\n",
       "\n",
       "    .dataframe thead th {\n",
       "        text-align: right;\n",
       "    }\n",
       "</style>\n",
       "<table border=\"1\" class=\"dataframe\">\n",
       "  <thead>\n",
       "    <tr style=\"text-align: right;\">\n",
       "      <th></th>\n",
       "      <th>logged_at</th>\n",
       "      <th>new_state</th>\n",
       "    </tr>\n",
       "  </thead>\n",
       "  <tbody>\n",
       "    <tr>\n",
       "      <th>count</th>\n",
       "      <td>4913.0</td>\n",
       "      <td>4913.0</td>\n",
       "    </tr>\n",
       "    <tr>\n",
       "      <th>mean</th>\n",
       "      <td>1.0</td>\n",
       "      <td>1.0</td>\n",
       "    </tr>\n",
       "    <tr>\n",
       "      <th>std</th>\n",
       "      <td>0.0</td>\n",
       "      <td>0.0</td>\n",
       "    </tr>\n",
       "    <tr>\n",
       "      <th>min</th>\n",
       "      <td>1.0</td>\n",
       "      <td>1.0</td>\n",
       "    </tr>\n",
       "    <tr>\n",
       "      <th>25%</th>\n",
       "      <td>1.0</td>\n",
       "      <td>1.0</td>\n",
       "    </tr>\n",
       "    <tr>\n",
       "      <th>50%</th>\n",
       "      <td>1.0</td>\n",
       "      <td>1.0</td>\n",
       "    </tr>\n",
       "    <tr>\n",
       "      <th>75%</th>\n",
       "      <td>1.0</td>\n",
       "      <td>1.0</td>\n",
       "    </tr>\n",
       "    <tr>\n",
       "      <th>max</th>\n",
       "      <td>1.0</td>\n",
       "      <td>1.0</td>\n",
       "    </tr>\n",
       "  </tbody>\n",
       "</table>\n",
       "</div>"
      ],
      "text/plain": [
       "       logged_at  new_state\n",
       "count     4913.0     4913.0\n",
       "mean         1.0        1.0\n",
       "std          0.0        0.0\n",
       "min          1.0        1.0\n",
       "25%          1.0        1.0\n",
       "50%          1.0        1.0\n",
       "75%          1.0        1.0\n",
       "max          1.0        1.0"
      ]
     },
     "execution_count": 511,
     "metadata": {},
     "output_type": "execute_result"
    }
   ],
   "source": [
    "drivers[drivers['new_state']=='disconnected'].groupby('driver_id').count().describe()"
   ]
  },
  {
   "cell_type": "markdown",
   "metadata": {},
   "source": [
    "# Features Engineering"
   ]
  },
  {
   "cell_type": "markdown",
   "metadata": {
    "heading_collapsed": true
   },
   "source": [
    "## Used"
   ]
  },
  {
   "cell_type": "markdown",
   "metadata": {
    "heading_collapsed": true,
    "hidden": true
   },
   "source": [
    "### Booking and driver matching trial for each ride"
   ]
  },
  {
   "cell_type": "markdown",
   "metadata": {
    "hidden": true
   },
   "source": [
    "We join rides and booking to create a request table containing all the rides with each driver match. We drop the requests that didn't matched a driver"
   ]
  },
  {
   "cell_type": "code",
   "execution_count": 70,
   "metadata": {
    "hidden": true
   },
   "outputs": [],
   "source": [
    "# Merge the tables\n",
    "def request_build(rides,bookings):\n",
    "    requests = pd.merge(rides,bookings,how='outer',on='ride_id')\n",
    "    requests = requests.dropna()\n",
    "    return requests\n",
    "\n",
    "requests = request_build(rides,bookings)"
   ]
  },
  {
   "cell_type": "markdown",
   "metadata": {
    "heading_collapsed": true,
    "hidden": true
   },
   "source": [
    "### Distance between the driver, rider, destination"
   ]
  },
  {
   "cell_type": "code",
   "execution_count": 18,
   "metadata": {
    "hidden": true
   },
   "outputs": [],
   "source": [
    "# Get one distance\n",
    "def distances(lat1,lon1,lat2,lon2):\n",
    "    return distance.distance((lat1,lon1),(lat2,lon2)).km\n",
    "\n",
    "# Get all distances (iterative solution)\n",
    "def comp_distances(requests):\n",
    "\n",
    "    distances = pd.DataFrame(columns = ['ride_id','driver_id','origin_dist','dest_dist','ride_length'])\n",
    "\n",
    "    for req in pb(requests.iterrows()):\n",
    "        ride_id = req[1]['ride_id']\n",
    "        driver_id = req[1]['driver_id']\n",
    "        origin_dist = distance.distance((req[1]['origin_lat'],req[1]['origin_lon']),(req[1]['driver_lat'],req[1]['driver_lon'])).km\n",
    "        dest_dist = distance.distance((req[1]['destination_lat'],req[1]['destination_lon']),(req[1]['driver_lat'],req[1]['driver_lon'])).km\n",
    "        ride_length = distance.distance((req[1]['destination_lat'],req[1]['destination_lon']),(req[1]['origin_lat'],req[1]['origin_lon'])).km\n",
    "        distances.loc[len(distances)] = [ride_id,driver_id,origin_dist,dest_dist,ride_length]\n",
    "\n",
    "    return pd.merge(requests,distances,how='outer',on=['ride_id','driver_id']) \n",
    "\n",
    "# Get all distances (matrix optimized solution)\n",
    "def comp_distances(requests):\n",
    "    requests['origin_dist'] = np.vectorize(distances)(requests['origin_lat'], requests['origin_lon'],requests['driver_lat'],requests['driver_lon'])\n",
    "    requests['dest_dist'] = np.vectorize(distances)(requests['destination_lat'], requests['destination_lon'],requests['driver_lat'],requests['driver_lon'])\n",
    "    requests['ride_length'] = np.vectorize(distances)(requests['destination_lat'], requests['destination_lon'],requests['origin_lat'], requests['origin_lon'])\n",
    "    return requests\n",
    "\n",
    "requests = comp_distances(requests)"
   ]
  },
  {
   "cell_type": "markdown",
   "metadata": {
    "heading_collapsed": true,
    "hidden": true
   },
   "source": [
    "### Distance between the destination and the driver's home"
   ]
  },
  {
   "cell_type": "markdown",
   "metadata": {
    "hidden": true
   },
   "source": [
    "We formulate the hypothesis that the driver's home location is the location he is at at his first request."
   ]
  },
  {
   "cell_type": "code",
   "execution_count": 46,
   "metadata": {
    "hidden": true
   },
   "outputs": [
    {
     "name": "stderr",
     "output_type": "stream",
     "text": [
      "| |      #                                         | 1849 Elapsed Time: 0:26:42"
     ]
    }
   ],
   "source": [
    "# compute home distance\n",
    "def comp_home_distance(requests):\n",
    "    home_distances = pd.DataFrame(columns = ['driver_id','home_dist'])\n",
    "    \n",
    "    for req in pb(requests.loc[requests.groupby('driver_id')['logged_at'].idxmin()].iterrows()):\n",
    "        driver_id = req[1]['driver_id']\n",
    "        home_dist = distance.distance((req[1]['destination_lat'],req[1]['destination_lon']),(req[1]['driver_lat'],req[1]['driver_lon'])).km\n",
    "        home_distances.loc[len(home_distances)] = [driver_id,home_dist]\n",
    "        \n",
    "    return pd.merge(requests,home_distances,how='outer',on=['driver_id']) \n",
    "\n",
    "requests = comp_home_distance(requests)"
   ]
  },
  {
   "cell_type": "markdown",
   "metadata": {
    "heading_collapsed": true,
    "hidden": true
   },
   "source": [
    "### Hours of the day"
   ]
  },
  {
   "cell_type": "markdown",
   "metadata": {
    "hidden": true
   },
   "source": [
    "Drivers may take breaks at similar times, which would decrease the probability of accepting a ride."
   ]
  },
  {
   "cell_type": "markdown",
   "metadata": {
    "hidden": true
   },
   "source": [
    "Let's add the hour of the day he receives the request as a feature."
   ]
  },
  {
   "cell_type": "code",
   "execution_count": 25,
   "metadata": {
    "hidden": true
   },
   "outputs": [],
   "source": [
    "# Get one hour\n",
    "def booking_hour(timestamp):\n",
    "    return datetime.datetime.fromtimestamp(timestamp).hour\n",
    "\n",
    "# Get all hours (matrix optimized solution)\n",
    "def get_hours(requests):\n",
    "    requests['hour'] = np.vectorize(booking_hour)(requests['logged_at'])\n",
    "    return requests\n",
    "\n",
    "requests = get_hours(requests)"
   ]
  },
  {
   "cell_type": "markdown",
   "metadata": {
    "hidden": true
   },
   "source": [
    "Let's look at the acceptance rate per hour. We can see it is very low from 3am to 1pm. <br>\n",
    "One reason could be a lack of data at that period making outliers and anomalies stronger but it's not the case. In fact, 3-5 am contain most of the data. And it's not just the bookings, it is also the case for the initial rides requests, so the multiplication of bookings per ride is not the cause."
   ]
  },
  {
   "cell_type": "code",
   "execution_count": 53,
   "metadata": {
    "hidden": true,
    "scrolled": false
   },
   "outputs": [
    {
     "data": {
      "text/plain": [
       "<matplotlib.axes._subplots.AxesSubplot at 0x1a2712a438>"
      ]
     },
     "execution_count": 53,
     "metadata": {},
     "output_type": "execute_result"
    },
    {
     "data": {
      "image/png": "[encoded data removed]",
      "text/plain": [
       "<Figure size 432x288 with 1 Axes>"
      ]
     },
     "metadata": {
      "needs_background": "light"
     },
     "output_type": "display_data"
    }
   ],
   "source": [
    "(requests.groupby('hour')['driver_accepted'].sum()/requests.groupby('hour')['driver_accepted'].count()).plot(kind='bar',title='acceptance rate per hour')"
   ]
  },
  {
   "cell_type": "code",
   "execution_count": 55,
   "metadata": {
    "hidden": true,
    "scrolled": false
   },
   "outputs": [
    {
     "data": {
      "text/plain": [
       "<matplotlib.axes._subplots.AxesSubplot at 0x1a27304eb8>"
      ]
     },
     "execution_count": 55,
     "metadata": {},
     "output_type": "execute_result"
    },
    {
     "data": {
      "image/png": "[encoded data removed]",
      "text/plain": [
       "<Figure size 432x288 with 1 Axes>"
      ]
     },
     "metadata": {
      "needs_background": "light"
     },
     "output_type": "display_data"
    }
   ],
   "source": [
    "(requests.groupby('hour')['driver_accepted'].count()/len(requests)).plot(kind='bar',title='number of bookings per hour')"
   ]
  },
  {
   "cell_type": "code",
   "execution_count": 61,
   "metadata": {
    "hidden": true
   },
   "outputs": [
    {
     "data": {
      "text/plain": [
       "<matplotlib.axes._subplots.AxesSubplot at 0x1a29692780>"
      ]
     },
     "execution_count": 61,
     "metadata": {},
     "output_type": "execute_result"
    },
    {
     "data": {
      "image/png": "[encoded data removed]",
      "text/plain": [
       "<Figure size 432x288 with 1 Axes>"
      ]
     },
     "metadata": {
      "needs_background": "light"
     },
     "output_type": "display_data"
    }
   ],
   "source": [
    "rides['hour'] = np.vectorize(booking_hour)(rides['created_at'])\n",
    "(rides.groupby('hour')['ride_id'].count()/len(rides)).plot(kind='bar',title='number of rides per hour')"
   ]
  },
  {
   "cell_type": "markdown",
   "metadata": {
    "heading_collapsed": true,
    "hidden": true
   },
   "source": [
    "### Session time segmentation"
   ]
  },
  {
   "cell_type": "markdown",
   "metadata": {
    "hidden": true
   },
   "source": [
    "We want to add how much time drivers have spent on the app."
   ]
  },
  {
   "cell_type": "code",
   "execution_count": 23,
   "metadata": {
    "collapsed": true,
    "hidden": true
   },
   "outputs": [
    {
     "name": "stderr",
     "output_type": "stream",
     "text": [
      "\\ |              #                                | 28182 Elapsed Time: 0:01:41"
     ]
    },
    {
     "ename": "KeyboardInterrupt",
     "evalue": "",
     "output_type": "error",
     "traceback": [
      "\u001b[0;31m---------------------------------------------------------------------------\u001b[0m",
      "\u001b[0;31mKeyboardInterrupt\u001b[0m                         Traceback (most recent call last)",
      "\u001b[0;32m<ipython-input-23-336886431ac6>\u001b[0m in \u001b[0;36m<module>\u001b[0;34m\u001b[0m\n\u001b[1;32m     10\u001b[0m     \u001b[0;32mreturn\u001b[0m \u001b[0mrequests\u001b[0m\u001b[0;34m\u001b[0m\u001b[0;34m\u001b[0m\u001b[0m\n\u001b[1;32m     11\u001b[0m \u001b[0;34m\u001b[0m\u001b[0m\n\u001b[0;32m---> 12\u001b[0;31m \u001b[0mrequests\u001b[0m \u001b[0;34m=\u001b[0m \u001b[0mcomp_sessions\u001b[0m\u001b[0;34m(\u001b[0m\u001b[0mrequests\u001b[0m\u001b[0;34m,\u001b[0m\u001b[0mdrivers\u001b[0m\u001b[0;34m)\u001b[0m\u001b[0;34m\u001b[0m\u001b[0;34m\u001b[0m\u001b[0m\n\u001b[0m",
      "\u001b[0;32m<ipython-input-23-336886431ac6>\u001b[0m in \u001b[0;36mcomp_sessions\u001b[0;34m(requests, drivers)\u001b[0m\n\u001b[1;32m      4\u001b[0m     \u001b[0;32mfor\u001b[0m \u001b[0mreq\u001b[0m \u001b[0;32min\u001b[0m \u001b[0mpb\u001b[0m\u001b[0;34m(\u001b[0m\u001b[0mrequests\u001b[0m\u001b[0;34m.\u001b[0m\u001b[0miterrows\u001b[0m\u001b[0;34m(\u001b[0m\u001b[0;34m)\u001b[0m\u001b[0;34m)\u001b[0m\u001b[0;34m:\u001b[0m\u001b[0;34m\u001b[0m\u001b[0;34m\u001b[0m\u001b[0m\n\u001b[1;32m      5\u001b[0m         \u001b[0mcurrent_time\u001b[0m \u001b[0;34m=\u001b[0m \u001b[0mdate_time\u001b[0m\u001b[0;34m(\u001b[0m\u001b[0mreq\u001b[0m\u001b[0;34m[\u001b[0m\u001b[0;36m1\u001b[0m\u001b[0;34m]\u001b[0m\u001b[0;34m[\u001b[0m\u001b[0;34m'logged_at'\u001b[0m\u001b[0;34m]\u001b[0m\u001b[0;34m)\u001b[0m\u001b[0;34m\u001b[0m\u001b[0;34m\u001b[0m\u001b[0m\n\u001b[0;32m----> 6\u001b[0;31m         \u001b[0mstart_time\u001b[0m \u001b[0;34m=\u001b[0m \u001b[0mdate_time\u001b[0m\u001b[0;34m(\u001b[0m\u001b[0mdrivers\u001b[0m\u001b[0;34m[\u001b[0m\u001b[0mdrivers\u001b[0m\u001b[0;34m[\u001b[0m\u001b[0;34m'driver_id'\u001b[0m\u001b[0;34m]\u001b[0m\u001b[0;34m==\u001b[0m\u001b[0mreq\u001b[0m\u001b[0;34m[\u001b[0m\u001b[0;36m1\u001b[0m\u001b[0;34m]\u001b[0m\u001b[0;34m[\u001b[0m\u001b[0;34m'driver_id'\u001b[0m\u001b[0;34m]\u001b[0m\u001b[0;34m]\u001b[0m\u001b[0;34m[\u001b[0m\u001b[0;34m'logged_at'\u001b[0m\u001b[0;34m]\u001b[0m\u001b[0;34m.\u001b[0m\u001b[0mmin\u001b[0m\u001b[0;34m(\u001b[0m\u001b[0;34m)\u001b[0m\u001b[0;34m)\u001b[0m\u001b[0;34m\u001b[0m\u001b[0;34m\u001b[0m\u001b[0m\n\u001b[0m\u001b[1;32m      7\u001b[0m         \u001b[0msession_time\u001b[0m \u001b[0;34m=\u001b[0m \u001b[0;34m(\u001b[0m\u001b[0mcurrent_time\u001b[0m \u001b[0;34m-\u001b[0m \u001b[0mstart_time\u001b[0m\u001b[0;34m)\u001b[0m\u001b[0;34m.\u001b[0m\u001b[0mtotal_seconds\u001b[0m\u001b[0;34m(\u001b[0m\u001b[0;34m)\u001b[0m\u001b[0;34m/\u001b[0m\u001b[0;36m3600\u001b[0m\u001b[0;34m\u001b[0m\u001b[0;34m\u001b[0m\u001b[0m\n\u001b[1;32m      8\u001b[0m         \u001b[0msessions\u001b[0m\u001b[0;34m.\u001b[0m\u001b[0mappend\u001b[0m\u001b[0;34m(\u001b[0m\u001b[0msession_time\u001b[0m\u001b[0;34m)\u001b[0m\u001b[0;34m\u001b[0m\u001b[0;34m\u001b[0m\u001b[0m\n",
      "\u001b[0;32m/anaconda3/lib/python3.6/site-packages/pandas/core/frame.py\u001b[0m in \u001b[0;36m__getitem__\u001b[0;34m(self, key)\u001b[0m\n\u001b[1;32m   2916\u001b[0m         \u001b[0;31m# Do we have a (boolean) 1d indexer?\u001b[0m\u001b[0;34m\u001b[0m\u001b[0;34m\u001b[0m\u001b[0;34m\u001b[0m\u001b[0m\n\u001b[1;32m   2917\u001b[0m         \u001b[0;32mif\u001b[0m \u001b[0mcom\u001b[0m\u001b[0;34m.\u001b[0m\u001b[0mis_bool_indexer\u001b[0m\u001b[0;34m(\u001b[0m\u001b[0mkey\u001b[0m\u001b[0;34m)\u001b[0m\u001b[0;34m:\u001b[0m\u001b[0;34m\u001b[0m\u001b[0;34m\u001b[0m\u001b[0m\n\u001b[0;32m-> 2918\u001b[0;31m             \u001b[0;32mreturn\u001b[0m \u001b[0mself\u001b[0m\u001b[0;34m.\u001b[0m\u001b[0m_getitem_bool_array\u001b[0m\u001b[0;34m(\u001b[0m\u001b[0mkey\u001b[0m\u001b[0;34m)\u001b[0m\u001b[0;34m\u001b[0m\u001b[0;34m\u001b[0m\u001b[0m\n\u001b[0m\u001b[1;32m   2919\u001b[0m \u001b[0;34m\u001b[0m\u001b[0m\n\u001b[1;32m   2920\u001b[0m         \u001b[0;31m# We are left with two options: a single key, and a collection of keys,\u001b[0m\u001b[0;34m\u001b[0m\u001b[0;34m\u001b[0m\u001b[0;34m\u001b[0m\u001b[0m\n",
      "\u001b[0;32m/anaconda3/lib/python3.6/site-packages/pandas/core/frame.py\u001b[0m in \u001b[0;36m_getitem_bool_array\u001b[0;34m(self, key)\u001b[0m\n\u001b[1;32m   2967\u001b[0m         \u001b[0mkey\u001b[0m \u001b[0;34m=\u001b[0m \u001b[0mcheck_bool_indexer\u001b[0m\u001b[0;34m(\u001b[0m\u001b[0mself\u001b[0m\u001b[0;34m.\u001b[0m\u001b[0mindex\u001b[0m\u001b[0;34m,\u001b[0m \u001b[0mkey\u001b[0m\u001b[0;34m)\u001b[0m\u001b[0;34m\u001b[0m\u001b[0;34m\u001b[0m\u001b[0m\n\u001b[1;32m   2968\u001b[0m         \u001b[0mindexer\u001b[0m \u001b[0;34m=\u001b[0m \u001b[0mkey\u001b[0m\u001b[0;34m.\u001b[0m\u001b[0mnonzero\u001b[0m\u001b[0;34m(\u001b[0m\u001b[0;34m)\u001b[0m\u001b[0;34m[\u001b[0m\u001b[0;36m0\u001b[0m\u001b[0;34m]\u001b[0m\u001b[0;34m\u001b[0m\u001b[0;34m\u001b[0m\u001b[0m\n\u001b[0;32m-> 2969\u001b[0;31m         \u001b[0;32mreturn\u001b[0m \u001b[0mself\u001b[0m\u001b[0;34m.\u001b[0m\u001b[0m_take\u001b[0m\u001b[0;34m(\u001b[0m\u001b[0mindexer\u001b[0m\u001b[0;34m,\u001b[0m \u001b[0maxis\u001b[0m\u001b[0;34m=\u001b[0m\u001b[0;36m0\u001b[0m\u001b[0;34m)\u001b[0m\u001b[0;34m\u001b[0m\u001b[0;34m\u001b[0m\u001b[0m\n\u001b[0m\u001b[1;32m   2970\u001b[0m \u001b[0;34m\u001b[0m\u001b[0m\n\u001b[1;32m   2971\u001b[0m     \u001b[0;32mdef\u001b[0m \u001b[0m_getitem_multilevel\u001b[0m\u001b[0;34m(\u001b[0m\u001b[0mself\u001b[0m\u001b[0;34m,\u001b[0m \u001b[0mkey\u001b[0m\u001b[0;34m)\u001b[0m\u001b[0;34m:\u001b[0m\u001b[0;34m\u001b[0m\u001b[0;34m\u001b[0m\u001b[0m\n",
      "\u001b[0;32m/anaconda3/lib/python3.6/site-packages/pandas/core/generic.py\u001b[0m in \u001b[0;36m_take\u001b[0;34m(self, indices, axis, is_copy)\u001b[0m\n\u001b[1;32m   3357\u001b[0m         new_data = self._data.take(indices,\n\u001b[1;32m   3358\u001b[0m                                    \u001b[0maxis\u001b[0m\u001b[0;34m=\u001b[0m\u001b[0mself\u001b[0m\u001b[0;34m.\u001b[0m\u001b[0m_get_block_manager_axis\u001b[0m\u001b[0;34m(\u001b[0m\u001b[0maxis\u001b[0m\u001b[0;34m)\u001b[0m\u001b[0;34m,\u001b[0m\u001b[0;34m\u001b[0m\u001b[0;34m\u001b[0m\u001b[0m\n\u001b[0;32m-> 3359\u001b[0;31m                                    verify=True)\n\u001b[0m\u001b[1;32m   3360\u001b[0m         \u001b[0mresult\u001b[0m \u001b[0;34m=\u001b[0m \u001b[0mself\u001b[0m\u001b[0;34m.\u001b[0m\u001b[0m_constructor\u001b[0m\u001b[0;34m(\u001b[0m\u001b[0mnew_data\u001b[0m\u001b[0;34m)\u001b[0m\u001b[0;34m.\u001b[0m\u001b[0m__finalize__\u001b[0m\u001b[0;34m(\u001b[0m\u001b[0mself\u001b[0m\u001b[0;34m)\u001b[0m\u001b[0;34m\u001b[0m\u001b[0;34m\u001b[0m\u001b[0m\n\u001b[1;32m   3361\u001b[0m \u001b[0;34m\u001b[0m\u001b[0m\n",
      "\u001b[0;32m/anaconda3/lib/python3.6/site-packages/pandas/core/internals/managers.py\u001b[0m in \u001b[0;36mtake\u001b[0;34m(self, indexer, axis, verify, convert)\u001b[0m\n\u001b[1;32m   1348\u001b[0m         \u001b[0mnew_labels\u001b[0m \u001b[0;34m=\u001b[0m \u001b[0mself\u001b[0m\u001b[0;34m.\u001b[0m\u001b[0maxes\u001b[0m\u001b[0;34m[\u001b[0m\u001b[0maxis\u001b[0m\u001b[0;34m]\u001b[0m\u001b[0;34m.\u001b[0m\u001b[0mtake\u001b[0m\u001b[0;34m(\u001b[0m\u001b[0mindexer\u001b[0m\u001b[0;34m)\u001b[0m\u001b[0;34m\u001b[0m\u001b[0;34m\u001b[0m\u001b[0m\n\u001b[1;32m   1349\u001b[0m         return self.reindex_indexer(new_axis=new_labels, indexer=indexer,\n\u001b[0;32m-> 1350\u001b[0;31m                                     axis=axis, allow_dups=True)\n\u001b[0m\u001b[1;32m   1351\u001b[0m \u001b[0;34m\u001b[0m\u001b[0m\n\u001b[1;32m   1352\u001b[0m     \u001b[0;32mdef\u001b[0m \u001b[0mmerge\u001b[0m\u001b[0;34m(\u001b[0m\u001b[0mself\u001b[0m\u001b[0;34m,\u001b[0m \u001b[0mother\u001b[0m\u001b[0;34m,\u001b[0m \u001b[0mlsuffix\u001b[0m\u001b[0;34m=\u001b[0m\u001b[0;34m''\u001b[0m\u001b[0;34m,\u001b[0m \u001b[0mrsuffix\u001b[0m\u001b[0;34m=\u001b[0m\u001b[0;34m''\u001b[0m\u001b[0;34m)\u001b[0m\u001b[0;34m:\u001b[0m\u001b[0;34m\u001b[0m\u001b[0;34m\u001b[0m\u001b[0m\n",
      "\u001b[0;32m/anaconda3/lib/python3.6/site-packages/pandas/core/internals/managers.py\u001b[0m in \u001b[0;36mreindex_indexer\u001b[0;34m(self, new_axis, indexer, axis, fill_value, allow_dups, copy)\u001b[0m\n\u001b[1;32m   1237\u001b[0m         \u001b[0mnew_axes\u001b[0m \u001b[0;34m=\u001b[0m \u001b[0mlist\u001b[0m\u001b[0;34m(\u001b[0m\u001b[0mself\u001b[0m\u001b[0;34m.\u001b[0m\u001b[0maxes\u001b[0m\u001b[0;34m)\u001b[0m\u001b[0;34m\u001b[0m\u001b[0;34m\u001b[0m\u001b[0m\n\u001b[1;32m   1238\u001b[0m         \u001b[0mnew_axes\u001b[0m\u001b[0;34m[\u001b[0m\u001b[0maxis\u001b[0m\u001b[0;34m]\u001b[0m \u001b[0;34m=\u001b[0m \u001b[0mnew_axis\u001b[0m\u001b[0;34m\u001b[0m\u001b[0;34m\u001b[0m\u001b[0m\n\u001b[0;32m-> 1239\u001b[0;31m         \u001b[0;32mreturn\u001b[0m \u001b[0mself\u001b[0m\u001b[0;34m.\u001b[0m\u001b[0m__class__\u001b[0m\u001b[0;34m(\u001b[0m\u001b[0mnew_blocks\u001b[0m\u001b[0;34m,\u001b[0m \u001b[0mnew_axes\u001b[0m\u001b[0;34m)\u001b[0m\u001b[0;34m\u001b[0m\u001b[0;34m\u001b[0m\u001b[0m\n\u001b[0m\u001b[1;32m   1240\u001b[0m \u001b[0;34m\u001b[0m\u001b[0m\n\u001b[1;32m   1241\u001b[0m     \u001b[0;32mdef\u001b[0m \u001b[0m_slice_take_blocks_ax0\u001b[0m\u001b[0;34m(\u001b[0m\u001b[0mself\u001b[0m\u001b[0;34m,\u001b[0m \u001b[0mslice_or_indexer\u001b[0m\u001b[0;34m,\u001b[0m \u001b[0mfill_tuple\u001b[0m\u001b[0;34m=\u001b[0m\u001b[0;32mNone\u001b[0m\u001b[0;34m)\u001b[0m\u001b[0;34m:\u001b[0m\u001b[0;34m\u001b[0m\u001b[0;34m\u001b[0m\u001b[0m\n",
      "\u001b[0;32m/anaconda3/lib/python3.6/site-packages/pandas/core/internals/managers.py\u001b[0m in \u001b[0;36m__init__\u001b[0;34m(self, blocks, axes, do_integrity_check)\u001b[0m\n\u001b[1;32m    114\u001b[0m             \u001b[0mself\u001b[0m\u001b[0;34m.\u001b[0m\u001b[0m_verify_integrity\u001b[0m\u001b[0;34m(\u001b[0m\u001b[0;34m)\u001b[0m\u001b[0;34m\u001b[0m\u001b[0;34m\u001b[0m\u001b[0m\n\u001b[1;32m    115\u001b[0m \u001b[0;34m\u001b[0m\u001b[0m\n\u001b[0;32m--> 116\u001b[0;31m         \u001b[0mself\u001b[0m\u001b[0;34m.\u001b[0m\u001b[0m_consolidate_check\u001b[0m\u001b[0;34m(\u001b[0m\u001b[0;34m)\u001b[0m\u001b[0;34m\u001b[0m\u001b[0;34m\u001b[0m\u001b[0m\n\u001b[0m\u001b[1;32m    117\u001b[0m \u001b[0;34m\u001b[0m\u001b[0m\n\u001b[1;32m    118\u001b[0m         \u001b[0mself\u001b[0m\u001b[0;34m.\u001b[0m\u001b[0m_rebuild_blknos_and_blklocs\u001b[0m\u001b[0;34m(\u001b[0m\u001b[0;34m)\u001b[0m\u001b[0;34m\u001b[0m\u001b[0;34m\u001b[0m\u001b[0m\n",
      "\u001b[0;32m/anaconda3/lib/python3.6/site-packages/pandas/core/internals/managers.py\u001b[0m in \u001b[0;36m_consolidate_check\u001b[0;34m(self)\u001b[0m\n\u001b[1;32m    598\u001b[0m \u001b[0;34m\u001b[0m\u001b[0m\n\u001b[1;32m    599\u001b[0m     \u001b[0;32mdef\u001b[0m \u001b[0m_consolidate_check\u001b[0m\u001b[0;34m(\u001b[0m\u001b[0mself\u001b[0m\u001b[0;34m)\u001b[0m\u001b[0;34m:\u001b[0m\u001b[0;34m\u001b[0m\u001b[0;34m\u001b[0m\u001b[0m\n\u001b[0;32m--> 600\u001b[0;31m         \u001b[0mftypes\u001b[0m \u001b[0;34m=\u001b[0m \u001b[0;34m[\u001b[0m\u001b[0mblk\u001b[0m\u001b[0;34m.\u001b[0m\u001b[0mftype\u001b[0m \u001b[0;32mfor\u001b[0m \u001b[0mblk\u001b[0m \u001b[0;32min\u001b[0m \u001b[0mself\u001b[0m\u001b[0;34m.\u001b[0m\u001b[0mblocks\u001b[0m\u001b[0;34m]\u001b[0m\u001b[0;34m\u001b[0m\u001b[0;34m\u001b[0m\u001b[0m\n\u001b[0m\u001b[1;32m    601\u001b[0m         \u001b[0mself\u001b[0m\u001b[0;34m.\u001b[0m\u001b[0m_is_consolidated\u001b[0m \u001b[0;34m=\u001b[0m \u001b[0mlen\u001b[0m\u001b[0;34m(\u001b[0m\u001b[0mftypes\u001b[0m\u001b[0;34m)\u001b[0m \u001b[0;34m==\u001b[0m \u001b[0mlen\u001b[0m\u001b[0;34m(\u001b[0m\u001b[0mset\u001b[0m\u001b[0;34m(\u001b[0m\u001b[0mftypes\u001b[0m\u001b[0;34m)\u001b[0m\u001b[0;34m)\u001b[0m\u001b[0;34m\u001b[0m\u001b[0;34m\u001b[0m\u001b[0m\n\u001b[1;32m    602\u001b[0m         \u001b[0mself\u001b[0m\u001b[0;34m.\u001b[0m\u001b[0m_known_consolidated\u001b[0m \u001b[0;34m=\u001b[0m \u001b[0;32mTrue\u001b[0m\u001b[0;34m\u001b[0m\u001b[0;34m\u001b[0m\u001b[0m\n",
      "\u001b[0;32m/anaconda3/lib/python3.6/site-packages/pandas/core/internals/managers.py\u001b[0m in \u001b[0;36m<listcomp>\u001b[0;34m(.0)\u001b[0m\n\u001b[1;32m    598\u001b[0m \u001b[0;34m\u001b[0m\u001b[0m\n\u001b[1;32m    599\u001b[0m     \u001b[0;32mdef\u001b[0m \u001b[0m_consolidate_check\u001b[0m\u001b[0;34m(\u001b[0m\u001b[0mself\u001b[0m\u001b[0;34m)\u001b[0m\u001b[0;34m:\u001b[0m\u001b[0;34m\u001b[0m\u001b[0;34m\u001b[0m\u001b[0m\n\u001b[0;32m--> 600\u001b[0;31m         \u001b[0mftypes\u001b[0m \u001b[0;34m=\u001b[0m \u001b[0;34m[\u001b[0m\u001b[0mblk\u001b[0m\u001b[0;34m.\u001b[0m\u001b[0mftype\u001b[0m \u001b[0;32mfor\u001b[0m \u001b[0mblk\u001b[0m \u001b[0;32min\u001b[0m \u001b[0mself\u001b[0m\u001b[0;34m.\u001b[0m\u001b[0mblocks\u001b[0m\u001b[0;34m]\u001b[0m\u001b[0;34m\u001b[0m\u001b[0;34m\u001b[0m\u001b[0m\n\u001b[0m\u001b[1;32m    601\u001b[0m         \u001b[0mself\u001b[0m\u001b[0;34m.\u001b[0m\u001b[0m_is_consolidated\u001b[0m \u001b[0;34m=\u001b[0m \u001b[0mlen\u001b[0m\u001b[0;34m(\u001b[0m\u001b[0mftypes\u001b[0m\u001b[0;34m)\u001b[0m \u001b[0;34m==\u001b[0m \u001b[0mlen\u001b[0m\u001b[0;34m(\u001b[0m\u001b[0mset\u001b[0m\u001b[0;34m(\u001b[0m\u001b[0mftypes\u001b[0m\u001b[0;34m)\u001b[0m\u001b[0;34m)\u001b[0m\u001b[0;34m\u001b[0m\u001b[0;34m\u001b[0m\u001b[0m\n\u001b[1;32m    602\u001b[0m         \u001b[0mself\u001b[0m\u001b[0;34m.\u001b[0m\u001b[0m_known_consolidated\u001b[0m \u001b[0;34m=\u001b[0m \u001b[0;32mTrue\u001b[0m\u001b[0;34m\u001b[0m\u001b[0;34m\u001b[0m\u001b[0m\n",
      "\u001b[0;32m/anaconda3/lib/python3.6/site-packages/pandas/core/internals/blocks.py\u001b[0m in \u001b[0;36mftype\u001b[0;34m(self)\u001b[0m\n\u001b[1;32m    316\u001b[0m         \u001b[0;32melse\u001b[0m\u001b[0;34m:\u001b[0m\u001b[0;34m\u001b[0m\u001b[0;34m\u001b[0m\u001b[0m\n\u001b[1;32m    317\u001b[0m             \u001b[0mdtype\u001b[0m \u001b[0;34m=\u001b[0m \u001b[0mself\u001b[0m\u001b[0;34m.\u001b[0m\u001b[0mdtype\u001b[0m\u001b[0;34m\u001b[0m\u001b[0;34m\u001b[0m\u001b[0m\n\u001b[0;32m--> 318\u001b[0;31m         \u001b[0;32mreturn\u001b[0m \u001b[0;34m\"{dtype}:{ftype}\"\u001b[0m\u001b[0;34m.\u001b[0m\u001b[0mformat\u001b[0m\u001b[0;34m(\u001b[0m\u001b[0mdtype\u001b[0m\u001b[0;34m=\u001b[0m\u001b[0mdtype\u001b[0m\u001b[0;34m,\u001b[0m \u001b[0mftype\u001b[0m\u001b[0;34m=\u001b[0m\u001b[0mself\u001b[0m\u001b[0;34m.\u001b[0m\u001b[0m_ftype\u001b[0m\u001b[0;34m)\u001b[0m\u001b[0;34m\u001b[0m\u001b[0;34m\u001b[0m\u001b[0m\n\u001b[0m\u001b[1;32m    319\u001b[0m \u001b[0;34m\u001b[0m\u001b[0m\n\u001b[1;32m    320\u001b[0m     \u001b[0;32mdef\u001b[0m \u001b[0mmerge\u001b[0m\u001b[0;34m(\u001b[0m\u001b[0mself\u001b[0m\u001b[0;34m,\u001b[0m \u001b[0mother\u001b[0m\u001b[0;34m)\u001b[0m\u001b[0;34m:\u001b[0m\u001b[0;34m\u001b[0m\u001b[0;34m\u001b[0m\u001b[0m\n",
      "\u001b[0;32m/anaconda3/lib/python3.6/site-packages/numpy/core/_dtype.py\u001b[0m in \u001b[0;36m__str__\u001b[0;34m(dtype)\u001b[0m\n\u001b[1;32m     52\u001b[0m         \u001b[0;32mreturn\u001b[0m \u001b[0mdtype\u001b[0m\u001b[0;34m.\u001b[0m\u001b[0mstr\u001b[0m\u001b[0;34m\u001b[0m\u001b[0;34m\u001b[0m\u001b[0m\n\u001b[1;32m     53\u001b[0m     \u001b[0;32melse\u001b[0m\u001b[0;34m:\u001b[0m\u001b[0;34m\u001b[0m\u001b[0;34m\u001b[0m\u001b[0m\n\u001b[0;32m---> 54\u001b[0;31m         \u001b[0;32mreturn\u001b[0m \u001b[0mdtype\u001b[0m\u001b[0;34m.\u001b[0m\u001b[0mname\u001b[0m\u001b[0;34m\u001b[0m\u001b[0;34m\u001b[0m\u001b[0m\n\u001b[0m\u001b[1;32m     55\u001b[0m \u001b[0;34m\u001b[0m\u001b[0m\n\u001b[1;32m     56\u001b[0m \u001b[0;34m\u001b[0m\u001b[0m\n",
      "\u001b[0;32m/anaconda3/lib/python3.6/site-packages/numpy/core/_dtype.py\u001b[0m in \u001b[0;36m_name_get\u001b[0;34m(dtype)\u001b[0m\n\u001b[1;32m    332\u001b[0m \u001b[0;34m\u001b[0m\u001b[0m\n\u001b[1;32m    333\u001b[0m     \u001b[0;31m# append bit counts to str, unicode, and void\u001b[0m\u001b[0;34m\u001b[0m\u001b[0;34m\u001b[0m\u001b[0;34m\u001b[0m\u001b[0m\n\u001b[0;32m--> 334\u001b[0;31m     \u001b[0;32mif\u001b[0m \u001b[0mnp\u001b[0m\u001b[0;34m.\u001b[0m\u001b[0missubdtype\u001b[0m\u001b[0;34m(\u001b[0m\u001b[0mdtype\u001b[0m\u001b[0;34m,\u001b[0m \u001b[0mnp\u001b[0m\u001b[0;34m.\u001b[0m\u001b[0mflexible\u001b[0m\u001b[0;34m)\u001b[0m \u001b[0;32mand\u001b[0m \u001b[0;32mnot\u001b[0m \u001b[0m_isunsized\u001b[0m\u001b[0;34m(\u001b[0m\u001b[0mdtype\u001b[0m\u001b[0;34m)\u001b[0m\u001b[0;34m:\u001b[0m\u001b[0;34m\u001b[0m\u001b[0;34m\u001b[0m\u001b[0m\n\u001b[0m\u001b[1;32m    335\u001b[0m         \u001b[0mname\u001b[0m \u001b[0;34m+=\u001b[0m \u001b[0;34m\"{}\"\u001b[0m\u001b[0;34m.\u001b[0m\u001b[0mformat\u001b[0m\u001b[0;34m(\u001b[0m\u001b[0mdtype\u001b[0m\u001b[0;34m.\u001b[0m\u001b[0mitemsize\u001b[0m \u001b[0;34m*\u001b[0m \u001b[0;36m8\u001b[0m\u001b[0;34m)\u001b[0m\u001b[0;34m\u001b[0m\u001b[0;34m\u001b[0m\u001b[0m\n\u001b[1;32m    336\u001b[0m \u001b[0;34m\u001b[0m\u001b[0m\n",
      "\u001b[0;31mKeyboardInterrupt\u001b[0m: "
     ]
    }
   ],
   "source": [
    "# Get all sessions duration up to the booking (iterative solution)\n",
    "def comp_sessions(requests,drivers):\n",
    "    sessions = []\n",
    "    for req in pb(requests.iterrows()):\n",
    "        current_time = date_time(req[1]['logged_at'])\n",
    "        start_time = date_time(drivers[drivers['driver_id']==req[1]['driver_id']]['logged_at'].min())\n",
    "        session_time = (current_time - start_time).total_seconds()/3600\n",
    "        sessions.append(session_time)\n",
    "    requests['session_time'] = sessions\n",
    "    return requests\n",
    "\n",
    "requests = comp_sessions(requests,drivers)"
   ]
  },
  {
   "cell_type": "markdown",
   "metadata": {
    "heading_collapsed": true
   },
   "source": [
    "## Not used"
   ]
  },
  {
   "cell_type": "markdown",
   "metadata": {
    "heading_collapsed": true,
    "hidden": true
   },
   "source": [
    "### (need API subscription) Destination zipcode"
   ]
  },
  {
   "cell_type": "markdown",
   "metadata": {
    "hidden": true
   },
   "source": [
    "**The dataset is extremely large (>50k) and most free geocoding API services are limited (10k calls/m). The code cannot be performed at the desired scale without subscribing to an API service, such as Google Maps API.**"
   ]
  },
  {
   "cell_type": "markdown",
   "metadata": {
    "hidden": true
   },
   "source": [
    "We want to segment the different locations of the destination by their area (Paris, N/S/W/E suburbs). We do that to not loose geographic informations from the latitude and longitude (we only kept distances so far). <br>\n",
    "This could be interesting if there are some area in Paris that the driver wants to avoid driving into."
   ]
  },
  {
   "cell_type": "code",
   "execution_count": 10,
   "metadata": {
    "hidden": true
   },
   "outputs": [],
   "source": [
    "# Get one zipcode\n",
    "def zipcode(lat,lon):\n",
    "    lat = round(lat,6)\n",
    "    lon = round(lon,6)\n",
    "    location = geolocator.reverse(str(lat)+','+str(lon))\n",
    "    return location.address.split(\"opolitaine\",1)[1][2:7]\n",
    "\n",
    "# Get all zipcodes (iterative version)\n",
    "def get_zipcodes(requests):\n",
    "    zips = []\n",
    "    for req in requests.iterrows():\n",
    "        print(req[0])\n",
    "        lat = req[1]['destination_lat']\n",
    "        lon = req[1]['destination_lon']\n",
    "        zips.append(zipcode(lat,lon))\n",
    "    return zips\n",
    "\n",
    "# Get all zipcodes (matrix optimized version)\n",
    "def get_zipcodes(requests):\n",
    "    return np.vectorize(zipcode)(requests['destination_lat'], requests['destination_lon'])\n",
    "\n",
    "requests['zipcode'] = get_zipcodes(requests)"
   ]
  },
  {
   "cell_type": "markdown",
   "metadata": {
    "heading_collapsed": true,
    "hidden": true
   },
   "source": [
    "### (not relevant) Acceptance rate segmentation"
   ]
  },
  {
   "cell_type": "markdown",
   "metadata": {
    "hidden": true
   },
   "source": [
    "**This may be useful as an improvement of the matching algorithm but is not directly linked to the prediction of the driver answer<br>**\n",
    "If the driver has a low acceptance rate, we match him the most relevant rides we can find, in contrast with more conciliant drivers who we know will be less exigeant."
   ]
  },
  {
   "cell_type": "markdown",
   "metadata": {
    "hidden": true
   },
   "source": [
    "We want to segment the drivers between their acceptance rate. <br>\n",
    "Looking at the distribution of the acceptance rate, we can identify four segments:\n",
    "- drivers with an acceptance rate of 0%\n",
    "- drivers with an acceptance rate below 30%\n",
    "- drivers with an acceptance rate of more than 30%\n",
    "- drivers with an acceptance rate of 100%"
   ]
  },
  {
   "cell_type": "code",
   "execution_count": 408,
   "metadata": {
    "hidden": true,
    "scrolled": false
   },
   "outputs": [
    {
     "data": {
      "image/png": "[encoded data removed]",
      "text/plain": [
       "<Figure size 1440x216 with 1 Axes>"
      ]
     },
     "metadata": {
      "needs_background": "light"
     },
     "output_type": "display_data"
    }
   ],
   "source": [
    "group = bookings.groupby('driver_id')\n",
    "\n",
    "plt.figure(figsize=(20,3))\n",
    "plt.subplot(1,2,2)\n",
    "sns.distplot((group['driver_accepted'].sum()/group['driver_accepted'].count()))\n",
    "plt.title('drivers acceptance rate' + ' distribution')\n",
    "    \n",
    "plt.show()"
   ]
  },
  {
   "cell_type": "markdown",
   "metadata": {
    "hidden": true
   },
   "source": [
    "Let's look at the drivers with 0% and 100% acceptance rate to see if we should create a segment for them or not.\n",
    "<br> We look at the number of rides and session time."
   ]
  },
  {
   "cell_type": "code",
   "execution_count": 505,
   "metadata": {
    "hidden": true,
    "scrolled": true
   },
   "outputs": [
    {
     "data": {
      "image/png": "[encoded data removed]",
      "text/plain": [
       "<Figure size 1296x360 with 4 Axes>"
      ]
     },
     "metadata": {
      "needs_background": "light"
     },
     "output_type": "display_data"
    }
   ],
   "source": [
    "plt.figure(figsize=(18,5))\n",
    "\n",
    "plt.subplot(1,4,1)\n",
    "sns.distplot(zero_rate_count)\n",
    "plt.title('0% acceptance rate distribution')\n",
    "\n",
    "plt.subplot(1,4,2)\n",
    "sns.distplot(zero_rate_count.apply(lambda x:np.log(x)))\n",
    "plt.title('0% acceptance rate log distribution')\n",
    "\n",
    "plt.subplot(1,4,3)\n",
    "sns.distplot(one_rate_count)\n",
    "plt.title('100% acceptance rate distribution')\n",
    "\n",
    "plt.subplot(1,4,4)\n",
    "sns.distplot(one_rate_count.apply(lambda x:np.log(x)))\n",
    "plt.title('100% acceptance rate log distribution')\n",
    "\n",
    "plt.show()"
   ]
  },
  {
   "cell_type": "markdown",
   "metadata": {
    "hidden": true
   },
   "source": [
    "We want to remove the riders with 3 or less rides to remove the drivers with not enough data, keeping around half of the relevant dataset."
   ]
  },
  {
   "cell_type": "code",
   "execution_count": 499,
   "metadata": {
    "hidden": true,
    "scrolled": false
   },
   "outputs": [
    {
     "data": {
      "image/png": "[encoded data removed]",
      "text/plain": [
       "<Figure size 720x216 with 2 Axes>"
      ]
     },
     "metadata": {
      "needs_background": "light"
     },
     "output_type": "display_data"
    },
    {
     "name": "stdout",
     "output_type": "stream",
     "text": [
      "% of zero-rate drivers kept after removing the ones below 3 requests: 63.8 %\n",
      "% of zero-rate drivers kept after removing the ones below 3 requests: 40.5 %\n"
     ]
    }
   ],
   "source": [
    "plt.figure(figsize=(10,3))\n",
    "\n",
    "plt.subplot(1,2,1)\n",
    "zero_rate_count = group.count()[(group.sum()/group.count())['driver_accepted']==0]['request_id']\n",
    "sns.countplot(zero_rate_count)\n",
    "plt.title('Drivers with 0% acceptance rate')\n",
    "\n",
    "plt.subplot(1,2,2)\n",
    "one_rate_count = group.count()[(group.sum()/group.count())['driver_accepted']==1]['request_id']\n",
    "sns.countplot(one_rate_count)\n",
    "plt.title('Drivers with 100% acceptance rate')\n",
    "    \n",
    "plt.show()\n",
    "\n",
    "print('% of zero-rate drivers kept after removing the ones below 3 requests:',round((zero_rate_count>2).sum()/len(zero_rate_count)*100,1),'%')\n",
    "print('% of zero-rate drivers kept after removing the ones below 3 requests:',round((one_rate_count>2).sum()/len(one_rate_count)*100,1),'%')"
   ]
  },
  {
   "cell_type": "markdown",
   "metadata": {
    "heading_collapsed": true,
    "hidden": true
   },
   "source": [
    "### (not relevant) Add feature number of rides per day"
   ]
  },
  {
   "cell_type": "markdown",
   "metadata": {
    "hidden": true
   },
   "source": [
    "**This may be useful as an improvement of the matching algorithm but is not directly linked to the prediction of the driver answer<br>**\n",
    "If the driver wants to drive more than what he should, we should push him to continue to do so by matching him better rides."
   ]
  },
  {
   "cell_type": "code",
   "execution_count": 63,
   "metadata": {
    "hidden": true
   },
   "outputs": [],
   "source": [
    "# to_code"
   ]
  },
  {
   "cell_type": "markdown",
   "metadata": {
    "heading_collapsed": true,
    "hidden": true
   },
   "source": [
    "### (not useful) Previous driver state each request"
   ]
  },
  {
   "cell_type": "markdown",
   "metadata": {
    "hidden": true
   },
   "source": [
    "**This is not useful as the dataset contains very clean states**, with the drivers connecting at the beginning and disconnecting at the end, with no interruption or noisy bugs."
   ]
  },
  {
   "cell_type": "markdown",
   "metadata": {
    "hidden": true
   },
   "source": [
    "We join to it the previous and next driver state for each request: <br>"
   ]
  },
  {
   "cell_type": "code",
   "execution_count": 170,
   "metadata": {
    "hidden": true,
    "scrolled": false
   },
   "outputs": [
    {
     "name": "stdout",
     "output_type": "stream",
     "text": [
      "\n"
     ]
    }
   ],
   "source": [
    "# We create a logins dataframe containing the previous and next session\n",
    "\n",
    "logins = pd.DataFrame(columns = ['ride_id','driver_id','prev_driver_login','prev_driver_state','next_driver_login','next_driver_state'])\n",
    "\n",
    "for req in pb(requests.iterrows()):\n",
    "    \n",
    "    idx = req[0]\n",
    "    d_id = req[1][8]\n",
    "    r_id = req[1][0]\n",
    "    log_date = req[1][7]\n",
    "    req_drivers = drivers[drivers['driver_id'] == d_id]\n",
    "    \n",
    "    # previous login\n",
    "    prev_logins = req_drivers['logged_at']-log_date>=0\n",
    "    prev_login = drivers.iloc[prev_logins.idxmin()].logged_at\n",
    "    prev_state = drivers.iloc[prev_logins.idxmin()].new_state\n",
    "    requests.loc[idx]['prev_driver_login'] = prev_login\n",
    "    requests.loc[idx]['prev_driver_state'] = prev_state\n",
    "    \n",
    "    # next login\n",
    "    next_logins = -req_drivers['logged_at']+log_date>0\n",
    "    next_login = drivers.iloc[next_logins.idxmin()].logged_at\n",
    "    next_state = drivers.iloc[next_logins.idxmin()].new_state\n",
    "    requests.loc[idx]['next_driver_login'] = next_login\n",
    "    requests.loc[idx]['next_driver_state'] = next_state\n",
    "    \n",
    "    logins.loc[len(logins)] = [r_id,d_id,prev_login,prev_state,next_login,next_state]\n",
    "    \n",
    "# We join it to each request\n",
    "\n",
    "requests = pd.merge(requests,logins,how='outer',on=['ride_id','driver_id'])"
   ]
  },
  {
   "cell_type": "markdown",
   "metadata": {
    "heading_collapsed": true,
    "hidden": true
   },
   "source": [
    "### (not useful) Remove drivers with unfinished shifts"
   ]
  },
  {
   "cell_type": "markdown",
   "metadata": {
    "hidden": true
   },
   "source": [
    "**This is not useful as there are no downsides making the general algorithm learn with drivers with unfinished shifts.**"
   ]
  },
  {
   "cell_type": "markdown",
   "metadata": {
    "hidden": true
   },
   "source": [
    "We have many drivers almost immediately ending their session.  <br>\n",
    "Looking at the data, we realize our dataset ends before the drivers end their session. But those only represent less than 0.25% of the dataset so most drivers have indeed very short shifts."
   ]
  },
  {
   "cell_type": "code",
   "execution_count": 576,
   "metadata": {
    "hidden": true
   },
   "outputs": [
    {
     "name": "stdout",
     "output_type": "stream",
     "text": [
      "count    4947.000000\n",
      "mean        5.567856\n",
      "std         3.149390\n",
      "min         0.057082\n",
      "25%         3.339172\n",
      "50%         6.772283\n",
      "75%         8.270383\n",
      "max        12.672522\n",
      "Name: logged_at, dtype: float64\n"
     ]
    },
    {
     "data": {
      "text/plain": [
       "<matplotlib.axes._subplots.AxesSubplot at 0x1a35bdb828>"
      ]
     },
     "execution_count": 576,
     "metadata": {},
     "output_type": "execute_result"
    },
    {
     "data": {
      "image/png": "[encoded data removed]",
      "text/plain": [
       "<Figure size 432x288 with 1 Axes>"
      ]
     },
     "metadata": {
      "needs_background": "light"
     },
     "output_type": "display_data"
    }
   ],
   "source": [
    "session_time = (drivers.groupby('driver_id')['logged_at'].max().apply(lambda x:date_time(x))-drivers.groupby('driver_id')['logged_at'].min().apply(lambda x:date_time(x))).apply(lambda x:x.total_seconds()/3600)\n",
    "print(session_time.describe())\n",
    "sns.distplot(session_time)"
   ]
  },
  {
   "cell_type": "code",
   "execution_count": 548,
   "metadata": {
    "hidden": true,
    "scrolled": true
   },
   "outputs": [
    {
     "data": {
      "text/plain": [
       "51031   2018-10-30 12:36:58.285496\n",
       "51046   2018-10-30 12:40:23.780926\n",
       "Name: logged_at, dtype: datetime64[ns]"
      ]
     },
     "execution_count": 548,
     "metadata": {},
     "output_type": "execute_result"
    }
   ],
   "source": [
    "drivers[drivers['driver_id']=='3DCB309A-3766-4FB8-9FA7-33F983309095']['logged_at'].apply(lambda x:date_time(x))"
   ]
  },
  {
   "cell_type": "code",
   "execution_count": 568,
   "metadata": {
    "hidden": true,
    "scrolled": true
   },
   "outputs": [
    {
     "name": "stdout",
     "output_type": "stream",
     "text": [
      "drivers that were in a shift at the end of our dataset:  0.24 %\n"
     ]
    }
   ],
   "source": [
    "unfinished = len(drivers[drivers['driver_id'].isin(drivers[drivers['new_state']=='disconnected']['driver_id'])])/len(drivers)\n",
    "\n",
    "print('drivers that were in a shift at the end of our dataset: ',round((1-unfinished)*100,2),'%')"
   ]
  },
  {
   "cell_type": "code",
   "execution_count": 37,
   "metadata": {
    "hidden": true
   },
   "outputs": [],
   "source": [
    "# UNUSED: Function to remove the drivers that did not finish their shift\n",
    "def keep_full_shifts(drivers):\n",
    "    return drivers[drivers['driver_id'].isin(drivers[drivers['new_state']=='disconnected']['driver_id'])]\n",
    "\n",
    "drivers = keep_full_shifts(drivers)"
   ]
  },
  {
   "cell_type": "markdown",
   "metadata": {},
   "source": [
    "## Final Preprocessing"
   ]
  },
  {
   "cell_type": "markdown",
   "metadata": {
    "heading_collapsed": true
   },
   "source": [
    "### Drop useless features"
   ]
  },
  {
   "cell_type": "code",
   "execution_count": 164,
   "metadata": {
    "hidden": true
   },
   "outputs": [],
   "source": [
    "def drop_columns(requests):\n",
    "\n",
    "    dropped_col = ['created_at','logged_at',\n",
    "               'ride_id','request_id',                   \n",
    "               'origin_lat','origin_lon',\n",
    "               'destination_lat','destination_lon',\n",
    "               'driver_id','driver_lat','driver_lon']\n",
    "    \n",
    "    return requests.drop(dropped_col,axis=1,inplace=False)\n",
    "\n",
    "requests = drop_columns(requests)"
   ]
  },
  {
   "cell_type": "markdown",
   "metadata": {
    "heading_collapsed": true
   },
   "source": [
    "### Encode features"
   ]
  },
  {
   "cell_type": "code",
   "execution_count": 6,
   "metadata": {
    "hidden": true
   },
   "outputs": [],
   "source": [
    "def encode(requests):\n",
    "    requests['driver_accepted'] = requests['driver_accepted'].apply(lambda x:int(x))\n",
    "    requests = pd.get_dummies(requests,columns=['hour'],drop_first=True)\n",
    "    return requests\n",
    "\n",
    "requests = encode(requests)"
   ]
  },
  {
   "cell_type": "markdown",
   "metadata": {
    "heading_collapsed": true
   },
   "source": [
    "### Data Engineering Pipeline"
   ]
  },
  {
   "cell_type": "code",
   "execution_count": 73,
   "metadata": {
    "hidden": true
   },
   "outputs": [
    {
     "name": "stderr",
     "output_type": "stream",
     "text": [
      "\r",
      "                                                                               \r",
      "\r",
      "| |          #                                     | 4099 Elapsed Time: 0:02:05"
     ]
    },
    {
     "name": "stdout",
     "output_type": "stream",
     "text": [
      "Pipeline starting...\n",
      "request_build OK\n"
     ]
    },
    {
     "name": "stderr",
     "output_type": "stream",
     "text": [
      "| |                                       #       | 77888 Elapsed Time: 0:09:56\n"
     ]
    },
    {
     "name": "stdout",
     "output_type": "stream",
     "text": [
      "com_distances OK\n"
     ]
    },
    {
     "name": "stderr",
     "output_type": "stream",
     "text": [
      "| |                      #                        | 82664 Elapsed Time: 0:10:08"
     ]
    },
    {
     "name": "stdout",
     "output_type": "stream",
     "text": [
      "comp_home_distance OK\n",
      "get_hours OK\n"
     ]
    },
    {
     "name": "stderr",
     "output_type": "stream",
     "text": [
      "| |                            #                 | 164118 Elapsed Time: 0:15:59"
     ]
    },
    {
     "name": "stdout",
     "output_type": "stream",
     "text": [
      "comp_sessions OK\n",
      "encode OK\n",
      "Pipeline finished!\n"
     ]
    }
   ],
   "source": [
    "# Merge the tables\n",
    "def request_build(rides,bookings):\n",
    "    requests = pd.merge(rides,bookings,how='outer',on='ride_id')\n",
    "    requests = requests.dropna()\n",
    "    return requests\n",
    "\n",
    "# Get Distances\n",
    "### Get one distance\n",
    "def distances(lat1,lon1,lat2,lon2):\n",
    "    return distance.distance((lat1,lon1),(lat2,lon2)).km\n",
    "\n",
    "### Get all distances (matrix optimized solution)\n",
    "def comp_distances(requests):\n",
    "\n",
    "    distances = pd.DataFrame(columns = ['ride_id','driver_id','origin_dist','dest_dist','ride_length'])\n",
    "\n",
    "    for req in pb(requests.iterrows()):\n",
    "        ride_id = req[1]['ride_id']\n",
    "        driver_id = req[1]['driver_id']\n",
    "        origin_dist = distance.distance((req[1]['origin_lat'],req[1]['origin_lon']),(req[1]['driver_lat'],req[1]['driver_lon'])).km\n",
    "        dest_dist = distance.distance((req[1]['destination_lat'],req[1]['destination_lon']),(req[1]['driver_lat'],req[1]['driver_lon'])).km\n",
    "        ride_length = distance.distance((req[1]['destination_lat'],req[1]['destination_lon']),(req[1]['origin_lat'],req[1]['origin_lon'])).km\n",
    "        distances.loc[len(distances)] = [ride_id,driver_id,origin_dist,dest_dist,ride_length]\n",
    "\n",
    "    return pd.merge(requests,distances,how='outer',on=['ride_id','driver_id']) \n",
    "# Get Home Distance\n",
    "def comp_home_distance(requests):\n",
    "    home_distances = pd.DataFrame(columns = ['driver_id','home_dist'])\n",
    "    \n",
    "    for req in pb(requests.loc[requests.groupby('driver_id')['logged_at'].idxmin()].iterrows()):\n",
    "        driver_id = req[1]['driver_id']\n",
    "        home_dist = distance.distance((req[1]['destination_lat'],req[1]['destination_lon']),(req[1]['driver_lat'],req[1]['driver_lon'])).km\n",
    "        home_distances.loc[len(home_distances)] = [driver_id,home_dist]\n",
    "        \n",
    "    return pd.merge(requests,home_distances,how='outer',on=['driver_id']) \n",
    "\n",
    "# Get Hours\n",
    "### Get one hour\n",
    "def booking_hour(timestamp):\n",
    "    return datetime.datetime.fromtimestamp(timestamp).hour\n",
    "\n",
    "### Get all hours (matrix optimized solution)\n",
    "def get_hours(requests):\n",
    "    requests['hour'] = np.vectorize(booking_hour)(requests['logged_at'])\n",
    "    return requests\n",
    "\n",
    "# Get sessions\n",
    "def comp_sessions(requests,drivers):\n",
    "    sessions = []\n",
    "    for req in pb(requests.iterrows()):\n",
    "        current_time = date_time(req[1]['logged_at'])\n",
    "        start_time = date_time(drivers[drivers['driver_id']==req[1]['driver_id']]['logged_at'].min())\n",
    "        session_time = (current_time - start_time).total_seconds()/3600\n",
    "        sessions.append(session_time)\n",
    "    requests['session_time'] = sessions\n",
    "    return requests\n",
    "\n",
    "# Encoding\n",
    "def encode(requests):\n",
    "    requests['driver_accepted'] = requests['driver_accepted'].apply(lambda x:int(x))\n",
    "    requests = pd.get_dummies(requests,columns=['hour'],drop_first=True)\n",
    "    return requests\n",
    "\n",
    "def pipeline(rides,bookings,drivers):\n",
    "    print('Pipeline starting...')\n",
    "    requests = request_build(rides,bookings)\n",
    "    print('request_build OK')    \n",
    "    requests = comp_distances(requests)\n",
    "    print('com_distances OK')    \n",
    "    requests = comp_home_distance(requests)\n",
    "    print('comp_home_distance OK')    \n",
    "    requests = get_hours(requests)\n",
    "    print('get_hours OK')    \n",
    "    requests = comp_sessions(requests,drivers)\n",
    "    print('comp_sessions OK')    \n",
    "    requests = encode(requests)\n",
    "    print('encode OK')    \n",
    "    print('Pipeline finished!')    \n",
    "    return requests\n",
    "\n",
    "requests = pipeline(rides,bookings,drivers)"
   ]
  },
  {
   "cell_type": "code",
   "execution_count": 74,
   "metadata": {
    "hidden": true
   },
   "outputs": [],
   "source": [
    "requests.to_csv('data/requests_new.csv',index=False)"
   ]
  },
  {
   "cell_type": "code",
   "execution_count": 79,
   "metadata": {
    "hidden": true
   },
   "outputs": [],
   "source": [
    "# Drop useless columns\n",
    "# We keep it separate to have the full dataset saved\n",
    "# in case we have another data engineering idea later\n",
    "def drop_columns(requests):\n",
    "\n",
    "    dropped_col = ['created_at','logged_at',\n",
    "               'ride_id','request_id',                   \n",
    "               'origin_lat','origin_lon',\n",
    "               'destination_lat','destination_lon',\n",
    "               'driver_id','driver_lat','driver_lon']\n",
    "    \n",
    "    return requests.drop(dropped_col,axis=1,inplace=False)\n",
    "\n",
    "train = drop_columns(requests)"
   ]
  },
  {
   "cell_type": "code",
   "execution_count": 81,
   "metadata": {
    "hidden": true
   },
   "outputs": [],
   "source": [
    "train.to_csv('data/train.csv',index=False)"
   ]
  },
  {
   "cell_type": "markdown",
   "metadata": {},
   "source": [
    "# Modeling"
   ]
  },
  {
   "cell_type": "markdown",
   "metadata": {},
   "source": [
    "## Preparation"
   ]
  },
  {
   "cell_type": "markdown",
   "metadata": {},
   "source": [
    "### Loading and Splitting"
   ]
  },
  {
   "cell_type": "code",
   "execution_count": 3,
   "metadata": {},
   "outputs": [],
   "source": [
    "train = pd.read_csv('data/train.csv')"
   ]
  },
  {
   "cell_type": "code",
   "execution_count": 83,
   "metadata": {},
   "outputs": [],
   "source": [
    "def split(requests):\n",
    "    y = train['driver_accepted']\n",
    "    X = train.drop(['driver_accepted'],axis=1)    \n",
    "    return X,y\n",
    "\n",
    "X,y = split(requests)"
   ]
  },
  {
   "cell_type": "code",
   "execution_count": 84,
   "metadata": {},
   "outputs": [],
   "source": [
    "X_train, X_test, y_train, y_test = train_test_split(X,y,test_size=0.2)"
   ]
  },
  {
   "cell_type": "markdown",
   "metadata": {
    "heading_collapsed": true
   },
   "source": [
    "### Data Resampling"
   ]
  },
  {
   "cell_type": "markdown",
   "metadata": {
    "hidden": true
   },
   "source": [
    "Only 25% of the dataset contains accepted request. It can be a problem for the training of the classifier."
   ]
  },
  {
   "cell_type": "code",
   "execution_count": 85,
   "metadata": {
    "hidden": true
   },
   "outputs": [
    {
     "name": "stdout",
     "output_type": "stream",
     "text": [
      "% of the dataset being accepted requests:  25.45 %\n"
     ]
    }
   ],
   "source": [
    "print('% of the dataset being accepted requests: ',round(requests['driver_accepted'].mean()*100,2),'%')"
   ]
  },
  {
   "cell_type": "markdown",
   "metadata": {
    "hidden": true
   },
   "source": [
    "We rebalance the training set with the SMOT method to get a 1:1 ratio while keeping the test set unbalanced."
   ]
  },
  {
   "cell_type": "code",
   "execution_count": 86,
   "metadata": {
    "hidden": true
   },
   "outputs": [
    {
     "name": "stdout",
     "output_type": "stream",
     "text": [
      "Before OverSampling, counts of label '1': 16575\n",
      "Before OverSampling, counts of label '0': 48599 \n",
      "\n"
     ]
    }
   ],
   "source": [
    "print(\"Before OverSampling, counts of label '1': {}\".format(sum(y_train==1)))\n",
    "print(\"Before OverSampling, counts of label '0': {} \\n\".format(sum(y_train==0)))"
   ]
  },
  {
   "cell_type": "code",
   "execution_count": 87,
   "metadata": {
    "hidden": true
   },
   "outputs": [],
   "source": [
    "def rebalance(X_train,y_train):\n",
    "    sm = SMOTE(random_state=2)\n",
    "    X_train_res, y_train_res = sm.fit_sample(X_train, y_train.ravel())\n",
    "    return X_train_res,y_train_res\n",
    "\n",
    "X_train,y_train = rebalance(X_train,y_train)"
   ]
  },
  {
   "cell_type": "code",
   "execution_count": 88,
   "metadata": {
    "hidden": true,
    "scrolled": true
   },
   "outputs": [
    {
     "name": "stdout",
     "output_type": "stream",
     "text": [
      "After OverSampling, counts of label '1': 48599\n",
      "After OverSampling, counts of label '0': 48599\n"
     ]
    }
   ],
   "source": [
    "print(\"After OverSampling, counts of label '1': {}\".format(sum(y_train==1)))\n",
    "print(\"After OverSampling, counts of label '0': {}\".format(sum(y_train==0)))"
   ]
  },
  {
   "cell_type": "markdown",
   "metadata": {
    "heading_collapsed": true
   },
   "source": [
    "### Data Review"
   ]
  },
  {
   "cell_type": "markdown",
   "metadata": {
    "hidden": true
   },
   "source": [
    "Let's take one last peek at our data before we start running the Machine Learning algorithms."
   ]
  },
  {
   "cell_type": "code",
   "execution_count": 89,
   "metadata": {
    "hidden": true
   },
   "outputs": [
    {
     "data": {
      "text/plain": [
       "(97198, 28)"
      ]
     },
     "execution_count": 89,
     "metadata": {},
     "output_type": "execute_result"
    }
   ],
   "source": [
    "X_train.shape"
   ]
  },
  {
   "cell_type": "code",
   "execution_count": 90,
   "metadata": {
    "hidden": true
   },
   "outputs": [
    {
     "data": {
      "text/plain": [
       "array([[4.67948349, 3.43839953, 8.11344037, 5.56392611, 8.32852367,\n",
       "        0.        , 0.        , 0.        , 0.        , 0.        ,\n",
       "        0.        , 1.        , 0.        , 0.        , 0.        ,\n",
       "        0.        , 0.        , 0.        , 0.        , 0.        ,\n",
       "        0.        , 0.        , 0.        , 0.        , 0.        ,\n",
       "        0.        , 0.        , 0.        ],\n",
       "       [6.89692285, 7.25658507, 0.4788425 , 3.92100042, 4.91582194,\n",
       "        0.        , 0.        , 1.        , 0.        , 0.        ,\n",
       "        0.        , 0.        , 0.        , 0.        , 0.        ,\n",
       "        0.        , 0.        , 0.        , 0.        , 0.        ,\n",
       "        0.        , 0.        , 0.        , 0.        , 0.        ,\n",
       "        0.        , 0.        , 0.        ],\n",
       "       [6.98799773, 8.49284554, 5.06096691, 8.01726243, 6.52975319,\n",
       "        0.        , 0.        , 0.        , 0.        , 0.        ,\n",
       "        1.        , 0.        , 0.        , 0.        , 0.        ,\n",
       "        0.        , 0.        , 0.        , 0.        , 0.        ,\n",
       "        0.        , 0.        , 0.        , 0.        , 0.        ,\n",
       "        0.        , 0.        , 0.        ],\n",
       "       [3.08062373, 2.81356273, 1.85678479, 6.61991846, 7.06060215,\n",
       "        0.        , 0.        , 0.        , 0.        , 0.        ,\n",
       "        0.        , 0.        , 0.        , 0.        , 0.        ,\n",
       "        0.        , 0.        , 0.        , 0.        , 0.        ,\n",
       "        0.        , 0.        , 0.        , 0.        , 0.        ,\n",
       "        0.        , 1.        , 0.        ],\n",
       "       [6.37878881, 4.560009  , 5.50365439, 5.01828054, 4.90000349,\n",
       "        0.        , 0.        , 1.        , 0.        , 0.        ,\n",
       "        0.        , 0.        , 0.        , 0.        , 0.        ,\n",
       "        0.        , 0.        , 0.        , 0.        , 0.        ,\n",
       "        0.        , 0.        , 0.        , 0.        , 0.        ,\n",
       "        0.        , 0.        , 0.        ]])"
      ]
     },
     "execution_count": 90,
     "metadata": {},
     "output_type": "execute_result"
    }
   ],
   "source": [
    "X_train[:5]"
   ]
  },
  {
   "cell_type": "code",
   "execution_count": 91,
   "metadata": {
    "hidden": true,
    "scrolled": true
   },
   "outputs": [
    {
     "data": {
      "text/plain": [
       "array([0, 0, 1, 0, 0])"
      ]
     },
     "execution_count": 91,
     "metadata": {},
     "output_type": "execute_result"
    }
   ],
   "source": [
    "y_train[:5]"
   ]
  },
  {
   "cell_type": "code",
   "execution_count": 92,
   "metadata": {
    "hidden": true
   },
   "outputs": [],
   "source": [
    "# Setting a random seed will guarantee we get the same results \n",
    "# every time we run our training and testing.\n",
    "random.seed(1)"
   ]
  },
  {
   "cell_type": "markdown",
   "metadata": {},
   "source": [
    "## Modeling"
   ]
  },
  {
   "cell_type": "markdown",
   "metadata": {},
   "source": [
    "### Algorithms"
   ]
  },
  {
   "cell_type": "markdown",
   "metadata": {},
   "source": [
    "From here, we will be running the following algorithms.\n",
    "\n",
    "- KNN\n",
    "- Logistic Regression\n",
    "- Random Forest\n",
    "- Naive Bayes\n",
    "- Linear SVC\n",
    "- Gradient Boosted Trees\n",
    "- XGBoost\n",
    "\n",
    "Because there's a great deal of repetitiveness on the code for each, we'll create a custom function to analyse this.\n",
    "\n",
    "For some algorithms, we have also chosen to run a Random Hyperparameter search, to select the best hyperparameters for a given algorithm."
   ]
  },
  {
   "cell_type": "code",
   "execution_count": 93,
   "metadata": {},
   "outputs": [],
   "source": [
    "# calculate the fpr and tpr for all thresholds of the classification\n",
    "def plot_roc_curve(y_test, preds):\n",
    "    fpr, tpr, threshold = metrics.roc_curve(y_test, preds)\n",
    "    roc_auc = metrics.auc(fpr, tpr)\n",
    "    plt.title('Receiver Operating Characteristic')\n",
    "    plt.plot(fpr, tpr, 'b', label = 'AUC = %0.2f' % roc_auc)\n",
    "    plt.legend(loc = 'lower right')\n",
    "    plt.plot([0, 1], [0, 1],'r--')\n",
    "    plt.xlim([-0.01, 1.01])\n",
    "    plt.ylim([-0.01, 1.01])\n",
    "    plt.ylabel('True Positive Rate')\n",
    "    plt.xlabel('False Positive Rate')\n",
    "    plt.show()"
   ]
  },
  {
   "cell_type": "code",
   "execution_count": 94,
   "metadata": {},
   "outputs": [],
   "source": [
    "# Function that runs the requested algorithm and returns the accuracy metrics\n",
    "def fit_ml_algo(algo, X_train, y_train, X_test, cv):\n",
    "    # One Pass\n",
    "    model = algo.fit(X_train, y_train)\n",
    "    test_pred = model.predict(X_test)\n",
    "    if (isinstance(algo, (LogisticRegression, \n",
    "                          KNeighborsClassifier, \n",
    "                          GaussianNB, \n",
    "                          DecisionTreeClassifier, \n",
    "                          RandomForestClassifier,\n",
    "                          GradientBoostingClassifier))):\n",
    "        probs = model.predict_proba(X_test)[:,1]\n",
    "    else:\n",
    "        probs = \"Not Available\"\n",
    "    acc = round(model.score(X_test, y_test) * 100, 2) \n",
    "    # CV \n",
    "    train_pred = model_selection.cross_val_predict(algo, \n",
    "                                                  X_train, \n",
    "                                                  y_train, \n",
    "                                                  cv=cv, \n",
    "                                                  n_jobs = -1)\n",
    "    acc_cv = round(metrics.accuracy_score(y_train, train_pred) * 100, 2)\n",
    "    return train_pred, test_pred, acc, acc_cv, probs"
   ]
  },
  {
   "cell_type": "code",
   "execution_count": 95,
   "metadata": {},
   "outputs": [],
   "source": [
    "# Function that returns all the visuals needed to evaluate the model\n",
    "def print_metrics(acc,acc_cv,test_time,y_train,train_pred,y_test,test_pred):\n",
    "    print(\"Accuracy: %s\" % acc)\n",
    "    print(\"Accuracy CV 10-Fold: %s\" % acc_cv)\n",
    "    print(\"Running Time: %s\" % datetime.timedelta(seconds=test_time))\n",
    "    print('--\\n')\n",
    "    print('Train dataset :\\n',metrics.classification_report(y_train, train_pred))\n",
    "    print('--\\n')\n",
    "    print('Test dataset :\\n',metrics.classification_report(y_test, test_pred))\n",
    "    plot_roc_curve(y_test, probs_log)"
   ]
  },
  {
   "cell_type": "code",
   "execution_count": 96,
   "metadata": {},
   "outputs": [
    {
     "name": "stdout",
     "output_type": "stream",
     "text": [
      "RandomizedSearchCV took 185.26 seconds for 10 candidates parameter settings.\n",
      "Model with rank: 1\n",
      "Mean validation score: 0.810 (std: 0.007)\n",
      "Parameters: {'penalty': 'l1', 'intercept_scaling': 0.001184970041820014, 'class_weight': None, 'C': 42703.45819372683}\n",
      "\n",
      "Model with rank: 2\n",
      "Mean validation score: 0.810 (std: 0.007)\n",
      "Parameters: {'penalty': 'l1', 'intercept_scaling': 0.10325269360595107, 'class_weight': None, 'C': 53.2319796209445}\n",
      "\n",
      "Model with rank: 3\n",
      "Mean validation score: 0.798 (std: 0.003)\n",
      "Parameters: {'penalty': 'l1', 'intercept_scaling': 0.015059750671926723, 'class_weight': 'balanced', 'C': 0.13864818585597177}\n",
      "\n",
      "Model with rank: 4\n",
      "Mean validation score: 0.791 (std: 0.003)\n",
      "Parameters: {'penalty': 'l1', 'intercept_scaling': 3.798900911492666e+16, 'class_weight': None, 'C': 5.008065115563335e+16}\n",
      "\n",
      "Model with rank: 5\n",
      "Mean validation score: 0.612 (std: 0.001)\n",
      "Parameters: {'penalty': 'l2', 'intercept_scaling': 9.631598487109296e+16, 'class_weight': None, 'C': 29562902.748463523}\n",
      "\n"
     ]
    }
   ],
   "source": [
    "# Logistic Regression - Random Search for Hyperparameters\n",
    "\n",
    "# Utility function to report best scores\n",
    "def report(results, n_top=5):\n",
    "    for i in range(1, n_top + 1):\n",
    "        candidates = np.flatnonzero(results['rank_test_score'] == i)\n",
    "        for candidate in candidates:\n",
    "            print(\"Model with rank: {0}\".format(i))\n",
    "            print(\"Mean validation score: {0:.3f} (std: {1:.3f})\".format(\n",
    "                  results['mean_test_score'][candidate],\n",
    "                  results['std_test_score'][candidate]))\n",
    "            print(\"Parameters: {0}\".format(results['params'][candidate]))\n",
    "            print(\"\")\n",
    "            \n",
    "# Specify parameters and distributions to sample from\n",
    "param_dist = {'penalty': ['l2', 'l1'], \n",
    "                         'class_weight': [None, 'balanced'],\n",
    "                         'C': np.logspace(-20, 20, 10000), \n",
    "                         'intercept_scaling': np.logspace(-20, 20, 10000)}\n",
    "\n",
    "# Run Randomized Search\n",
    "n_iter_search = 10\n",
    "lrc = LogisticRegression()\n",
    "random_search = RandomizedSearchCV(lrc, \n",
    "                                   n_jobs=-1, \n",
    "                                   param_distributions=param_dist, \n",
    "                                   n_iter=n_iter_search)\n",
    "\n",
    "start = time.time()\n",
    "random_search.fit(X_train, y_train)\n",
    "print(\"RandomizedSearchCV took %.2f seconds for %d candidates\"\n",
    "      \" parameter settings.\" % ((time.time() - start), n_iter_search))\n",
    "report(random_search.cv_results_)"
   ]
  },
  {
   "cell_type": "code",
   "execution_count": 97,
   "metadata": {},
   "outputs": [
    {
     "name": "stdout",
     "output_type": "stream",
     "text": [
      "Accuracy: 79.49\n",
      "Accuracy CV 10-Fold: 80.96\n",
      "Running Time: 0:00:02.207896\n",
      "--\n",
      "\n",
      "Train dataset :\n",
      "               precision    recall  f1-score   support\n",
      "\n",
      "           0       0.82      0.79      0.81     48599\n",
      "           1       0.80      0.83      0.81     48599\n",
      "\n",
      "   micro avg       0.81      0.81      0.81     97198\n",
      "   macro avg       0.81      0.81      0.81     97198\n",
      "weighted avg       0.81      0.81      0.81     97198\n",
      "\n",
      "--\n",
      "\n",
      "Test dataset :\n",
      "               precision    recall  f1-score   support\n",
      "\n",
      "           0       0.92      0.79      0.85     12135\n",
      "           1       0.57      0.81      0.67      4159\n",
      "\n",
      "   micro avg       0.79      0.79      0.79     16294\n",
      "   macro avg       0.75      0.80      0.76     16294\n",
      "weighted avg       0.83      0.79      0.80     16294\n",
      "\n"
     ]
    },
    {
     "data": {
      "image/png": "[encoded data removed]",
      "text/plain": [
       "<Figure size 432x288 with 1 Axes>"
      ]
     },
     "metadata": {
      "needs_background": "light"
     },
     "output_type": "display_data"
    }
   ],
   "source": [
    "# Logistic Regression\n",
    "start_time = time.time()\n",
    "train_pred_log, test_pred_log, acc_log, acc_cv_log, probs_log = fit_ml_algo(LogisticRegression(n_jobs = -1), \n",
    "                                                                 X_train, \n",
    "                                                                 y_train, \n",
    "                                                                 X_test, \n",
    "                                                                 10)\n",
    "log_time = (time.time() - start_time)\n",
    "\n",
    "print_metrics(acc_log,acc_cv_log,log_time,y_train,train_pred_log,y_test,test_pred_log)\n"
   ]
  },
  {
   "cell_type": "code",
   "execution_count": 98,
   "metadata": {
    "scrolled": true
   },
   "outputs": [
    {
     "name": "stdout",
     "output_type": "stream",
     "text": [
      "Accuracy: 79.39\n",
      "Accuracy CV 10-Fold: 88.71\n",
      "Running Time: 0:00:07.851432\n",
      "--\n",
      "\n",
      "Train dataset :\n",
      "               precision    recall  f1-score   support\n",
      "\n",
      "           0       0.96      0.80      0.88     48599\n",
      "           1       0.83      0.97      0.90     48599\n",
      "\n",
      "   micro avg       0.89      0.89      0.89     97198\n",
      "   macro avg       0.90      0.89      0.89     97198\n",
      "weighted avg       0.90      0.89      0.89     97198\n",
      "\n",
      "--\n",
      "\n",
      "Test dataset :\n",
      "               precision    recall  f1-score   support\n",
      "\n",
      "           0       0.90      0.81      0.85     12135\n",
      "           1       0.57      0.75      0.65      4159\n",
      "\n",
      "   micro avg       0.79      0.79      0.79     16294\n",
      "   macro avg       0.74      0.78      0.75     16294\n",
      "weighted avg       0.82      0.79      0.80     16294\n",
      "\n"
     ]
    },
    {
     "data": {
      "image/png": "[encoded data removed]",
      "text/plain": [
       "<Figure size 432x288 with 1 Axes>"
      ]
     },
     "metadata": {
      "needs_background": "light"
     },
     "output_type": "display_data"
    }
   ],
   "source": [
    "# k-Nearest Neighbors\n",
    "start_time = time.time()\n",
    "train_pred_knn, test_pred_knn, acc_knn, acc_cv_knn, probs_knn = fit_ml_algo(KNeighborsClassifier(n_neighbors = 3,\n",
    "                                                                                                 n_jobs = -1), \n",
    "                                                                                                 X_train, \n",
    "                                                                                                 y_train, \n",
    "                                                                                                 X_test, \n",
    "                                                                                                 10)\n",
    "knn_time = (time.time() - start_time)\n",
    "\n",
    "print_metrics(acc_knn,acc_cv_knn,knn_time,y_train,train_pred_knn,y_test,test_pred_knn)\n"
   ]
  },
  {
   "cell_type": "code",
   "execution_count": 99,
   "metadata": {},
   "outputs": [
    {
     "name": "stdout",
     "output_type": "stream",
     "text": [
      "Accuracy: 76.88\n",
      "Accuracy CV 10-Fold: 78.06\n",
      "Running Time: 0:00:00.792338\n",
      "--\n",
      "\n",
      "Train dataset :\n",
      "               precision    recall  f1-score   support\n",
      "\n",
      "           0       0.79      0.76      0.78     48599\n",
      "           1       0.77      0.80      0.78     48599\n",
      "\n",
      "   micro avg       0.78      0.78      0.78     97198\n",
      "   macro avg       0.78      0.78      0.78     97198\n",
      "weighted avg       0.78      0.78      0.78     97198\n",
      "\n",
      "--\n",
      "\n",
      "Test dataset :\n",
      "               precision    recall  f1-score   support\n",
      "\n",
      "           0       0.91      0.76      0.83     12135\n",
      "           1       0.53      0.79      0.64      4159\n",
      "\n",
      "   micro avg       0.77      0.77      0.77     16294\n",
      "   macro avg       0.72      0.78      0.73     16294\n",
      "weighted avg       0.82      0.77      0.78     16294\n",
      "\n"
     ]
    },
    {
     "data": {
      "image/png": "[encoded data removed]",
      "text/plain": [
       "<Figure size 432x288 with 1 Axes>"
      ]
     },
     "metadata": {
      "needs_background": "light"
     },
     "output_type": "display_data"
    }
   ],
   "source": [
    "# Gaussian Naive Bayes\n",
    "start_time = time.time()\n",
    "train_pred_gaussian, test_pred_gaussian, acc_gaussian, acc_cv_gaussian, probs_gau = fit_ml_algo(GaussianNB(), \n",
    "                                                                                     X_train, \n",
    "                                                                                     y_train, \n",
    "                                                                                     X_test, \n",
    "                                                                                     10)\n",
    "gaussian_time = (time.time() - start_time)\n",
    "print_metrics(acc_gaussian,acc_cv_gaussian,gaussian_time,y_train,train_pred_gaussian,y_test,test_pred_gaussian)"
   ]
  },
  {
   "cell_type": "code",
   "execution_count": 100,
   "metadata": {},
   "outputs": [
    {
     "name": "stdout",
     "output_type": "stream",
     "text": [
      "Accuracy: 78.63\n",
      "Accuracy CV 10-Fold: 81.08\n",
      "Running Time: 0:01:02.670897\n",
      "--\n",
      "\n",
      "Train dataset :\n",
      "               precision    recall  f1-score   support\n",
      "\n",
      "           0       0.83      0.78      0.80     48599\n",
      "           1       0.79      0.84      0.82     48599\n",
      "\n",
      "   micro avg       0.81      0.81      0.81     97198\n",
      "   macro avg       0.81      0.81      0.81     97198\n",
      "weighted avg       0.81      0.81      0.81     97198\n",
      "\n",
      "--\n",
      "\n",
      "Test dataset :\n",
      "               precision    recall  f1-score   support\n",
      "\n",
      "           0       0.92      0.79      0.85     12135\n",
      "           1       0.56      0.79      0.65      4159\n",
      "\n",
      "   micro avg       0.79      0.79      0.79     16294\n",
      "   macro avg       0.74      0.79      0.75     16294\n",
      "weighted avg       0.82      0.79      0.80     16294\n",
      "\n"
     ]
    },
    {
     "data": {
      "image/png": "[encoded data removed]",
      "text/plain": [
       "<Figure size 432x288 with 1 Axes>"
      ]
     },
     "metadata": {
      "needs_background": "light"
     },
     "output_type": "display_data"
    }
   ],
   "source": [
    "# Linear SVC\n",
    "start_time = time.time()\n",
    "train_pred_svc, test_pred_svc, acc_linear_svc, acc_cv_linear_svc, _ = fit_ml_algo(LinearSVC(),\n",
    "                                                                                           X_train, \n",
    "                                                                                           y_train,\n",
    "                                                                                           X_test, \n",
    "                                                                                           10)\n",
    "linear_svc_time = (time.time() - start_time)\n",
    "print_metrics(acc_linear_svc,acc_cv_linear_svc,linear_svc_time,y_train,train_pred_svc,y_test,test_pred_svc)\n"
   ]
  },
  {
   "cell_type": "code",
   "execution_count": 101,
   "metadata": {},
   "outputs": [
    {
     "name": "stdout",
     "output_type": "stream",
     "text": [
      "RandomizedSearchCV took 65.88 seconds for 10 candidates parameter settings.\n",
      "Model with rank: 1\n",
      "Mean validation score: 0.888 (std: 0.032)\n",
      "Parameters: {'bootstrap': False, 'criterion': 'entropy', 'max_depth': None, 'max_features': 20, 'min_samples_leaf': 1, 'min_samples_split': 19}\n",
      "\n",
      "Model with rank: 2\n",
      "Mean validation score: 0.883 (std: 0.022)\n",
      "Parameters: {'bootstrap': True, 'criterion': 'gini', 'max_depth': None, 'max_features': 15, 'min_samples_leaf': 15, 'min_samples_split': 24}\n",
      "\n",
      "Model with rank: 3\n",
      "Mean validation score: 0.882 (std: 0.022)\n",
      "Parameters: {'bootstrap': True, 'criterion': 'entropy', 'max_depth': None, 'max_features': 16, 'min_samples_leaf': 17, 'min_samples_split': 13}\n",
      "\n",
      "Model with rank: 4\n",
      "Mean validation score: 0.881 (std: 0.010)\n",
      "Parameters: {'bootstrap': False, 'criterion': 'entropy', 'max_depth': 10, 'max_features': 19, 'min_samples_leaf': 1, 'min_samples_split': 21}\n",
      "\n",
      "Model with rank: 5\n",
      "Mean validation score: 0.880 (std: 0.027)\n",
      "Parameters: {'bootstrap': False, 'criterion': 'entropy', 'max_depth': None, 'max_features': 22, 'min_samples_leaf': 24, 'min_samples_split': 16}\n",
      "\n"
     ]
    }
   ],
   "source": [
    "# Random Forest Classifier - Random Search for Hyperparameters\n",
    "\n",
    "# Utility function to report best scores\n",
    "def report(results, n_top=5):\n",
    "    for i in range(1, n_top + 1):\n",
    "        candidates = np.flatnonzero(results['rank_test_score'] == i)\n",
    "        for candidate in candidates:\n",
    "            print(\"Model with rank: {0}\".format(i))\n",
    "            print(\"Mean validation score: {0:.3f} (std: {1:.3f})\".format(\n",
    "                  results['mean_test_score'][candidate],\n",
    "                  results['std_test_score'][candidate]))\n",
    "            print(\"Parameters: {0}\".format(results['params'][candidate]))\n",
    "            print(\"\")\n",
    "            \n",
    "# Specify parameters and distributions to sample from\n",
    "param_dist = {\"max_depth\": [10, None],\n",
    "              \"max_features\": sp_randint(1, X.shape[1]),\n",
    "              \"min_samples_split\": sp_randint(2, X.shape[1]),\n",
    "              \"min_samples_leaf\": sp_randint(1, X.shape[1]),\n",
    "              \"bootstrap\": [True, False],\n",
    "              \"criterion\": [\"gini\", \"entropy\"]}\n",
    "\n",
    "# Run Randomized Search\n",
    "n_iter_search = 10\n",
    "rfc = RandomForestClassifier(n_estimators=10)\n",
    "random_search = RandomizedSearchCV(rfc, \n",
    "                                   n_jobs = -1, \n",
    "                                   param_distributions=param_dist, \n",
    "                                   n_iter=n_iter_search)\n",
    "\n",
    "start = time.time()\n",
    "random_search.fit(X_train, y_train)\n",
    "print(\"RandomizedSearchCV took %.2f seconds for %d candidates\"\n",
    "      \" parameter settings.\" % ((time.time() - start), n_iter_search))\n",
    "report(random_search.cv_results_)"
   ]
  },
  {
   "cell_type": "code",
   "execution_count": 102,
   "metadata": {},
   "outputs": [
    {
     "name": "stdout",
     "output_type": "stream",
     "text": [
      "Accuracy: 85.2\n",
      "Accuracy CV 10-Fold: 89.61\n",
      "Running Time: 0:00:43.091841\n",
      "--\n",
      "\n",
      "Train dataset :\n",
      "               precision    recall  f1-score   support\n",
      "\n",
      "           0       0.92      0.86      0.89     48599\n",
      "           1       0.87      0.93      0.90     48599\n",
      "\n",
      "   micro avg       0.90      0.90      0.90     97198\n",
      "   macro avg       0.90      0.90      0.90     97198\n",
      "weighted avg       0.90      0.90      0.90     97198\n",
      "\n",
      "--\n",
      "\n",
      "Test dataset :\n",
      "               precision    recall  f1-score   support\n",
      "\n",
      "           0       0.93      0.86      0.90     12135\n",
      "           1       0.67      0.81      0.74      4159\n",
      "\n",
      "   micro avg       0.85      0.85      0.85     16294\n",
      "   macro avg       0.80      0.84      0.82     16294\n",
      "weighted avg       0.87      0.85      0.86     16294\n",
      "\n"
     ]
    },
    {
     "data": {
      "image/png": "[encoded data removed]",
      "text/plain": [
       "<Figure size 432x288 with 1 Axes>"
      ]
     },
     "metadata": {
      "needs_background": "light"
     },
     "output_type": "display_data"
    }
   ],
   "source": [
    "# Random Forest Classifier\n",
    "start_time = time.time()\n",
    "rfc = RandomForestClassifier(n_estimators=10, \n",
    "                             min_samples_leaf=2,\n",
    "                             min_samples_split=17, \n",
    "                             criterion='gini', \n",
    "                             max_features=X.shape[1])\n",
    "train_pred_rf, test_pred_rf, acc_rf, acc_cv_rf, probs_rf = fit_ml_algo(rfc, \n",
    "                                                             X_train, \n",
    "                                                             y_train, \n",
    "                                                             X_test, \n",
    "                                                             10)\n",
    "rf_time = (time.time() - start_time)\n",
    "print_metrics(acc_rf,acc_cv_rf,rf_time,y_train,train_pred_rf,y_test,test_pred_rf)\n"
   ]
  },
  {
   "cell_type": "code",
   "execution_count": 103,
   "metadata": {},
   "outputs": [
    {
     "name": "stdout",
     "output_type": "stream",
     "text": [
      "Accuracy: 82.67\n",
      "Accuracy CV 10-Fold: 87.46\n",
      "Running Time: 0:01:28.384436\n",
      "--\n",
      "\n",
      "Train dataset :\n",
      "               precision    recall  f1-score   support\n",
      "\n",
      "           0       0.95      0.79      0.86     48599\n",
      "           1       0.82      0.96      0.88     48599\n",
      "\n",
      "   micro avg       0.87      0.87      0.87     97198\n",
      "   macro avg       0.89      0.87      0.87     97198\n",
      "weighted avg       0.89      0.87      0.87     97198\n",
      "\n",
      "--\n",
      "\n",
      "Test dataset :\n",
      "               precision    recall  f1-score   support\n",
      "\n",
      "           0       0.97      0.79      0.87     12135\n",
      "           1       0.60      0.93      0.73      4159\n",
      "\n",
      "   micro avg       0.83      0.83      0.83     16294\n",
      "   macro avg       0.79      0.86      0.80     16294\n",
      "weighted avg       0.88      0.83      0.84     16294\n",
      "\n"
     ]
    },
    {
     "data": {
      "image/png": "[encoded data removed]",
      "text/plain": [
       "<Figure size 432x288 with 1 Axes>"
      ]
     },
     "metadata": {
      "needs_background": "light"
     },
     "output_type": "display_data"
    }
   ],
   "source": [
    "# Gradient Boosting Trees\n",
    "start_time = time.time()\n",
    "train_pred_gbt, test_pred_gbt, acc_gbt, acc_cv_gbt, probs_gbt = fit_ml_algo(GradientBoostingClassifier(), \n",
    "                                                                 X_train, \n",
    "                                                                 y_train, \n",
    "                                                                 X_test, \n",
    "                                                                 10)\n",
    "gbt_time = (time.time() - start_time)\n",
    "print_metrics(acc_gbt,acc_cv_gbt,gbt_time,y_train,train_pred_gbt,y_test,test_pred_gbt)\n"
   ]
  },
  {
   "cell_type": "markdown",
   "metadata": {},
   "source": [
    "### Ranking Algorithms"
   ]
  },
  {
   "cell_type": "markdown",
   "metadata": {},
   "source": [
    "Let's rank the results for all the algorithms we have used"
   ]
  },
  {
   "cell_type": "code",
   "execution_count": 104,
   "metadata": {},
   "outputs": [
    {
     "data": {
      "text/html": [
       "<div>\n",
       "<style scoped>\n",
       "    .dataframe tbody tr th:only-of-type {\n",
       "        vertical-align: middle;\n",
       "    }\n",
       "\n",
       "    .dataframe tbody tr th {\n",
       "        vertical-align: top;\n",
       "    }\n",
       "\n",
       "    .dataframe thead th {\n",
       "        text-align: right;\n",
       "    }\n",
       "</style>\n",
       "<table border=\"1\" class=\"dataframe\">\n",
       "  <thead>\n",
       "    <tr style=\"text-align: right;\">\n",
       "      <th></th>\n",
       "      <th>Model</th>\n",
       "      <th>Score</th>\n",
       "    </tr>\n",
       "  </thead>\n",
       "  <tbody>\n",
       "    <tr>\n",
       "      <th>2</th>\n",
       "      <td>Random Forest</td>\n",
       "      <td>85.20</td>\n",
       "    </tr>\n",
       "    <tr>\n",
       "      <th>5</th>\n",
       "      <td>Gradient Boosting Trees</td>\n",
       "      <td>82.67</td>\n",
       "    </tr>\n",
       "    <tr>\n",
       "      <th>1</th>\n",
       "      <td>Logistic Regression</td>\n",
       "      <td>79.49</td>\n",
       "    </tr>\n",
       "    <tr>\n",
       "      <th>0</th>\n",
       "      <td>KNN</td>\n",
       "      <td>79.39</td>\n",
       "    </tr>\n",
       "    <tr>\n",
       "      <th>4</th>\n",
       "      <td>Linear SVC</td>\n",
       "      <td>78.63</td>\n",
       "    </tr>\n",
       "    <tr>\n",
       "      <th>3</th>\n",
       "      <td>Naive Bayes</td>\n",
       "      <td>76.88</td>\n",
       "    </tr>\n",
       "  </tbody>\n",
       "</table>\n",
       "</div>"
      ],
      "text/plain": [
       "                     Model  Score\n",
       "2            Random Forest  85.20\n",
       "5  Gradient Boosting Trees  82.67\n",
       "1      Logistic Regression  79.49\n",
       "0                      KNN  79.39\n",
       "4               Linear SVC  78.63\n",
       "3              Naive Bayes  76.88"
      ]
     },
     "execution_count": 104,
     "metadata": {},
     "output_type": "execute_result"
    }
   ],
   "source": [
    "models = pd.DataFrame({\n",
    "    'Model': ['KNN', 'Logistic Regression','Random Forest', 'Naive Bayes','Linear SVC','Gradient Boosting Trees'],\n",
    "    'Score': [\n",
    "        acc_knn, \n",
    "        acc_log, \n",
    "        acc_rf, \n",
    "        acc_gaussian, \n",
    "        acc_linear_svc, \n",
    "        acc_gbt\n",
    "    ]})\n",
    "models.sort_values(by='Score', ascending=False)"
   ]
  },
  {
   "cell_type": "code",
   "execution_count": 105,
   "metadata": {},
   "outputs": [
    {
     "data": {
      "text/html": [
       "<div>\n",
       "<style scoped>\n",
       "    .dataframe tbody tr th:only-of-type {\n",
       "        vertical-align: middle;\n",
       "    }\n",
       "\n",
       "    .dataframe tbody tr th {\n",
       "        vertical-align: top;\n",
       "    }\n",
       "\n",
       "    .dataframe thead th {\n",
       "        text-align: right;\n",
       "    }\n",
       "</style>\n",
       "<table border=\"1\" class=\"dataframe\">\n",
       "  <thead>\n",
       "    <tr style=\"text-align: right;\">\n",
       "      <th></th>\n",
       "      <th>Model</th>\n",
       "      <th>Score</th>\n",
       "    </tr>\n",
       "  </thead>\n",
       "  <tbody>\n",
       "    <tr>\n",
       "      <th>2</th>\n",
       "      <td>Random Forest</td>\n",
       "      <td>89.61</td>\n",
       "    </tr>\n",
       "    <tr>\n",
       "      <th>0</th>\n",
       "      <td>KNN</td>\n",
       "      <td>88.71</td>\n",
       "    </tr>\n",
       "    <tr>\n",
       "      <th>5</th>\n",
       "      <td>Gradient Boosting Trees</td>\n",
       "      <td>87.46</td>\n",
       "    </tr>\n",
       "    <tr>\n",
       "      <th>4</th>\n",
       "      <td>Linear SVC</td>\n",
       "      <td>81.08</td>\n",
       "    </tr>\n",
       "    <tr>\n",
       "      <th>1</th>\n",
       "      <td>Logistic Regression</td>\n",
       "      <td>80.96</td>\n",
       "    </tr>\n",
       "    <tr>\n",
       "      <th>3</th>\n",
       "      <td>Naive Bayes</td>\n",
       "      <td>78.06</td>\n",
       "    </tr>\n",
       "  </tbody>\n",
       "</table>\n",
       "</div>"
      ],
      "text/plain": [
       "                     Model  Score\n",
       "2            Random Forest  89.61\n",
       "0                      KNN  88.71\n",
       "5  Gradient Boosting Trees  87.46\n",
       "4               Linear SVC  81.08\n",
       "1      Logistic Regression  80.96\n",
       "3              Naive Bayes  78.06"
      ]
     },
     "execution_count": 105,
     "metadata": {},
     "output_type": "execute_result"
    }
   ],
   "source": [
    "models = pd.DataFrame({\n",
    "    'Model': ['KNN', 'Logistic Regression','Random Forest', 'Naive Bayes','Linear SVC','Gradient Boosting Trees'],\n",
    "    'Score': [\n",
    "        acc_cv_knn, \n",
    "        acc_cv_log, \n",
    "        acc_cv_rf, \n",
    "        acc_cv_gaussian, \n",
    "        acc_cv_linear_svc, \n",
    "        acc_cv_gbt\n",
    "    ]})\n",
    "models.sort_values(by='Score', ascending=False)"
   ]
  },
  {
   "cell_type": "code",
   "execution_count": 106,
   "metadata": {},
   "outputs": [
    {
     "data": {
      "image/png": "[encoded data removed]",
      "text/plain": [
       "<Figure size 720x720 with 1 Axes>"
      ]
     },
     "metadata": {},
     "output_type": "display_data"
    }
   ],
   "source": [
    "plt.style.use('seaborn-whitegrid')\n",
    "fig = plt.figure(figsize=(10,10)) \n",
    "\n",
    "models = [\n",
    "    'Logistic Regression', \n",
    "    'Random Forest', \n",
    "    'Naive Bayes', \n",
    "    'Gradient Boosting Trees'\n",
    "]\n",
    "probs = [\n",
    "    probs_log,\n",
    "    probs_rf,\n",
    "    probs_gau,\n",
    "    probs_gbt\n",
    "]\n",
    "colors = [\n",
    "    'blue',\n",
    "    'green',\n",
    "    'red',\n",
    "    'cyan',\n",
    "]\n",
    "    \n",
    "plt.title('Receiver Operating Characteristic')\n",
    "plt.plot([0, 1], [0, 1],'r--')\n",
    "plt.xlim([-0.01, 1.01])\n",
    "plt.ylim([-0.01, 1.01])\n",
    "plt.ylabel('True Positive Rate')\n",
    "plt.xlabel('False Positive Rate')\n",
    "\n",
    "def plot_roc_curves(y_test, prob, model):\n",
    "    fpr, tpr, threshold = metrics.roc_curve(y_test, prob)\n",
    "    roc_auc = metrics.auc(fpr, tpr)\n",
    "    plt.plot(fpr, tpr, 'b', label = model + ' AUC = %0.2f' % roc_auc, color=colors[i])\n",
    "    plt.legend(loc = 'lower right')\n",
    "    \n",
    "for i, model in list(enumerate(models)):\n",
    "    plot_roc_curves(y_test, probs[i], models[i])\n",
    "    \n",
    "plt.show()"
   ]
  },
  {
   "cell_type": "markdown",
   "metadata": {},
   "source": [
    "## Analysis"
   ]
  },
  {
   "cell_type": "markdown",
   "metadata": {},
   "source": [
    "### Features Importance and Inferences"
   ]
  },
  {
   "cell_type": "code",
   "execution_count": 107,
   "metadata": {},
   "outputs": [
    {
     "data": {
      "text/plain": [
       "<matplotlib.axes._subplots.AxesSubplot at 0x1a2f529be0>"
      ]
     },
     "execution_count": 107,
     "metadata": {},
     "output_type": "execute_result"
    },
    {
     "data": {
      "image/png": "[encoded data removed]",
      "text/plain": [
       "<Figure size 432x288 with 1 Axes>"
      ]
     },
     "metadata": {},
     "output_type": "display_data"
    }
   ],
   "source": [
    "forest_viz = pd.DataFrame()\n",
    "forest_viz['features'] = X.columns\n",
    "forest_viz['importance'] = rfc.feature_importances_\n",
    "forest_viz = forest_viz.sort_values(by=['importance'],ascending=False)[:15]\n",
    "forest_viz = forest_viz.set_index('features')\n",
    "forest_viz.plot(kind='bar',title='Random Forest Features importance')"
   ]
  },
  {
   "cell_type": "code",
   "execution_count": null,
   "metadata": {},
   "outputs": [],
   "source": []
  }
 ],
 "metadata": {
  "kernelspec": {
   "display_name": "Python 3",
   "language": "python",
   "name": "python3"
  },
  "language_info": {
   "codemirror_mode": {
    "name": "ipython",
    "version": 3
   },
   "file_extension": ".py",
   "mimetype": "text/x-python",
   "name": "python",
   "nbconvert_exporter": "python",
   "pygments_lexer": "ipython3",
   "version": "3.6.8"
  },
  "toc": {
   "base_numbering": 1,
   "nav_menu": {},
   "number_sections": true,
   "sideBar": true,
   "skip_h1_title": false,
   "title_cell": "Table of Contents",
   "title_sidebar": "Contents",
   "toc_cell": false,
   "toc_position": {},
   "toc_section_display": true,
   "toc_window_display": false
  }
 },
 "nbformat": 4,
 "nbformat_minor": 2
}
