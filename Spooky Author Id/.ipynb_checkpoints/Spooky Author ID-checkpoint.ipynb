{
 "cells": [
  {
   "cell_type": "markdown",
   "metadata": {},
   "source": [
    "# Spooky Author Identification\n",
    "\n",
    "Author: Ramy Ghorayeb\n",
    "    \n",
    "Access the competition and download the dataset [here](https://www.kaggle.com/c/spooky-author-identification)"
   ]
  },
  {
   "cell_type": "markdown",
   "metadata": {},
   "source": [
    "## Data Exploration"
   ]
  },
  {
   "cell_type": "markdown",
   "metadata": {},
   "source": [
    "### Sample discovery"
   ]
  },
  {
   "cell_type": "code",
   "execution_count": 3,
   "metadata": {},
   "outputs": [],
   "source": [
    "import numpy as np\n",
    "import pandas as pd\n",
    "import matplotlib.pyplot as plt\n",
    "%matplotlib inline\n",
    "import seaborn as sns\n",
    "\n",
    "data = pd.read_csv('data/train.zip',nrows=1000,compression='zip')\n",
    "data_test = pd.read_csv('data/test.zip',compression='zip')\n",
    "data_sample = pd.read_csv('data/sample_submission.zip',compression='zip')"
   ]
  },
  {
   "cell_type": "code",
   "execution_count": 6,
   "metadata": {
    "scrolled": true
   },
   "outputs": [
    {
     "name": "stdout",
     "output_type": "stream",
     "text": [
      "<class 'pandas.core.frame.DataFrame'>\n",
      "RangeIndex: 1000 entries, 0 to 999\n",
      "Data columns (total 3 columns):\n",
      "id        1000 non-null object\n",
      "text      1000 non-null object\n",
      "author    1000 non-null object\n",
      "dtypes: object(3)\n",
      "memory usage: 23.5+ KB\n"
     ]
    }
   ],
   "source": [
    "data.info()"
   ]
  },
  {
   "cell_type": "code",
   "execution_count": 7,
   "metadata": {},
   "outputs": [
    {
     "data": {
      "text/html": [
       "<div>\n",
       "<style scoped>\n",
       "    .dataframe tbody tr th:only-of-type {\n",
       "        vertical-align: middle;\n",
       "    }\n",
       "\n",
       "    .dataframe tbody tr th {\n",
       "        vertical-align: top;\n",
       "    }\n",
       "\n",
       "    .dataframe thead th {\n",
       "        text-align: right;\n",
       "    }\n",
       "</style>\n",
       "<table border=\"1\" class=\"dataframe\">\n",
       "  <thead>\n",
       "    <tr style=\"text-align: right;\">\n",
       "      <th></th>\n",
       "      <th>id</th>\n",
       "      <th>text</th>\n",
       "      <th>author</th>\n",
       "    </tr>\n",
       "  </thead>\n",
       "  <tbody>\n",
       "    <tr>\n",
       "      <th>0</th>\n",
       "      <td>id26305</td>\n",
       "      <td>This process, however, afforded me no means of...</td>\n",
       "      <td>EAP</td>\n",
       "    </tr>\n",
       "    <tr>\n",
       "      <th>1</th>\n",
       "      <td>id17569</td>\n",
       "      <td>It never once occurred to me that the fumbling...</td>\n",
       "      <td>HPL</td>\n",
       "    </tr>\n",
       "    <tr>\n",
       "      <th>2</th>\n",
       "      <td>id11008</td>\n",
       "      <td>In his left hand was a gold snuff box, from wh...</td>\n",
       "      <td>EAP</td>\n",
       "    </tr>\n",
       "    <tr>\n",
       "      <th>3</th>\n",
       "      <td>id27763</td>\n",
       "      <td>How lovely is spring As we looked from Windsor...</td>\n",
       "      <td>MWS</td>\n",
       "    </tr>\n",
       "    <tr>\n",
       "      <th>4</th>\n",
       "      <td>id12958</td>\n",
       "      <td>Finding nothing else, not even gold, the Super...</td>\n",
       "      <td>HPL</td>\n",
       "    </tr>\n",
       "  </tbody>\n",
       "</table>\n",
       "</div>"
      ],
      "text/plain": [
       "        id                                               text author\n",
       "0  id26305  This process, however, afforded me no means of...    EAP\n",
       "1  id17569  It never once occurred to me that the fumbling...    HPL\n",
       "2  id11008  In his left hand was a gold snuff box, from wh...    EAP\n",
       "3  id27763  How lovely is spring As we looked from Windsor...    MWS\n",
       "4  id12958  Finding nothing else, not even gold, the Super...    HPL"
      ]
     },
     "execution_count": 7,
     "metadata": {},
     "output_type": "execute_result"
    }
   ],
   "source": [
    "data.head()"
   ]
  },
  {
   "cell_type": "markdown",
   "metadata": {},
   "source": [
    "### Preprocessing"
   ]
  },
  {
   "cell_type": "code",
   "execution_count": 8,
   "metadata": {},
   "outputs": [],
   "source": [
    "from sklearn import preprocessing\n",
    "\n",
    "enc = preprocessing.LabelEncoder()\n",
    "y = enc.fit_transform(data['author'])\n",
    "x = data['text']"
   ]
  },
  {
   "cell_type": "code",
   "execution_count": 9,
   "metadata": {},
   "outputs": [],
   "source": [
    "from sklearn.model_selection import train_test_split\n",
    "\n",
    "# cross validation\n",
    "xtrain, xtest, ytrain, ytest = train_test_split(x,y,\n",
    "                                                stratify=y,\n",
    "                                                test_size=0.1,\n",
    "                                                shuffle=True)\n"
   ]
  },
  {
   "cell_type": "markdown",
   "metadata": {},
   "source": [
    "We parametrize the distribution of words by TF-IDF"
   ]
  },
  {
   "cell_type": "code",
   "execution_count": 197,
   "metadata": {},
   "outputs": [],
   "source": [
    "from sklearn.feature_extraction.text import TfidfVectorizer\n",
    "\n",
    "tfv = TfidfVectorizer(min_df=2, \n",
    "                      token_pattern=r'\\w{1,}',\n",
    "                      ngram_range=(1, 3),\n",
    "                      use_idf=1,\n",
    "                      smooth_idf=1,\n",
    "                      sublinear_tf=1,\n",
    "                      stop_words = 'english')\n",
    "\n",
    "tfv.fit(list(xtrain) + list(xtest))\n",
    "\n",
    "xtrain_tfv =  tfv.transform(xtrain) \n",
    "xtest_tfv = tfv.transform(xtest)\n",
    "\n",
    "tfidf_weight = dict(zip(tfv.get_feature_names(), tfv.idf_))"
   ]
  },
  {
   "cell_type": "markdown",
   "metadata": {},
   "source": [
    "## One hot Modeling"
   ]
  },
  {
   "cell_type": "markdown",
   "metadata": {},
   "source": [
    "Logistic Regression"
   ]
  },
  {
   "cell_type": "code",
   "execution_count": 129,
   "metadata": {},
   "outputs": [
    {
     "name": "stdout",
     "output_type": "stream",
     "text": [
      "loss:  0.8956332500635316\n"
     ]
    }
   ],
   "source": [
    "from sklearn.linear_model import LogisticRegression\n",
    "from sklearn.metrics import log_loss\n",
    "\n",
    "lg = LogisticRegression(C=1.0,multi_class='auto',solver='newton-cg')\n",
    "lg.fit(xtrain_tfv, ytrain)\n",
    "\n",
    "y_lg = lg.predict_proba(xtest_tfv)\n",
    "\n",
    "print('loss: ', log_loss(ytest,y_lg))"
   ]
  },
  {
   "cell_type": "markdown",
   "metadata": {},
   "source": [
    "Loss distribution"
   ]
  },
  {
   "cell_type": "code",
   "execution_count": 33,
   "metadata": {},
   "outputs": [],
   "source": [
    "from sklearn.metrics import log_loss\n",
    "import progressbar\n",
    "\n",
    "def log_test(x,y,model,n=100):\n",
    "    model_loss_train = []\n",
    "    model_loss_test = []    \n",
    "    for r in progressbar.progressbar(range(n)):\n",
    "        xtrain,xtest,ytrain,ytest = train_test_split(data['text'],y,\n",
    "                                                stratify=y,\n",
    "                                                test_size=0.1,\n",
    "                                                shuffle=True)\n",
    "        \n",
    "        xtrain_tfv =  tfv.transform(xtrain) \n",
    "        xtest_tfv = tfv.transform(xtest)\n",
    "        \n",
    "        model.fit(xtrain_tfv,ytrain)\n",
    "        \n",
    "        y_mod_train = model.predict_proba(xtrain_tfv)\n",
    "        y_mod_test = model.predict_proba(xtest_tfv)\n",
    "        model_loss_train.append(log_loss(ytrain,y_mod_train))\n",
    "        model_loss_test.append(log_loss(ytest,y_mod_test))\n",
    "        \n",
    "    return model_loss_train, model_loss_test\n"
   ]
  },
  {
   "cell_type": "code",
   "execution_count": 137,
   "metadata": {
    "scrolled": false
   },
   "outputs": [
    {
     "data": {
      "text/plain": [
       "([array([100.,   0.,   0.,   0.,   0.,   0.,   0.,   0.,   0.,   0.]),\n",
       "  array([ 0.,  0.,  0.,  0.,  0.,  0.,  3., 30., 51., 16.])],\n",
       " array([0.58794057, 0.62676966, 0.66559875, 0.70442783, 0.74325692,\n",
       "        0.782086  , 0.82091509, 0.85974418, 0.89857326, 0.93740235,\n",
       "        0.97623144]),\n",
       " <a list of 2 Lists of Patches objects>)"
      ]
     },
     "execution_count": 137,
     "metadata": {},
     "output_type": "execute_result"
    },
    {
     "data": {
      "image/png": "[encoded data removed]",
      "text/plain": [
       "<Figure size 432x288 with 1 Axes>"
      ]
     },
     "metadata": {
      "needs_background": "light"
     },
     "output_type": "display_data"
    }
   ],
   "source": [
    "loss_train, loss_test = log_test(x,y,lg)\n",
    "\n",
    "plt.hist([loss_train,loss_test])"
   ]
  },
  {
   "cell_type": "markdown",
   "metadata": {},
   "source": [
    "Naive Bayes"
   ]
  },
  {
   "cell_type": "code",
   "execution_count": 138,
   "metadata": {},
   "outputs": [
    {
     "data": {
      "text/plain": [
       "([array([100.,   0.,   0.,   0.,   0.,   0.,   0.,   0.,   0.,   0.]),\n",
       "  array([ 0.,  0.,  0.,  0.,  0.,  0.,  0., 14., 62., 24.])],\n",
       " array([0.58496942, 0.62163052, 0.65829162, 0.69495272, 0.73161382,\n",
       "        0.76827492, 0.80493602, 0.84159712, 0.87825822, 0.91491932,\n",
       "        0.95158043]),\n",
       " <a list of 2 Lists of Patches objects>)"
      ]
     },
     "execution_count": 138,
     "metadata": {},
     "output_type": "execute_result"
    },
    {
     "data": {
      "image/png": "[encoded data removed]",
      "text/plain": [
       "<Figure size 432x288 with 1 Axes>"
      ]
     },
     "metadata": {
      "needs_background": "light"
     },
     "output_type": "display_data"
    }
   ],
   "source": [
    "from sklearn.naive_bayes import MultinomialNB\n",
    "\n",
    "nb = MultinomialNB()\n",
    "\n",
    "loss_train, loss_test = log_test(x,y,nb)\n",
    "plt.hist([loss_train,loss_test])"
   ]
  },
  {
   "cell_type": "markdown",
   "metadata": {},
   "source": [
    "XGBoost"
   ]
  },
  {
   "cell_type": "code",
   "execution_count": 11,
   "metadata": {},
   "outputs": [
    {
     "name": "stderr",
     "output_type": "stream",
     "text": [
      "100% (10 of 10) |########################| Elapsed Time: 0:00:15 Time:  0:00:15\n"
     ]
    }
   ],
   "source": [
    "import xgboost as xgb\n",
    "\n",
    "xb = xgb.XGBClassifier(max_depth=7, n_estimators=200, colsample_bytree=0.8, \n",
    "                        subsample=0.8, nthread=10, learning_rate=0.1)\n",
    "\n",
    "loss_train, loss_test = log_test(x,y,xb,n=10)\n",
    "plt.hist([loss_train,loss_test])"
   ]
  },
  {
   "cell_type": "markdown",
   "metadata": {},
   "source": [
    "We will use Naive Bayes"
   ]
  },
  {
   "cell_type": "markdown",
   "metadata": {},
   "source": [
    "### Hyperparameters optimization"
   ]
  },
  {
   "cell_type": "code",
   "execution_count": 37,
   "metadata": {},
   "outputs": [
    {
     "name": "stdout",
     "output_type": "stream",
     "text": [
      "Best score:  -0.7997231930507456\n",
      "Best parameters set: {'alpha': 0.109, 'class_prior': None, 'fit_prior': True}\n"
     ]
    }
   ],
   "source": [
    "from sklearn.model_selection import GridSearchCV\n",
    "from sklearn.naive_bayes import MultinomialNB\n",
    "from sklearn.metrics import log_loss\n",
    "from sklearn import metrics\n",
    "\n",
    "ll = metrics.make_scorer(log_loss, greater_is_better=False, needs_proba=True)\n",
    "\n",
    "nb = MultinomialNB()\n",
    "\n",
    "param_grid = {'alpha': np.linspace(0.01,1,21)}\n",
    "\n",
    "model = GridSearchCV(estimator=nb, param_grid=param_grid,scoring=ll,cv=5)\n",
    "\n",
    "model.fit(xtrain_tfv,ytrain)\n",
    "\n",
    "print('Best score: ', model.best_score_)\n",
    "print(\"Best parameters set:\", model.best_estimator_.get_params())"
   ]
  },
  {
   "cell_type": "markdown",
   "metadata": {},
   "source": [
    "## Words Embedding"
   ]
  },
  {
   "cell_type": "markdown",
   "metadata": {},
   "source": [
    "### Preprocessing"
   ]
  },
  {
   "cell_type": "code",
   "execution_count": 22,
   "metadata": {},
   "outputs": [],
   "source": [
    "import numpy as np\n",
    "import pandas as pd\n",
    "import matplotlib.pyplot as plt\n",
    "%matplotlib inline\n",
    "import seaborn as sns\n",
    "\n",
    "data = pd.read_csv('data/train.zip',nrows=1000,compression='zip')\n",
    "data_test = pd.read_csv('data/test.zip',compression='zip')\n",
    "data_sample = pd.read_csv('data/sample_submission.zip',compression='zip')"
   ]
  },
  {
   "cell_type": "code",
   "execution_count": 23,
   "metadata": {},
   "outputs": [],
   "source": [
    "from sklearn import preprocessing\n",
    "from sklearn.model_selection import train_test_split\n",
    "\n",
    "enc = preprocessing.LabelEncoder()\n",
    "y = enc.fit_transform(data['author'])\n",
    "x = data['text']\n",
    "\n",
    "xtrain, xtest, ytrain, ytest = train_test_split(x,y,\n",
    "                                                stratify=y,\n",
    "                                                test_size=0.1,\n",
    "                                                shuffle=True)"
   ]
  },
  {
   "cell_type": "code",
   "execution_count": 24,
   "metadata": {},
   "outputs": [
    {
     "name": "stderr",
     "output_type": "stream",
     "text": [
      "| |                                 #            | 399999 Elapsed Time: 0:00:30\n"
     ]
    }
   ],
   "source": [
    "import progressbar \n",
    "\n",
    "def load_emb(loc):\n",
    "    index = {}\n",
    "    f = open(loc)\n",
    "    for line in progressbar.progressbar(f):\n",
    "        values = line.split()\n",
    "        word = values[0]\n",
    "        coefs = np.asarray(values[1:],dtype='float32')\n",
    "        index[word] = coefs\n",
    "    f.close()\n",
    "    return index\n",
    "\n",
    "glove = load_emb('glove.6B/glove.6B.300d.txt')"
   ]
  },
  {
   "cell_type": "code",
   "execution_count": 25,
   "metadata": {},
   "outputs": [],
   "source": [
    "import nltk\n",
    "from nltk import word_tokenize\n",
    "from nltk.corpus import stopwords\n",
    "\n",
    "stop_words = stopwords.words('english')\n",
    "    \n",
    "def sent2vec(s):\n",
    "    words = str(s).lower()\n",
    "    words = word_tokenize(words)\n",
    "    words = [w for w in words if not w in stop_words]\n",
    "    words = [w for w in words if w.isalpha()] #we choose to remove special characters\n",
    "    M = []\n",
    "    \n",
    "    for w in words:\n",
    "        try:\n",
    "            M.append(embeddings_index[w])\n",
    "        except:\n",
    "            continue\n",
    "            \n",
    "    M = np.array(M)\n",
    "    v = M.sum(axis=0)\n",
    "\n",
    "    if type(v) != np.ndarray:\n",
    "        return np.zeros(300)\n",
    "    return v / np.sqrt((v ** 2).sum())"
   ]
  },
  {
   "cell_type": "code",
   "execution_count": 26,
   "metadata": {
    "scrolled": true
   },
   "outputs": [],
   "source": [
    "xtrain_emb = [sent2vec(x) for x in xtrain]\n",
    "xtest_emb = [sent2vec(x) for x in xtest]\n",
    "\n",
    "xtrain_emb = np.array(xtrain_emb)\n",
    "xtest_emb = np.array(xtest_emb)"
   ]
  },
  {
   "cell_type": "markdown",
   "metadata": {},
   "source": [
    "### Baseline shallow modeling"
   ]
  },
  {
   "cell_type": "code",
   "execution_count": 93,
   "metadata": {},
   "outputs": [
    {
     "name": "stderr",
     "output_type": "stream",
     "text": [
      "100% (100 of 100) |######################| Elapsed Time: 0:00:03 Time:  0:00:03\n"
     ]
    },
    {
     "data": {
      "text/plain": [
       "([array([100.,   0.,   0.,   0.,   0.,   0.,   0.,   0.,   0.,   0.]),\n",
       "  array([ 0.,  0.,  0.,  0.,  0.,  0.,  1., 17., 54., 28.])],\n",
       " array([0.58563215, 0.62196727, 0.65830239, 0.69463751, 0.73097262,\n",
       "        0.76730774, 0.80364286, 0.83997797, 0.87631309, 0.91264821,\n",
       "        0.94898332]),\n",
       " <a list of 2 Lists of Patches objects>)"
      ]
     },
     "execution_count": 93,
     "metadata": {},
     "output_type": "execute_result"
    },
    {
     "data": {
      "image/png": "[encoded data removed]",
      "text/plain": [
       "<Figure size 432x288 with 1 Axes>"
      ]
     },
     "metadata": {
      "needs_background": "light"
     },
     "output_type": "display_data"
    }
   ],
   "source": [
    "from sklearn.naive_bayes import MultinomialNB\n",
    "\n",
    "nb = MultinomialNB()\n",
    "\n",
    "loss_train, loss_test = log_test(x,y,nb)\n",
    "plt.hist([loss_train,loss_test])"
   ]
  },
  {
   "cell_type": "markdown",
   "metadata": {},
   "source": [
    "### Simple Deep Learning modeling"
   ]
  },
  {
   "cell_type": "markdown",
   "metadata": {},
   "source": [
    "Preprocessing"
   ]
  },
  {
   "cell_type": "code",
   "execution_count": 27,
   "metadata": {},
   "outputs": [],
   "source": [
    "from sklearn import preprocessing\n",
    "\n",
    "#normalize\n",
    "scl = preprocessing.StandardScaler()\n",
    "xtrain_emb_scl = scl.fit_transform(xtrain_emb)\n",
    "xtest_emb_scl = scl.transform(xtest_emb)"
   ]
  },
  {
   "cell_type": "code",
   "execution_count": 28,
   "metadata": {},
   "outputs": [],
   "source": [
    "from keras.utils import np_utils\n",
    "\n",
    "#one-hot\n",
    "ytrain_enc = np_utils.to_categorical(ytrain)\n",
    "ytest_enc = np_utils.to_categorical(ytest)"
   ]
  },
  {
   "cell_type": "markdown",
   "metadata": {},
   "source": [
    "Modeling"
   ]
  },
  {
   "cell_type": "code",
   "execution_count": 282,
   "metadata": {},
   "outputs": [
    {
     "name": "stdout",
     "output_type": "stream",
     "text": [
      "_________________________________________________________________\n",
      "Layer (type)                 Output Shape              Param #   \n",
      "=================================================================\n",
      "dense_76 (Dense)             (None, 300)               90300     \n",
      "_________________________________________________________________\n",
      "dropout_51 (Dropout)         (None, 300)               0         \n",
      "_________________________________________________________________\n",
      "batch_normalization_15 (Batc (None, 300)               1200      \n",
      "_________________________________________________________________\n",
      "dense_77 (Dense)             (None, 300)               90300     \n",
      "_________________________________________________________________\n",
      "dropout_52 (Dropout)         (None, 300)               0         \n",
      "_________________________________________________________________\n",
      "batch_normalization_16 (Batc (None, 300)               1200      \n",
      "_________________________________________________________________\n",
      "dense_78 (Dense)             (None, 3)                 903       \n",
      "=================================================================\n",
      "Total params: 183,903\n",
      "Trainable params: 182,703\n",
      "Non-trainable params: 1,200\n",
      "_________________________________________________________________\n"
     ]
    }
   ],
   "source": [
    "from keras.models import Sequential\n",
    "from keras.layers import Dense,Dropout,BatchNormalization,Activation\n",
    "\n",
    "model = Sequential()\n",
    "\n",
    "model.add(Dense(300, input_dim=300, activation='relu'))\n",
    "model.add(Dropout(0.3))\n",
    "model.add(BatchNormalization())\n",
    "\n",
    "model.add(Dense(300, activation='relu'))\n",
    "model.add(Dropout(0.4))\n",
    "model.add(BatchNormalization())\n",
    "\n",
    "model.add(Dense(3,activation='softmax'))\n",
    "\n",
    "model.summary()\n",
    "\n",
    "model.compile(loss='categorical_crossentropy', optimizer='adam', metrics = ['accuracy'])"
   ]
  },
  {
   "cell_type": "code",
   "execution_count": 283,
   "metadata": {
    "scrolled": true
   },
   "outputs": [
    {
     "name": "stdout",
     "output_type": "stream",
     "text": [
      "Train on 900 samples, validate on 100 samples\n",
      "Epoch 1/20\n",
      "900/900 [==============================] - 9s 10ms/step - loss: 1.0904 - acc: 0.4089 - val_loss: 1.0851 - val_acc: 0.4100\n",
      "Epoch 2/20\n",
      "900/900 [==============================] - 1s 601us/step - loss: 1.0863 - acc: 0.4089 - val_loss: 1.0852 - val_acc: 0.4100\n",
      "Epoch 3/20\n",
      "900/900 [==============================] - 1s 758us/step - loss: 1.0857 - acc: 0.4089 - val_loss: 1.0851 - val_acc: 0.4100\n",
      "Epoch 4/20\n",
      "900/900 [==============================] - 1s 601us/step - loss: 1.0858 - acc: 0.4089 - val_loss: 1.0852 - val_acc: 0.4100\n",
      "Epoch 5/20\n",
      "900/900 [==============================] - 1s 619us/step - loss: 1.0865 - acc: 0.4089 - val_loss: 1.0851 - val_acc: 0.4100\n",
      "Epoch 6/20\n",
      "900/900 [==============================] - 1s 777us/step - loss: 1.0881 - acc: 0.4089 - val_loss: 1.0852 - val_acc: 0.4100\n",
      "Epoch 7/20\n",
      "900/900 [==============================] - 1s 625us/step - loss: 1.0857 - acc: 0.4089 - val_loss: 1.0852 - val_acc: 0.4100\n",
      "Epoch 8/20\n",
      "900/900 [==============================] - 1s 754us/step - loss: 1.0872 - acc: 0.4089 - val_loss: 1.0851 - val_acc: 0.4100\n",
      "Epoch 9/20\n",
      "900/900 [==============================] - 1s 629us/step - loss: 1.0888 - acc: 0.4089 - val_loss: 1.0851 - val_acc: 0.4100\n",
      "Epoch 10/20\n",
      "900/900 [==============================] - 1s 617us/step - loss: 1.0860 - acc: 0.4089 - val_loss: 1.0857 - val_acc: 0.4100\n",
      "Epoch 11/20\n",
      "900/900 [==============================] - 1s 761us/step - loss: 1.0872 - acc: 0.4089 - val_loss: 1.0856 - val_acc: 0.4100\n",
      "Epoch 12/20\n",
      "900/900 [==============================] - 1s 600us/step - loss: 1.0861 - acc: 0.4089 - val_loss: 1.0852 - val_acc: 0.4100\n",
      "Epoch 13/20\n",
      "900/900 [==============================] - 1s 594us/step - loss: 1.0857 - acc: 0.4089 - val_loss: 1.0851 - val_acc: 0.4100\n",
      "Epoch 14/20\n",
      "900/900 [==============================] - 1s 752us/step - loss: 1.0860 - acc: 0.4089 - val_loss: 1.0853 - val_acc: 0.4100\n",
      "Epoch 15/20\n",
      "900/900 [==============================] - 1s 605us/step - loss: 1.0854 - acc: 0.4089 - val_loss: 1.0851 - val_acc: 0.4100\n",
      "Epoch 16/20\n",
      "900/900 [==============================] - 1s 608us/step - loss: 1.0880 - acc: 0.4089 - val_loss: 1.0855 - val_acc: 0.4100\n",
      "Epoch 17/20\n",
      "900/900 [==============================] - 1s 761us/step - loss: 1.0855 - acc: 0.4089 - val_loss: 1.0851 - val_acc: 0.4100\n",
      "Epoch 18/20\n",
      "900/900 [==============================] - 1s 606us/step - loss: 1.0866 - acc: 0.4089 - val_loss: 1.0852 - val_acc: 0.4100\n",
      "Epoch 19/20\n",
      "900/900 [==============================] - 1s 605us/step - loss: 1.0863 - acc: 0.4089 - val_loss: 1.0851 - val_acc: 0.4100\n",
      "Epoch 20/20\n",
      "900/900 [==============================] - 1s 773us/step - loss: 1.0873 - acc: 0.4089 - val_loss: 1.0852 - val_acc: 0.4100\n"
     ]
    },
    {
     "data": {
      "text/plain": [
       "<keras.callbacks.History at 0x1a84092ba8>"
      ]
     },
     "execution_count": 283,
     "metadata": {},
     "output_type": "execute_result"
    }
   ],
   "source": [
    "model.fit(xtrain_emb_scl, y=ytrain_enc, batch_size=32, \n",
    "          epochs=20, verbose=1, \n",
    "          validation_data=(xtest_emb_scl, ytest_enc)\n",
    "         )"
   ]
  },
  {
   "cell_type": "markdown",
   "metadata": {},
   "source": [
    "### Recurrent modeling"
   ]
  },
  {
   "cell_type": "markdown",
   "metadata": {},
   "source": [
    "Tokenization"
   ]
  },
  {
   "cell_type": "code",
   "execution_count": 262,
   "metadata": {},
   "outputs": [],
   "source": [
    "def tokenize(x,length='fixed',nmax=150):\n",
    "    # you can choose if the length of the vector is fixed to a certain number of tokens or just the max\n",
    "    list_s = list(x)    \n",
    "    if length == 'max':\n",
    "        nmax = max([len(word_tokenize(s)) for s in list_s])           \n",
    "\n",
    "    x_token = np.zeros((len(x),nmax,300))    \n",
    "        \n",
    "    for i,s in enumerate(list_s):\n",
    "        k=0\n",
    "        words_new = np.zeros((nmax,300)) \n",
    "        \n",
    "        words = str(s).lower()\n",
    "        words = word_tokenize(words)\n",
    "        \n",
    "        for w in words:\n",
    "            if k<nmax:\n",
    "                if w in glove.keys() and w not in stop_words:\n",
    "                    words_new[k] = glove[w]\n",
    "                    glove[w]\n",
    "                    k += 1\n",
    "                    \n",
    "        x_token[i] = words_new\n",
    "        \n",
    "    return x_token\n",
    "\n",
    "def tokenize_weighted(x,length='fixed',nmax=150):\n",
    "    # you can choose if the length of the vector is fixed to a certain number of tokens or just the max\n",
    "    list_s = list(x)\n",
    "    if length == 'max':\n",
    "        nmax = max([len(word_tokenize(s)) for s in list_s])  \n",
    "        \n",
    "    x_token = np.zeros((len(x),nmax,300))    \n",
    "    \n",
    "    if length == 'max':\n",
    "        nmax = max([len(word_tokenize(s)) for s in list_s]) \n",
    "        \n",
    "    for i,s in enumerate(list_s):\n",
    "        k=0\n",
    "        words_new = np.zeros((nmax,300)) \n",
    "        \n",
    "        words = str(s).lower()\n",
    "        words = word_tokenize(words)\n",
    "        \n",
    "        for w in words:\n",
    "            if k<nmax:\n",
    "                if w in glove.keys() and w not in stop_words:\n",
    "                    if w in tfidf_weight:\n",
    "                        words_new[k] = glove[w]*tfidf_weight[w] #Add tfidf weight to embedding\n",
    "                        glove[w]\n",
    "                        k += 1\n",
    "                    else:\n",
    "                        words_new[k] = glove[w] # do not add if not in tfidf (like '?')\n",
    "                        glove[w]\n",
    "                        k += 1                        \n",
    "                    \n",
    "        x_token[i] = words_new\n",
    "        \n",
    "    return x_token"
   ]
  },
  {
   "cell_type": "code",
   "execution_count": 263,
   "metadata": {},
   "outputs": [],
   "source": [
    "xtrain_tok = tokenize(xtrain)\n",
    "xtest_tok = tokenize(xtest)"
   ]
  },
  {
   "cell_type": "markdown",
   "metadata": {},
   "source": [
    "Bidirectional LSTM model"
   ]
  },
  {
   "cell_type": "code",
   "execution_count": 270,
   "metadata": {},
   "outputs": [],
   "source": [
    "from keras.models import Sequential\n",
    "from keras.layers import SpatialDropout1D, LSTM, Dense, Dropout, Bidirectional\n",
    "\n",
    "model = Sequential()\n",
    "model.add(SpatialDropout1D(0.4))\n",
    "\n",
    "model.add(Bidirectional(LSTM(300, dropout=0.3, recurrent_dropout=0.3)))\n",
    "\n",
    "model.add(Dense(150, activation='relu'))\n",
    "\n",
    "model.add(Dropout(0.4))\n",
    "model.add(Dense(150, activation='relu'))\n",
    "\n",
    "model.add(Dropout(0.5))\n",
    "model.add(Dense(3, activation='softmax'))\n",
    "\n",
    "model.compile(loss='categorical_crossentropy', optimizer='adam', metrics = ['accuracy'])"
   ]
  },
  {
   "cell_type": "code",
   "execution_count": 272,
   "metadata": {
    "scrolled": true
   },
   "outputs": [
    {
     "name": "stdout",
     "output_type": "stream",
     "text": [
      "Train on 900 samples, validate on 100 samples\n",
      "Epoch 1/20\n",
      "900/900 [==============================] - 73s 81ms/step - loss: 0.9999 - acc: 0.5211 - val_loss: 1.0438 - val_acc: 0.4700\n",
      "Epoch 2/20\n",
      "900/900 [==============================] - 78s 87ms/step - loss: 0.9245 - acc: 0.6078 - val_loss: 0.9842 - val_acc: 0.5200\n",
      "Epoch 3/20\n",
      "900/900 [==============================] - 80s 89ms/step - loss: 0.8782 - acc: 0.6078 - val_loss: 1.0265 - val_acc: 0.5100\n",
      "Epoch 4/20\n",
      "900/900 [==============================] - 77s 85ms/step - loss: 0.8564 - acc: 0.6300 - val_loss: 1.0886 - val_acc: 0.4800\n",
      "Epoch 5/20\n",
      "900/900 [==============================] - 77s 86ms/step - loss: 0.8314 - acc: 0.6444 - val_loss: 1.0039 - val_acc: 0.5100\n",
      "Epoch 6/20\n",
      "900/900 [==============================] - 84s 93ms/step - loss: 0.7579 - acc: 0.6756 - val_loss: 1.0031 - val_acc: 0.5600\n",
      "Epoch 7/20\n",
      "900/900 [==============================] - 86s 96ms/step - loss: 0.7561 - acc: 0.6600 - val_loss: 1.0654 - val_acc: 0.4800\n",
      "Epoch 8/20\n",
      "900/900 [==============================] - 85s 94ms/step - loss: 0.7001 - acc: 0.7200 - val_loss: 1.1044 - val_acc: 0.4900\n",
      "Epoch 9/20\n",
      "900/900 [==============================] - 85s 94ms/step - loss: 0.6377 - acc: 0.7422 - val_loss: 1.1800 - val_acc: 0.5100\n",
      "Epoch 10/20\n",
      "900/900 [==============================] - 79s 88ms/step - loss: 0.6477 - acc: 0.7444 - val_loss: 1.1204 - val_acc: 0.5000\n",
      "Epoch 11/20\n",
      "900/900 [==============================] - 79s 88ms/step - loss: 0.6577 - acc: 0.7222 - val_loss: 1.1397 - val_acc: 0.4900\n",
      "Epoch 12/20\n",
      "900/900 [==============================] - 77s 86ms/step - loss: 0.5570 - acc: 0.7733 - val_loss: 1.2257 - val_acc: 0.5100\n",
      "Epoch 13/20\n",
      "900/900 [==============================] - 78s 87ms/step - loss: 0.5419 - acc: 0.7922 - val_loss: 1.2406 - val_acc: 0.4500\n",
      "Epoch 14/20\n",
      "900/900 [==============================] - 77s 86ms/step - loss: 0.5071 - acc: 0.8067 - val_loss: 1.2427 - val_acc: 0.5000\n",
      "Epoch 15/20\n",
      "900/900 [==============================] - 78s 86ms/step - loss: 0.4012 - acc: 0.8433 - val_loss: 1.4294 - val_acc: 0.4600\n",
      "Epoch 16/20\n",
      "900/900 [==============================] - 78s 87ms/step - loss: 0.4450 - acc: 0.8189 - val_loss: 1.3926 - val_acc: 0.5100\n",
      "Epoch 17/20\n",
      "900/900 [==============================] - 79s 88ms/step - loss: 0.4004 - acc: 0.8367 - val_loss: 1.3798 - val_acc: 0.4900\n",
      "Epoch 18/20\n",
      "900/900 [==============================] - 79s 88ms/step - loss: 0.3917 - acc: 0.8489 - val_loss: 1.2603 - val_acc: 0.5300\n",
      "Epoch 19/20\n",
      "900/900 [==============================] - 79s 88ms/step - loss: 0.3655 - acc: 0.8600 - val_loss: 1.3852 - val_acc: 0.5200\n",
      "Epoch 20/20\n",
      "900/900 [==============================] - 79s 88ms/step - loss: 0.2814 - acc: 0.8967 - val_loss: 1.7028 - val_acc: 0.5000\n"
     ]
    },
    {
     "data": {
      "text/plain": [
       "<keras.callbacks.History at 0x1b156c6a90>"
      ]
     },
     "execution_count": 272,
     "metadata": {},
     "output_type": "execute_result"
    }
   ],
   "source": [
    "model.fit(xtrain_tok, y=ytrain_enc, \n",
    "          batch_size=16, \n",
    "          epochs=20,\n",
    "          validation_data=(xtest_tok,ytest_enc),\n",
    "          verbose=1)"
   ]
  },
  {
   "cell_type": "markdown",
   "metadata": {},
   "source": [
    "Submission"
   ]
  },
  {
   "cell_type": "code",
   "execution_count": 173,
   "metadata": {},
   "outputs": [
    {
     "name": "stderr",
     "output_type": "stream",
     "text": [
      "| |                                    #           | 8391 Elapsed Time: 0:00:03\n"
     ]
    },
    {
     "name": "stdout",
     "output_type": "stream",
     "text": [
      "8392/8392 [==============================] - 40s 5ms/step\n"
     ]
    }
   ],
   "source": [
    "xsub = data_test['text']\n",
    "xsub_tok = tokenize(xsub)\n",
    "\n",
    "y_enc = model.predict(xsub_tok,verbose=1)"
   ]
  },
  {
   "cell_type": "code",
   "execution_count": 191,
   "metadata": {},
   "outputs": [],
   "source": [
    "submission = pd.DataFrame(y_enc,columns=data_sample.columns[1:])\n",
    "submission['id'] = data_sample['id']\n",
    "cols = submission.columns.tolist()\n",
    "cols = cols[-1:] + cols[:-1]\n",
    "submission = submission[cols]"
   ]
  },
  {
   "cell_type": "code",
   "execution_count": 196,
   "metadata": {},
   "outputs": [],
   "source": [
    "submission.to_csv('submission.zip',index=False,compression='zip')"
   ]
  },
  {
   "cell_type": "markdown",
   "metadata": {},
   "source": [
    "tfidf weighted model"
   ]
  },
  {
   "cell_type": "code",
   "execution_count": 231,
   "metadata": {},
   "outputs": [
    {
     "name": "stderr",
     "output_type": "stream",
     "text": [
      "| |    #                                            | 899 Elapsed Time: 0:00:00\n",
      "| |#                                                 | 99 Elapsed Time: 0:00:00\n"
     ]
    }
   ],
   "source": [
    "xtrain_w_tok = tokenize_weighted(xtrain)\n",
    "xtest_w_tok = tokenize_weighted(xtest)"
   ]
  },
  {
   "cell_type": "code",
   "execution_count": 232,
   "metadata": {},
   "outputs": [
    {
     "name": "stdout",
     "output_type": "stream",
     "text": [
      "Train on 900 samples, validate on 100 samples\n",
      "Epoch 1/20\n",
      "900/900 [==============================] - 20s 22ms/step - loss: 1.1220 - val_loss: 1.0930\n",
      "Epoch 2/20\n",
      "900/900 [==============================] - 9s 9ms/step - loss: 1.0729 - val_loss: 1.0741\n",
      "Epoch 3/20\n",
      "900/900 [==============================] - 9s 10ms/step - loss: 1.0178 - val_loss: 1.0769\n",
      "Epoch 4/20\n",
      "900/900 [==============================] - 9s 10ms/step - loss: 0.9653 - val_loss: 1.0625\n",
      "Epoch 5/20\n",
      "900/900 [==============================] - 9s 10ms/step - loss: 0.8684 - val_loss: 1.1392\n",
      "Epoch 6/20\n",
      "900/900 [==============================] - 9s 10ms/step - loss: 0.8056 - val_loss: 1.2741\n",
      "Epoch 7/20\n",
      "900/900 [==============================] - 9s 10ms/step - loss: 0.7374 - val_loss: 1.3848\n",
      "Epoch 8/20\n",
      "900/900 [==============================] - 9s 10ms/step - loss: 0.6918 - val_loss: 1.3790\n",
      "Epoch 9/20\n",
      "900/900 [==============================] - 10s 11ms/step - loss: 0.6099 - val_loss: 1.4200\n",
      "Epoch 10/20\n",
      "900/900 [==============================] - 10s 11ms/step - loss: 0.5751 - val_loss: 1.4453\n",
      "Epoch 11/20\n",
      "900/900 [==============================] - 11s 12ms/step - loss: 0.5704 - val_loss: 1.4963\n",
      "Epoch 12/20\n",
      "900/900 [==============================] - 11s 12ms/step - loss: 0.4961 - val_loss: 1.5579\n",
      "Epoch 13/20\n",
      "900/900 [==============================] - 10s 11ms/step - loss: 0.4639 - val_loss: 1.5617\n",
      "Epoch 14/20\n",
      "900/900 [==============================] - 10s 11ms/step - loss: 0.4254 - val_loss: 1.6458\n",
      "Epoch 15/20\n",
      "900/900 [==============================] - 12s 13ms/step - loss: 0.3919 - val_loss: 1.7884\n",
      "Epoch 16/20\n",
      "900/900 [==============================] - 11s 12ms/step - loss: 0.3401 - val_loss: 1.8057\n",
      "Epoch 17/20\n",
      "900/900 [==============================] - 10s 11ms/step - loss: 0.3351 - val_loss: 1.9031\n",
      "Epoch 18/20\n",
      "900/900 [==============================] - 10s 11ms/step - loss: 0.2650 - val_loss: 2.1204\n",
      "Epoch 19/20\n",
      "900/900 [==============================] - 9s 11ms/step - loss: 0.2557 - val_loss: 2.1519\n",
      "Epoch 20/20\n",
      "900/900 [==============================] - 9s 10ms/step - loss: 0.2507 - val_loss: 2.1549\n"
     ]
    },
    {
     "data": {
      "text/plain": [
       "<keras.callbacks.History at 0x1aa7150390>"
      ]
     },
     "execution_count": 232,
     "metadata": {},
     "output_type": "execute_result"
    }
   ],
   "source": [
    "from keras.models import Sequential\n",
    "from keras.layers import SpatialDropout1D, LSTM, Dense, Dropout, Bidirectional\n",
    "\n",
    "model = Sequential()\n",
    "\n",
    "model.add(BatchNormalization())\n",
    "model.add(SpatialDropout1D(0.3))\n",
    "\n",
    "model.add(Bidirectional(LSTM(300, dropout=0.3, recurrent_dropout=0.3)))\n",
    "\n",
    "model.add(Dense(1024, activation='relu'))\n",
    "model.add(Dropout(0.3))\n",
    "\n",
    "model.add(Dense(1024, activation='relu'))\n",
    "model.add(Dropout(0.3))\n",
    "\n",
    "model.add(Dense(3, activation='softmax'))\n",
    "\n",
    "model.compile(loss='categorical_crossentropy', optimizer='adam')\n",
    "\n",
    "model.fit(xtrain_w_tok, y=ytrain_enc, \n",
    "          batch_size=300, \n",
    "          epochs=20,\n",
    "          validation_data=(xtest_w_tok,ytest_enc),\n",
    "          verbose=1)"
   ]
  },
  {
   "cell_type": "code",
   "execution_count": 233,
   "metadata": {},
   "outputs": [
    {
     "name": "stderr",
     "output_type": "stream",
     "text": [
      "| |                                       #        | 8391 Elapsed Time: 0:00:03\n"
     ]
    },
    {
     "name": "stdout",
     "output_type": "stream",
     "text": [
      "8392/8392 [==============================] - 59s 7ms/step\n"
     ]
    }
   ],
   "source": [
    "xsub = data_test['text']\n",
    "xsub_w_tok = tokenize(xsub)\n",
    "\n",
    "y_w_enc = model.predict(xsub_w_tok,verbose=1)"
   ]
  },
  {
   "cell_type": "code",
   "execution_count": 234,
   "metadata": {},
   "outputs": [],
   "source": [
    "submission_w = pd.DataFrame(y_w_enc,columns=data_sample.columns[1:])\n",
    "submission_w['id'] = data_sample['id']\n",
    "cols = submission_w.columns.tolist()\n",
    "cols = cols[-1:] + cols[:-1]\n",
    "submission_w = submission_w[cols]"
   ]
  },
  {
   "cell_type": "code",
   "execution_count": 235,
   "metadata": {},
   "outputs": [],
   "source": [
    "submission_w.to_csv('submission_w_norm.zip',index=False,compression='zip')"
   ]
  }
 ],
 "metadata": {
  "kernelspec": {
   "display_name": "Python 3",
   "language": "python",
   "name": "python3"
  },
  "language_info": {
   "codemirror_mode": {
    "name": "ipython",
    "version": 3
   },
   "file_extension": ".py",
   "mimetype": "text/x-python",
   "name": "python",
   "nbconvert_exporter": "python",
   "pygments_lexer": "ipython3",
   "version": "3.6.8"
  }
 },
 "nbformat": 4,
 "nbformat_minor": 2
}
