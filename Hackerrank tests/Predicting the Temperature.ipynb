{
 "cells": [
  {
   "cell_type": "markdown",
   "metadata": {},
   "source": [
    "### Predicting the Temperature\n",
    "\n",
    "![part1](https://i.imgur.com/DczbtaQ.png)\n",
    "![part2](https://i.imgur.com/eTbEcv0.png)\n",
    "![part3](https://i.imgur.com/hhad1Iq.png)\n",
    "![part4](https://i.imgur.com/kw0hiQA.png)\n",
    "![part5](https://i.imgur.com/ATqecoS.png)"
   ]
  },
  {
   "cell_type": "markdown",
   "metadata": {},
   "source": [
    "Solved on Hackerrank (link accessible [here](https://www.hackerrank.com/challenges/temperature-predictions/problem))"
   ]
  },
  {
   "cell_type": "code",
   "execution_count": null,
   "metadata": {},
   "outputs": [],
   "source": []
  }
 ],
 "metadata": {
  "kernelspec": {
   "display_name": "Python 3",
   "language": "python",
   "name": "python3"
  },
  "language_info": {
   "codemirror_mode": {
    "name": "ipython",
    "version": 3
   },
   "file_extension": ".py",
   "mimetype": "text/x-python",
   "name": "python",
   "nbconvert_exporter": "python",
   "pygments_lexer": "ipython3",
   "version": "3.6.8"
  }
 },
 "nbformat": 4,
 "nbformat_minor": 2
}
