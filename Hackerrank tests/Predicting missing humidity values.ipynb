{
 "cells": [
  {
   "cell_type": "markdown",
   "metadata": {},
   "source": [
    "### Predicting missing humidity values\n",
    "\n",
    "![part1](https://i.imgur.com/qoZDXCW.png)\n",
    "![part2](https://i.imgur.com/89foUVT.png)\n",
    "![part3](https://i.imgur.com/exRxhbc.png)\n",
    "![part4](https://i.imgur.com/vHroqcJ.png)"
   ]
  },
  {
   "cell_type": "code",
   "execution_count": 33,
   "metadata": {},
   "outputs": [],
   "source": [
    "import numpy as np\n",
    "from datetime import datetime\n",
    "from sklearn.linear_model import LinearRegression\n",
    "\n",
    "def predictMissingHumidity(startDate, endDate, knownTimestamps, humidity, timestamps):\n",
    "    startDate = datetime.strptime(startDate, '%Y-%m-%d')\n",
    "    endDate = datetime.strptime(endDate, '%Y-%m-%d')\n",
    "    knownTimestamps = [datetime.strptime(date, '%Y-%m-%d %H:%M') for date in knownTimestamps]\n",
    "    timestamps = [datetime.strptime(date, '%Y-%m-%d %H:%M') for date in timestamps]\n",
    "    \n",
    "    y_train = humidity\n",
    "    X_train = [(i - startDate).total_seconds() for i in knownTimestamps]    \n",
    "    X_test = [(i - startDate).total_seconds() for i in timestamps]\n",
    "\n",
    "    \n",
    "    lm = LinearRegression()\n",
    "    lm.fit(np.array(X_train).reshape(-1, 1),y_train)\n",
    "    \n",
    "    y_test = lm.predict(np.array(X_test).reshape(-1, 1))\n",
    "    \n",
    "    return y_test"
   ]
  },
  {
   "cell_type": "code",
   "execution_count": 34,
   "metadata": {},
   "outputs": [],
   "source": [
    "startDate = '2013-01-01'\n",
    "endDate = '2013-01-01'\n",
    "knownTimestamps = ['2013-01-01 07:00', '2013-01-01 08:00', '2013-01-01 09:00', '2013-01-01 10:00',\n",
    "                      '2013-01-01 11:00', '2013-01-01 12:00']\n",
    "humidity = [10.0, 11.1, 13.2, 14.8, 15.6, 16.7]\n",
    "timestamps= ['2013-01-01 13:00', '2013-01-01 14:00']"
   ]
  },
  {
   "cell_type": "code",
   "execution_count": 35,
   "metadata": {},
   "outputs": [
    {
     "name": "stdout",
     "output_type": "stream",
     "text": [
      "[18.42666667 19.8152381 ]\n"
     ]
    }
   ],
   "source": [
    "answer = predictMissingHumidity(startDate, endDate, knownTimestamps, humidity, timestamps)\n",
    "print(answer)"
   ]
  },
  {
   "cell_type": "code",
   "execution_count": null,
   "metadata": {},
   "outputs": [],
   "source": [
    "Y = [int(input()) for _ in range(N)]\n",
    "\n",
    "Y = pd.DataFrame(Y,\n",
    "                 index=pd.date_range(start='10/01/2012', \n",
    "                                     periods=N+30,\n",
    "                                     freq='D'))\n",
    "\n",
    "df['DOW']=df.index.weekday\n",
    "df['month']=df.index.month\n",
    "df['dayofmonth']=df.index.day"
   ]
  },
  {
   "cell_type": "code",
   "execution_count": null,
   "metadata": {},
   "outputs": [],
   "source": [
    "for p in range(2):\n",
    "    for d in range(2):\n",
    "        for q in range(2):\n",
    "            param = [p,d,q]\n",
    "            seasonal_param = [p,d,q,s]          \n",
    "            model = SARIMAX(df_train, order=(p, d, q), seasonal_order=(p, d, q, s),  enforce_invertibility=False,  enforce_stationarity=False)\n",
    "            \n",
    "            results = model.fit(disp=0)\n",
    "            scores.append(['ARIMA{}x{} - AIC:{}'.format(param,seasonal_param, results.aic)])\n",
    "            \n",
    "for sc in scores:\n",
    "    print(sc)"
   ]
  }
 ],
 "metadata": {
  "kernelspec": {
   "display_name": "Python 3",
   "language": "python",
   "name": "python3"
  },
  "language_info": {
   "codemirror_mode": {
    "name": "ipython",
    "version": 3
   },
   "file_extension": ".py",
   "mimetype": "text/x-python",
   "name": "python",
   "nbconvert_exporter": "python",
   "pygments_lexer": "ipython3",
   "version": "3.6.8"
  }
 },
 "nbformat": 4,
 "nbformat_minor": 2
}
