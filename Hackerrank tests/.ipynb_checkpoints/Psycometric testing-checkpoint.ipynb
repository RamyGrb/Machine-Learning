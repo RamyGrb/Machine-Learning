{
 "cells": [
  {
   "cell_type": "markdown",
   "metadata": {},
   "source": [
    "### Psycomatric testing"
   ]
  },
  {
   "cell_type": "code",
   "execution_count": 14,
   "metadata": {},
   "outputs": [],
   "source": [
    "def jobOffers(scores,lowerLimits,upperLimits):\n",
    "    count = [0]*len(lowerLimits)\n",
    "    \n",
    "    for s in scores:\n",
    "        for i in range(len(lowerLimits)):\n",
    "            if s>=lowerLimits[i] and s<=upperLimits[i]:\n",
    "                count[i] += 1\n",
    "    \n",
    "    return count"
   ]
  },
  {
   "cell_type": "code",
   "execution_count": 15,
   "metadata": {},
   "outputs": [
    {
     "data": {
      "text/plain": [
       "[3, 4]"
      ]
     },
     "execution_count": 15,
     "metadata": {},
     "output_type": "execute_result"
    }
   ],
   "source": [
    "scores = [1,3,5,6,8]\n",
    "lowerLimits = [2,3]\n",
    "upperLimits = [6,8]\n",
    "\n",
    "jobOffers(scores,lowerLimits,upperLimits)"
   ]
  }
 ],
 "metadata": {
  "kernelspec": {
   "display_name": "Python 3",
   "language": "python",
   "name": "python3"
  },
  "language_info": {
   "codemirror_mode": {
    "name": "ipython",
    "version": 3
   },
   "file_extension": ".py",
   "mimetype": "text/x-python",
   "name": "python",
   "nbconvert_exporter": "python",
   "pygments_lexer": "ipython3",
   "version": "3.6.8"
  }
 },
 "nbformat": 4,
 "nbformat_minor": 2
}
